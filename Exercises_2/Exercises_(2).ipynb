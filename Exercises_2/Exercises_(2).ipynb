{
  "cells": [
    {
      "cell_type": "markdown",
      "metadata": {
        "id": "view-in-github",
        "colab_type": "text"
      },
      "source": [
        "<a href=\"https://colab.research.google.com/github/mimomaina/pythondataanalysis/blob/main/Exercises_(2).ipynb\" target=\"_parent\"><img src=\"https://colab.research.google.com/assets/colab-badge.svg\" alt=\"Open In Colab\"/></a>"
      ]
    },
    {
      "cell_type": "markdown",
      "metadata": {
        "id": "9nUsgWVBmtXS"
      },
      "source": [
        "# Ex1 - Filtering and Sorting Data"
      ]
    },
    {
      "cell_type": "markdown",
      "metadata": {
        "id": "Um7sZ8MAmtXY"
      },
      "source": [
        "This time we are going to pull data directly from the internet.\n",
        "Special thanks to: https://github.com/justmarkham for sharing the dataset and materials.\n",
        "\n",
        "### Step 1. Import the necessary libraries"
      ]
    },
    {
      "cell_type": "code",
      "execution_count": 1,
      "metadata": {
        "id": "1EJsfezemtXa"
      },
      "outputs": [],
      "source": [
        "import pandas as pd"
      ]
    },
    {
      "cell_type": "markdown",
      "metadata": {
        "id": "ajsHlCOTmtXb"
      },
      "source": [
        "### Step 2. Import the dataset from this [address](https://raw.githubusercontent.com/justmarkham/DAT8/master/data/chipotle.tsv)."
      ]
    },
    {
      "cell_type": "markdown",
      "metadata": {
        "id": "cSfy4g6omtXc"
      },
      "source": [
        "### Step 3. Assign it to a variable called chipo."
      ]
    },
    {
      "cell_type": "code",
      "source": [
        "\n",
        "chipo = pd.read_csv('https://raw.githubusercontent.com/justmarkham/DAT8/master/data/chipotle.tsv', sep='\\t')"
      ],
      "metadata": {
        "id": "A2xy9kGvnMkr"
      },
      "execution_count": 2,
      "outputs": []
    },
    {
      "cell_type": "markdown",
      "metadata": {
        "id": "4AlzMFLdmtXd"
      },
      "source": [
        "### Step 4. How many products cost more than $10.00?"
      ]
    },
    {
      "cell_type": "code",
      "execution_count": 3,
      "metadata": {
        "colab": {
          "base_uri": "https://localhost:8080/"
        },
        "id": "8G_W8-6MmtXd",
        "outputId": "63bb59f2-75a6-4296-d2a9-db08c4cf66b5"
      },
      "outputs": [
        {
          "output_type": "stream",
          "name": "stdout",
          "text": [
            "Number of products that cost more than $10.00: 1130\n"
          ]
        }
      ],
      "source": [
        "chipo['item_price'] = chipo['item_price'].replace({'\\$': '', '': ''}, regex=True).astype(float)\n",
        "expensive_products = chipo[chipo['item_price'] > 10]\n",
        "number_of_expensive_products = expensive_products.shape[0]\n",
        "\n",
        "print(f'Number of products that cost more than $10.00: {number_of_expensive_products}')"
      ]
    },
    {
      "cell_type": "markdown",
      "metadata": {
        "id": "_bSEDk-XmtXe"
      },
      "source": [
        "### Step 5. What is the price of each item?\n",
        "###### print a data frame with only two columns item_name and item_price"
      ]
    },
    {
      "cell_type": "code",
      "execution_count": 4,
      "metadata": {
        "colab": {
          "base_uri": "https://localhost:8080/"
        },
        "id": "u_6xQuVCmtXe",
        "outputId": "1aa233b0-4500-4379-8caa-04b58be3cd35"
      },
      "outputs": [
        {
          "output_type": "stream",
          "name": "stdout",
          "text": [
            "                                  item_name  item_price\n",
            "0              Chips and Fresh Tomato Salsa        2.39\n",
            "1                                      Izze        3.39\n",
            "2                          Nantucket Nectar        3.39\n",
            "3     Chips and Tomatillo-Green Chili Salsa        2.39\n",
            "4                              Chicken Bowl       16.98\n",
            "...                                     ...         ...\n",
            "4617                          Steak Burrito       11.75\n",
            "4618                          Steak Burrito       11.75\n",
            "4619                     Chicken Salad Bowl       11.25\n",
            "4620                     Chicken Salad Bowl        8.75\n",
            "4621                     Chicken Salad Bowl        8.75\n",
            "\n",
            "[4622 rows x 2 columns]\n"
          ]
        }
      ],
      "source": [
        "# Convert 'item_price' to numeric (removing the dollar sign)\n",
        "chipo['item_price'] = chipo['item_price'].replace({'\\$': '', '': ''}, regex=True).astype(float)\n",
        "\n",
        "# Select only the 'item_name' and 'item_price' columns\n",
        "price_df = chipo[['item_name', 'item_price']]\n",
        "\n",
        "# Print the resulting DataFrame\n",
        "print(price_df)"
      ]
    },
    {
      "cell_type": "markdown",
      "metadata": {
        "id": "zF2CptRlmtXe"
      },
      "source": [
        "### Step 6. Sort by the name of the item"
      ]
    },
    {
      "cell_type": "code",
      "execution_count": 5,
      "metadata": {
        "colab": {
          "base_uri": "https://localhost:8080/"
        },
        "id": "qZdHX2L2mtXe",
        "outputId": "a2631978-2814-4cca-d836-50b34393d490"
      },
      "outputs": [
        {
          "output_type": "stream",
          "name": "stdout",
          "text": [
            "              item_name  item_price\n",
            "3389  6 Pack Soft Drink       12.98\n",
            "341   6 Pack Soft Drink        6.49\n",
            "1849  6 Pack Soft Drink        6.49\n",
            "1860  6 Pack Soft Drink        6.49\n",
            "2713  6 Pack Soft Drink        6.49\n",
            "...                 ...         ...\n",
            "2384  Veggie Soft Tacos        8.75\n",
            "781   Veggie Soft Tacos        8.75\n",
            "2851  Veggie Soft Tacos        8.49\n",
            "1699  Veggie Soft Tacos       11.25\n",
            "1395  Veggie Soft Tacos        8.49\n",
            "\n",
            "[4622 rows x 2 columns]\n"
          ]
        }
      ],
      "source": [
        "# Convert 'item_price' to numeric (removing the dollar sign)\n",
        "chipo['item_price'] = chipo['item_price'].replace({'\\$': '', '': ''}, regex=True).astype(float)\n",
        "\n",
        "# Select only the 'item_name' and 'item_price' columns\n",
        "price_df = chipo[['item_name', 'item_price']]\n",
        "\n",
        "# Sort by 'item_name'\n",
        "sorted_price_df = price_df.sort_values(by='item_name')\n",
        "\n",
        "# Print the sorted DataFrame\n",
        "print(sorted_price_df)"
      ]
    },
    {
      "cell_type": "markdown",
      "metadata": {
        "id": "oeDnn8JOmtXf"
      },
      "source": [
        "### Step 7. What was the quantity of the most expensive item ordered?"
      ]
    },
    {
      "cell_type": "code",
      "execution_count": 6,
      "metadata": {
        "colab": {
          "base_uri": "https://localhost:8080/"
        },
        "id": "Q_fgrYuamtXf",
        "outputId": "65e3fdd5-224e-48b1-e99a-6bf044509a5f"
      },
      "outputs": [
        {
          "output_type": "stream",
          "name": "stdout",
          "text": [
            "The quantity of the most expensive item ordered is: 15\n"
          ]
        }
      ],
      "source": [
        "# Convert 'item_price' to numeric (removing the dollar sign)\n",
        "chipo['item_price'] = chipo['item_price'].replace({'\\$': '', '': ''}, regex=True).astype(float)\n",
        "\n",
        "# Step 1: Find the maximum price\n",
        "max_price = chipo['item_price'].max()\n",
        "\n",
        "# Step 2: Filter for items with that maximum price\n",
        "most_expensive_item = chipo[chipo['item_price'] == max_price]\n",
        "\n",
        "# Step 3: Get the quantity of that item ordered\n",
        "quantity_of_most_expensive_item = most_expensive_item['quantity'].sum()\n",
        "\n",
        "print(f'The quantity of the most expensive item ordered is: {quantity_of_most_expensive_item}')"
      ]
    },
    {
      "cell_type": "markdown",
      "metadata": {
        "id": "F33dCcCRmtXf"
      },
      "source": [
        "### Step 8. How many times was a Veggie Salad Bowl ordered?"
      ]
    },
    {
      "cell_type": "code",
      "execution_count": 7,
      "metadata": {
        "colab": {
          "base_uri": "https://localhost:8080/"
        },
        "id": "z6R22H6umtXf",
        "outputId": "b84ee9b5-78ec-4df0-977c-57c6c75c1506"
      },
      "outputs": [
        {
          "output_type": "stream",
          "name": "stdout",
          "text": [
            "The Veggie Salad Bowl was ordered 18 times.\n"
          ]
        }
      ],
      "source": [
        "# Step 1: Filter for Veggie Salad Bowl\n",
        "veggie_salad_orders = chipo[chipo['item_name'] == 'Veggie Salad Bowl']\n",
        "\n",
        "# Step 2: Sum the quantities of Veggie Salad Bowl ordered\n",
        "total_veggie_salad_ordered = veggie_salad_orders['quantity'].sum()\n",
        "\n",
        "print(f'The Veggie Salad Bowl was ordered {total_veggie_salad_ordered} times.')"
      ]
    },
    {
      "cell_type": "markdown",
      "metadata": {
        "id": "gjqFFq_9mtXf"
      },
      "source": [
        "### Step 9. How many times did someone order more than one Canned Soda?"
      ]
    },
    {
      "cell_type": "code",
      "execution_count": 8,
      "metadata": {
        "colab": {
          "base_uri": "https://localhost:8080/"
        },
        "id": "HjlK3426mtXf",
        "outputId": "85f9327b-705f-484d-d992-e632ed8b060d"
      },
      "outputs": [
        {
          "output_type": "stream",
          "name": "stdout",
          "text": [
            "The number of times more than one Canned Soda was ordered: 20\n"
          ]
        }
      ],
      "source": [
        "# Step 1: Filter for Canned Soda orders\n",
        "canned_soda_orders = chipo[chipo['item_name'] == 'Canned Soda']\n",
        "\n",
        "# Step 2: Count how many times more than one Canned Soda was ordered\n",
        "orders_with_multiple_canned_sodas = canned_soda_orders[canned_soda_orders['quantity'] > 1]\n",
        "\n",
        "# Step 3: Get the total count of such orders\n",
        "total_multiple_canned_sodas_ordered = orders_with_multiple_canned_sodas.shape[0]\n",
        "\n",
        "print(f'The number of times more than one Canned Soda was ordered: {total_multiple_canned_sodas_ordered}')"
      ]
    },
    {
      "cell_type": "code",
      "source": [],
      "metadata": {
        "id": "VrWGCiAjoNa1"
      },
      "execution_count": null,
      "outputs": []
    }
  ],
  "metadata": {
    "kernelspec": {
      "display_name": "Python 2",
      "language": "python",
      "name": "python2"
    },
    "language_info": {
      "codemirror_mode": {
        "name": "ipython",
        "version": 2
      },
      "file_extension": ".py",
      "mimetype": "text/x-python",
      "name": "python",
      "nbconvert_exporter": "python",
      "pygments_lexer": "ipython2",
      "version": "2.7.11"
    },
    "colab": {
      "provenance": [],
      "include_colab_link": true
    }
  },
  "nbformat": 4,
  "nbformat_minor": 0
}