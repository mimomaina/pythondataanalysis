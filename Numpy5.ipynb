{
  "cells": [
    {
      "cell_type": "markdown",
      "metadata": {
        "id": "view-in-github",
        "colab_type": "text"
      },
      "source": [
        "<a href=\"https://colab.research.google.com/github/mimomaina/pythondataanalysis/blob/main/Numpy5.ipynb\" target=\"_parent\"><img src=\"https://colab.research.google.com/assets/colab-badge.svg\" alt=\"Open In Colab\"/></a>"
      ]
    },
    {
      "cell_type": "markdown",
      "metadata": {
        "id": "PCZg6c5sQex2"
      },
      "source": [
        "# Numpy Exercise 5\n",
        "\n",
        "### All of the questions in this exercise are attributed to rougier/numpy-100"
      ]
    },
    {
      "cell_type": "code",
      "execution_count": 2,
      "metadata": {
        "id": "1DVwLa65Qex7"
      },
      "outputs": [],
      "source": [
        "import numpy as np"
      ]
    },
    {
      "cell_type": "markdown",
      "metadata": {
        "id": "kTj2nG15Qex9"
      },
      "source": [
        "#### 61. Find the nearest value from a given value in an array (★★☆)"
      ]
    },
    {
      "cell_type": "code",
      "execution_count": 3,
      "metadata": {
        "colab": {
          "base_uri": "https://localhost:8080/"
        },
        "id": "jhdXhCL4Qex-",
        "outputId": "6885848a-a893-4d2b-ac77-28398b36b62b"
      },
      "outputs": [
        {
          "output_type": "stream",
          "name": "stdout",
          "text": [
            "Array: [42.64299219 73.09489194 47.26463512  4.8027526  90.74742482 24.86147469\n",
            " 43.65754889 42.6724135  33.40464178 50.228519  ]\n",
            "Nearest to 50 : 50.2285189971833\n"
          ]
        }
      ],
      "source": [
        "array = np.random.uniform(0, 100, 10)\n",
        "value = 50\n",
        "nearest = array[np.abs(array - value).argmin()]\n",
        "print(\"Array:\", array)\n",
        "print(\"Nearest to\", value, \":\", nearest)\n"
      ]
    },
    {
      "cell_type": "markdown",
      "metadata": {
        "id": "wWEYEGWmQex-"
      },
      "source": [
        "#### 62. Considering two arrays with shape (1,3) and (3,1), how to compute their sum using an iterator? (★★☆)"
      ]
    },
    {
      "cell_type": "code",
      "execution_count": 4,
      "metadata": {
        "colab": {
          "base_uri": "https://localhost:8080/"
        },
        "id": "XfDQBJIfQex_",
        "outputId": "e8ebca43-fe05-4351-d3e7-e287dcd85d48"
      },
      "outputs": [
        {
          "output_type": "stream",
          "name": "stdout",
          "text": [
            "[[0 1 2]\n",
            " [1 2 3]\n",
            " [2 3 4]]\n"
          ]
        }
      ],
      "source": [
        "A = np.arange(3).reshape(1, 3)\n",
        "B = np.arange(3).reshape(3, 1)\n",
        "it = np.nditer([A, B, None])\n",
        "for x, y, z in it:\n",
        "    z[...] = x + y\n",
        "print(it.operands[2])\n"
      ]
    },
    {
      "cell_type": "markdown",
      "metadata": {
        "id": "wJK7By1RQeyA"
      },
      "source": [
        "#### 63. Create an array class that has a name attribute (★★☆)"
      ]
    },
    {
      "cell_type": "code",
      "execution_count": 5,
      "metadata": {
        "colab": {
          "base_uri": "https://localhost:8080/"
        },
        "id": "T6lGodk8QeyB",
        "outputId": "e18064e3-4391-43eb-a831-ebe2fddda01a"
      },
      "outputs": [
        {
          "output_type": "stream",
          "name": "stdout",
          "text": [
            "MyArray\n"
          ]
        }
      ],
      "source": [
        "class NamedArray(np.ndarray):\n",
        "    def __new__(cls, input_array, name=\"\"):\n",
        "        obj = np.asarray(input_array).view(cls)\n",
        "        obj.name = name\n",
        "        return obj\n",
        "\n",
        "array = NamedArray(np.arange(10), name=\"MyArray\")\n",
        "print(array.name)\n"
      ]
    },
    {
      "cell_type": "markdown",
      "metadata": {
        "id": "FhSsd6kPQeyC"
      },
      "source": [
        "#### 64. Consider a given vector, how to add 1 to each element indexed by a second vector (be careful with repeated indices)? (★★★)"
      ]
    },
    {
      "cell_type": "code",
      "execution_count": 6,
      "metadata": {
        "colab": {
          "base_uri": "https://localhost:8080/"
        },
        "id": "BKB45RUXQeyC",
        "outputId": "ee5e50bf-2078-4625-8d23-4508829ce029"
      },
      "outputs": [
        {
          "output_type": "stream",
          "name": "stdout",
          "text": [
            "[1. 2. 3. 2. 1. 2. 1. 1. 1. 1.]\n"
          ]
        }
      ],
      "source": [
        "vector = np.ones(10)\n",
        "indices = [1, 2, 3, 2, 5]\n",
        "np.add.at(vector, indices, 1)\n",
        "print(vector)\n"
      ]
    },
    {
      "cell_type": "markdown",
      "metadata": {
        "id": "sWYJWcQ2QeyD"
      },
      "source": [
        "#### 65. How to accumulate elements of a vector (X) to an array (F) based on an index list (I)? (★★★)"
      ]
    },
    {
      "cell_type": "code",
      "execution_count": 7,
      "metadata": {
        "colab": {
          "base_uri": "https://localhost:8080/"
        },
        "id": "_WB5C-uqQeyE",
        "outputId": "42327c2b-9242-46b4-d76c-450f41d79c01"
      },
      "outputs": [
        {
          "output_type": "stream",
          "name": "stdout",
          "text": [
            "[1. 2. 3. 4. 5. 0.]\n"
          ]
        }
      ],
      "source": [
        "X = [1, 2, 3, 4, 5]\n",
        "I = [0, 1, 2, 3, 4]\n",
        "F = np.zeros(6)\n",
        "np.add.at(F, I, X)\n",
        "print(F)  # F accumulates values from X based on indices I\n"
      ]
    },
    {
      "cell_type": "markdown",
      "metadata": {
        "id": "tNiA2WGjQeyE"
      },
      "source": [
        "#### 66. Considering a (w,h,3) image of (dtype=ubyte), compute the number of unique colors (★★☆)"
      ]
    },
    {
      "cell_type": "code",
      "execution_count": 8,
      "metadata": {
        "colab": {
          "base_uri": "https://localhost:8080/"
        },
        "id": "MQ_P5la-QeyE",
        "outputId": "d9123d9a-957a-436e-eacf-6c36917cdd7a"
      },
      "outputs": [
        {
          "output_type": "stream",
          "name": "stdout",
          "text": [
            "Unique colors: 65395\n"
          ]
        }
      ],
      "source": [
        "image = np.random.randint(0, 256, (256, 256, 3), dtype=np.uint8)\n",
        "unique_colors = len(np.unique(image.reshape(-1, 3), axis=0))\n",
        "print(\"Unique colors:\", unique_colors)\n"
      ]
    },
    {
      "cell_type": "markdown",
      "metadata": {
        "id": "2sP5YWubQeyF"
      },
      "source": [
        "#### 67. Considering a four dimensions array, how to get sum over the last two axis at once? (★★★)"
      ]
    },
    {
      "cell_type": "code",
      "execution_count": 9,
      "metadata": {
        "colab": {
          "base_uri": "https://localhost:8080/"
        },
        "id": "vTskZaQIQeyF",
        "outputId": "db9f202b-acdc-472e-e117-9a9a42d6d95d"
      },
      "outputs": [
        {
          "output_type": "stream",
          "name": "stdout",
          "text": [
            "(4, 3)\n"
          ]
        }
      ],
      "source": [
        "array = np.random.random((4, 3, 4, 5))\n",
        "result = array.sum(axis=(-2, -1))\n",
        "print(result.shape)\n"
      ]
    },
    {
      "cell_type": "markdown",
      "metadata": {
        "id": "MjBRORd2QeyF"
      },
      "source": [
        "#### 68. Considering a one-dimensional vector D, how to compute means of subsets of D using a vector S of same size describing subset  indices? (★★★)"
      ]
    },
    {
      "cell_type": "code",
      "execution_count": 10,
      "metadata": {
        "colab": {
          "base_uri": "https://localhost:8080/"
        },
        "id": "FwzHLOOPQeyG",
        "outputId": "19d88de4-9dae-4f52-b6ac-9f07c065d094"
      },
      "outputs": [
        {
          "output_type": "stream",
          "name": "stdout",
          "text": [
            "Means by subset: [0.0842285712414862, 0.5052932437846632, 0.5562896082762995]\n"
          ]
        }
      ],
      "source": [
        "D = np.random.random(10)\n",
        "S = np.random.randint(0, 3, 10)\n",
        "means = [D[S == i].mean() for i in np.unique(S)]\n",
        "print(\"Means by subset:\", means)\n"
      ]
    },
    {
      "cell_type": "markdown",
      "metadata": {
        "id": "KxZDdupaQeyG"
      },
      "source": [
        "#### 69. How to get the diagonal of a dot product? (★★★)"
      ]
    },
    {
      "cell_type": "code",
      "execution_count": 11,
      "metadata": {
        "colab": {
          "base_uri": "https://localhost:8080/"
        },
        "id": "JjyGla51QeyH",
        "outputId": "6bce348e-2484-4456-cde7-fa2528f92706"
      },
      "outputs": [
        {
          "output_type": "stream",
          "name": "stdout",
          "text": [
            "[1.76035171 1.52785898 0.75853939 1.70166934 0.54131933]\n"
          ]
        }
      ],
      "source": [
        "A = np.random.random((5, 5))\n",
        "B = np.random.random((5, 5))\n",
        "diagonal = np.sum(A * B.T, axis=1)  # Dot product diagonal\n",
        "print(diagonal)\n"
      ]
    },
    {
      "cell_type": "markdown",
      "metadata": {
        "id": "nqWDgZ2wQeyH"
      },
      "source": [
        "#### 70. Consider the vector [1, 2, 3, 4, 5], how to build a new vector with 3 consecutive zeros interleaved between each value? (★★★)"
      ]
    },
    {
      "cell_type": "code",
      "execution_count": 12,
      "metadata": {
        "colab": {
          "base_uri": "https://localhost:8080/"
        },
        "id": "KUrWNU2PQeyH",
        "outputId": "5dbb43f1-860d-4555-ceb9-0eec73623abb"
      },
      "outputs": [
        {
          "output_type": "stream",
          "name": "stdout",
          "text": [
            "[1. 0. 0. 0. 2. 0. 0. 0. 3. 0. 0. 0. 4. 0. 0. 0. 5.]\n"
          ]
        }
      ],
      "source": [
        "Z = np.array([1, 2, 3, 4, 5])\n",
        "new_vector = np.zeros(len(Z) + (len(Z) - 1) * 3)\n",
        "new_vector[::4] = Z\n",
        "print(new_vector)\n"
      ]
    },
    {
      "cell_type": "markdown",
      "metadata": {
        "id": "Vg03qTJvQeyH"
      },
      "source": [
        "#### 71. Consider an array of dimension (5,5,3), how to mulitply it by an array with dimensions (5,5)? (★★★)"
      ]
    },
    {
      "cell_type": "code",
      "execution_count": 13,
      "metadata": {
        "colab": {
          "base_uri": "https://localhost:8080/"
        },
        "id": "J1AUKtiTQeyI",
        "outputId": "415b9fd8-9f99-4bef-835e-bac8ae434cae"
      },
      "outputs": [
        {
          "output_type": "stream",
          "name": "stdout",
          "text": [
            "(5, 5, 3)\n"
          ]
        }
      ],
      "source": [
        "A = np.random.random((5, 5, 3))\n",
        "B = np.random.random((5, 5))\n",
        "result = A * B[:, :, None]\n",
        "print(result.shape)\n"
      ]
    },
    {
      "cell_type": "markdown",
      "metadata": {
        "id": "ChhWMJ-AQeyI"
      },
      "source": [
        "#### 72. How to swap two rows of an array? (★★★)"
      ]
    },
    {
      "cell_type": "code",
      "execution_count": 14,
      "metadata": {
        "colab": {
          "base_uri": "https://localhost:8080/"
        },
        "id": "kb9sVQE0QeyI",
        "outputId": "6c256c7b-2222-4356-9ce2-3bdf400c323f"
      },
      "outputs": [
        {
          "output_type": "stream",
          "name": "stdout",
          "text": [
            "[[ 5  6  7  8  9]\n",
            " [ 0  1  2  3  4]\n",
            " [10 11 12 13 14]\n",
            " [15 16 17 18 19]\n",
            " [20 21 22 23 24]]\n"
          ]
        }
      ],
      "source": [
        "array = np.arange(25).reshape(5, 5)\n",
        "array[[0, 1]] = array[[1, 0]]  # Swaps row 0 and row 1\n",
        "print(array)\n"
      ]
    },
    {
      "cell_type": "markdown",
      "metadata": {
        "id": "NiX4atEEQeyI"
      },
      "source": [
        "#### 73. Consider a set of 10 triplets describing 10 triangles (with shared vertices), find the set of unique line segments composing all the  triangles (★★★)"
      ]
    },
    {
      "cell_type": "code",
      "execution_count": 15,
      "metadata": {
        "colab": {
          "base_uri": "https://localhost:8080/"
        },
        "id": "KWmGIiIYQeyJ",
        "outputId": "25450c70-ccc8-4c49-c1dd-2cc8344f493b"
      },
      "outputs": [
        {
          "output_type": "stream",
          "name": "stdout",
          "text": [
            "[[0 5]\n",
            " [0 7]\n",
            " [1 2]\n",
            " [1 4]\n",
            " [1 6]\n",
            " [1 8]\n",
            " [2 2]\n",
            " [2 4]\n",
            " [2 6]\n",
            " [2 9]\n",
            " [4 6]\n",
            " [4 7]\n",
            " [4 8]\n",
            " [5 6]\n",
            " [5 7]\n",
            " [6 7]\n",
            " [6 8]\n",
            " [6 9]\n",
            " [7 7]\n",
            " [8 8]\n",
            " [8 9]]\n"
          ]
        }
      ],
      "source": [
        "triangles = np.random.randint(0, 10, (10, 3))  # 10 triangles with shared vertices\n",
        "segments = np.sort(np.array([triangles[:, [0, 1]],\n",
        "                             triangles[:, [1, 2]],\n",
        "                             triangles[:, [2, 0]]]).reshape(-1, 2), axis=1)\n",
        "unique_segments = np.unique(segments, axis=0)\n",
        "print(unique_segments)\n"
      ]
    },
    {
      "cell_type": "markdown",
      "metadata": {
        "id": "LNWTbN6zQeyJ"
      },
      "source": [
        "#### 74. Given a sorted array C that corresponds to a bincount, how to produce an array A such that np.bincount(A) == C? (★★★)"
      ]
    },
    {
      "cell_type": "code",
      "execution_count": 16,
      "metadata": {
        "colab": {
          "base_uri": "https://localhost:8080/"
        },
        "id": "q3Tze_VIQeyJ",
        "outputId": "a7ec4dcc-0e6f-4663-bb4a-2d504404a89d"
      },
      "outputs": [
        {
          "output_type": "stream",
          "name": "stdout",
          "text": [
            "[0 0 0 1 1 2]\n"
          ]
        }
      ],
      "source": [
        "C = np.array([3, 2, 1])\n",
        "A = np.repeat(np.arange(len(C)), C)\n",
        "print(A)\n"
      ]
    },
    {
      "cell_type": "markdown",
      "metadata": {
        "id": "jbhEhJpmQeyK"
      },
      "source": [
        "#### 75. How to compute averages using a sliding window over an array? (★★★)"
      ]
    },
    {
      "cell_type": "code",
      "execution_count": 17,
      "metadata": {
        "colab": {
          "base_uri": "https://localhost:8080/"
        },
        "id": "-pQtn6u3QeyK",
        "outputId": "77cc97a4-4076-4c2e-90bc-096bb4dc62e9"
      },
      "outputs": [
        {
          "output_type": "stream",
          "name": "stdout",
          "text": [
            "[1. 2. 3. 4. 5. 6. 7. 8.]\n"
          ]
        }
      ],
      "source": [
        "array = np.arange(10)\n",
        "window_size = 3\n",
        "averages = np.convolve(array, np.ones(window_size)/window_size, mode='valid')\n",
        "print(averages)\n"
      ]
    },
    {
      "cell_type": "markdown",
      "metadata": {
        "id": "tnDEgwJqQeyK"
      },
      "source": [
        "#### 76. Consider a one-dimensional array Z, build a two-dimensional array whose first row is (Z[0],Z[1],Z[2]) and each subsequent row is  shifted by 1 (last row should be (Z[-3],Z[-2],Z[-1]) (★★★)"
      ]
    },
    {
      "cell_type": "code",
      "execution_count": 18,
      "metadata": {
        "colab": {
          "base_uri": "https://localhost:8080/"
        },
        "id": "cXqUu04GQeyL",
        "outputId": "caf02914-7053-494f-af7f-b82bf9d935e7"
      },
      "outputs": [
        {
          "output_type": "stream",
          "name": "stdout",
          "text": [
            "[[ 1  2  3]\n",
            " [ 2  3  4]\n",
            " [ 3  4  5]\n",
            " [ 4  5  6]\n",
            " [ 5  6  7]\n",
            " [ 6  7  8]\n",
            " [ 7  8  9]\n",
            " [ 8  9 10]\n",
            " [ 9 10 11]\n",
            " [10 11 12]\n",
            " [11 12 13]\n",
            " [12 13 14]]\n"
          ]
        }
      ],
      "source": [
        "Z = np.arange(1, 15)\n",
        "shape = (Z.size - 3 + 1, 3)\n",
        "result = np.lib.stride_tricks.sliding_window_view(Z, 3)\n",
        "print(result)\n"
      ]
    },
    {
      "cell_type": "markdown",
      "metadata": {
        "id": "3iA49bdjQeyL"
      },
      "source": [
        "#### 77. How to negate a boolean, or to change the sign of a float inplace? (★★★)"
      ]
    },
    {
      "cell_type": "code",
      "execution_count": 19,
      "metadata": {
        "colab": {
          "base_uri": "https://localhost:8080/"
        },
        "id": "lp4-f75cQeyL",
        "outputId": "9c9b069a-44b7-4327-f866-52945edac1bb"
      },
      "outputs": [
        {
          "output_type": "stream",
          "name": "stdout",
          "text": [
            "[False  True False]\n",
            "[-1.   2.5 -3. ]\n"
          ]
        }
      ],
      "source": [
        "# Negate a boolean array\n",
        "bool_array = np.array([True, False, True])\n",
        "np.logical_not(bool_array, out=bool_array)\n",
        "print(bool_array)\n",
        "\n",
        "# Change the sign of a float array\n",
        "float_array = np.array([1.0, -2.5, 3.0])\n",
        "np.negative(float_array, out=float_array)\n",
        "print(float_array)\n"
      ]
    },
    {
      "cell_type": "markdown",
      "metadata": {
        "id": "Wt4pdauMQeyM"
      },
      "source": [
        "#### 78. Consider 2 sets of points P0,P1 describing lines (2d) and a point p, how to compute distance from p to each line i (P0[i],P1[i])? (★★★)"
      ]
    },
    {
      "cell_type": "code",
      "execution_count": 20,
      "metadata": {
        "colab": {
          "base_uri": "https://localhost:8080/"
        },
        "id": "pwp-waf8QeyM",
        "outputId": "851ad95d-c352-402d-d161-c3e8e75a2bd5"
      },
      "outputs": [
        {
          "output_type": "stream",
          "name": "stdout",
          "text": [
            "[0.50130819 0.19549072 0.14701289 0.29717131 0.41433825 0.22307048\n",
            " 0.15966857 0.09601461 0.18554161 0.35451751]\n"
          ]
        }
      ],
      "source": [
        "P0 = np.random.random((10, 2))\n",
        "P1 = np.random.random((10, 2))\n",
        "p = np.random.random((1, 2))\n",
        "\n",
        "# Distance computation\n",
        "d = np.abs(np.cross(P1 - P0, P0 - p)) / np.linalg.norm(P1 - P0, axis=1)\n",
        "print(d)\n"
      ]
    },
    {
      "cell_type": "markdown",
      "metadata": {
        "id": "x6x1qj7eQeyM"
      },
      "source": [
        "#### 79. Consider 2 sets of points P0,P1 describing lines (2d) and a set of points P, how to compute distance from each point j (P[j]) to each line i (P0[i],P1[i])? (★★★)"
      ]
    },
    {
      "cell_type": "code",
      "execution_count": 24,
      "metadata": {
        "colab": {
          "base_uri": "https://localhost:8080/"
        },
        "id": "LuPzCW-pQeyO",
        "outputId": "7b4e3c9a-20e6-42c0-c221-8d668d3e1537"
      },
      "outputs": [
        {
          "output_type": "stream",
          "name": "stdout",
          "text": [
            "[[0.47195659 0.40230336 0.15421721 0.19350983 0.08747378]\n",
            " [0.54591964 0.32457674 0.39909004 0.24765229 0.28710553]\n",
            " [0.00062934 0.23163008 0.04835698 0.2127418  0.01512128]\n",
            " [0.16535497 0.34786658 0.24837364 0.05090114 0.1846723 ]\n",
            " [0.26714519 0.22815635 0.05564728 0.3056768  0.2662752 ]\n",
            " [0.35387246 0.48597627 0.46821627 0.11554788 0.39815467]\n",
            " [0.46769112 0.21179855 0.37455973 0.33662369 0.32080336]\n",
            " [0.20591244 0.15192913 0.08933663 0.27036627 0.26646236]\n",
            " [0.10122699 0.27209971 0.20820389 0.02550217 0.17551533]\n",
            " [0.28613998 0.29097481 0.09229973 0.4282436  0.35257843]]\n"
          ]
        }
      ],
      "source": [
        "P0 = np.random.random((5, 2))  # 5 starting points of lines\n",
        "P1 = np.random.random((5, 2))  # 5 ending points of lines\n",
        "P = np.random.random((10, 2))  # 10 points\n",
        "\n",
        "# Compute distances\n",
        "line_vec = P1 - P0\n",
        "point_vec = P[:, None, :] - P0\n",
        "proj_len = np.sum(point_vec * line_vec, axis=2) / np.sum(line_vec**2, axis=1)\n",
        "proj = P0 + proj_len[..., None] * line_vec\n",
        "distances = np.linalg.norm(P[:, None, :] - proj, axis=2)\n",
        "print(distances)\n"
      ]
    },
    {
      "cell_type": "markdown",
      "metadata": {
        "id": "gi0wSJlgQeyP"
      },
      "source": [
        "#### 80. Consider an arbitrary array, write a function that extract a subpart with a fixed shape and centered on a given element (pad with a `fill` value when necessary) (★★★)"
      ]
    },
    {
      "cell_type": "code",
      "execution_count": 25,
      "metadata": {
        "colab": {
          "base_uri": "https://localhost:8080/"
        },
        "id": "IB7Zf91PQeyP",
        "outputId": "30b46ae7-ae6f-4453-9918-de31ef3db2d2"
      },
      "outputs": [
        {
          "output_type": "stream",
          "name": "stdout",
          "text": [
            "[[55 56 57]\n",
            " [65 66 67]\n",
            " [75 76 77]]\n"
          ]
        }
      ],
      "source": [
        "def extract_subarray(arr, center, shape, fill_value=0):\n",
        "    pad_width = [(s//2, s//2) for s in shape]\n",
        "    padded = np.pad(arr, pad_width, constant_values=fill_value)\n",
        "    slices = tuple(slice(c + s//2, c + s//2 + s) for c, s in zip(center, shape))\n",
        "    return padded[slices]\n",
        "\n",
        "arr = np.arange(100).reshape(10, 10)\n",
        "result = extract_subarray(arr, (5, 5), (3, 3), fill_value=-1)\n",
        "print(result)\n"
      ]
    },
    {
      "cell_type": "markdown",
      "metadata": {
        "id": "RfVNT2wrQeyP"
      },
      "source": [
        "#### 81. Consider an array Z = [1,2,3,4,5,6,7,8,9,10,11,12,13,14], how to generate an array R = [[1,2,3,4], [2,3,4,5], [3,4,5,6], ..., [11,12,13,14]]? (★★★)"
      ]
    },
    {
      "cell_type": "code",
      "execution_count": 21,
      "metadata": {
        "colab": {
          "base_uri": "https://localhost:8080/"
        },
        "id": "6D1QEaKqQeyQ",
        "outputId": "dcaea47b-3861-45d5-8777-e95e48bccc6e"
      },
      "outputs": [
        {
          "output_type": "stream",
          "name": "stdout",
          "text": [
            "[[ 1  2  3  4]\n",
            " [ 2  3  4  5]\n",
            " [ 3  4  5  6]\n",
            " [ 4  5  6  7]\n",
            " [ 5  6  7  8]\n",
            " [ 6  7  8  9]\n",
            " [ 7  8  9 10]\n",
            " [ 8  9 10 11]\n",
            " [ 9 10 11 12]\n",
            " [10 11 12 13]\n",
            " [11 12 13 14]]\n"
          ]
        }
      ],
      "source": [
        "Z = np.arange(1, 15)\n",
        "R = np.lib.stride_tricks.sliding_window_view(Z, 4)\n",
        "print(R)\n"
      ]
    },
    {
      "cell_type": "markdown",
      "metadata": {
        "id": "nzDhP31CQeyQ"
      },
      "source": [
        "#### 82. Compute a matrix rank (★★★)"
      ]
    },
    {
      "cell_type": "code",
      "execution_count": 22,
      "metadata": {
        "colab": {
          "base_uri": "https://localhost:8080/"
        },
        "id": "5ydjlydXQeyQ",
        "outputId": "258d0586-b44d-4344-8696-43412db7eea0"
      },
      "outputs": [
        {
          "output_type": "stream",
          "name": "stdout",
          "text": [
            "5\n"
          ]
        }
      ],
      "source": [
        "A = np.random.random((5, 5))\n",
        "rank = np.linalg.matrix_rank(A)\n",
        "print(rank)\n"
      ]
    },
    {
      "cell_type": "markdown",
      "metadata": {
        "id": "vkssL-PyQeyQ"
      },
      "source": [
        "#### 83. How to find the most frequent value in an array?"
      ]
    },
    {
      "cell_type": "code",
      "execution_count": 23,
      "metadata": {
        "colab": {
          "base_uri": "https://localhost:8080/"
        },
        "id": "L1ic9gN7QeyR",
        "outputId": "dd6ae24e-dbc4-4b33-db6c-96a6aeaa20e3"
      },
      "outputs": [
        {
          "output_type": "stream",
          "name": "stdout",
          "text": [
            "4\n"
          ]
        }
      ],
      "source": [
        "array = np.random.randint(0, 10, 50)\n",
        "most_frequent = np.bincount(array).argmax()\n",
        "print(most_frequent)\n"
      ]
    },
    {
      "cell_type": "markdown",
      "metadata": {
        "id": "O0n_rVKeQeyR"
      },
      "source": [
        "#### 84. Extract all the contiguous 3x3 blocks from a random 10x10 matrix (★★★)"
      ]
    },
    {
      "cell_type": "code",
      "execution_count": 26,
      "metadata": {
        "colab": {
          "base_uri": "https://localhost:8080/"
        },
        "id": "LE_QbmFhQeyR",
        "outputId": "e34b243e-8080-461e-91da-fff8e85bae6f"
      },
      "outputs": [
        {
          "output_type": "stream",
          "name": "stdout",
          "text": [
            "(8, 8, 3, 3)\n"
          ]
        }
      ],
      "source": [
        "matrix = np.random.random((10, 10))\n",
        "blocks = np.lib.stride_tricks.sliding_window_view(matrix, (3, 3))\n",
        "print(blocks.shape)\n"
      ]
    },
    {
      "cell_type": "markdown",
      "metadata": {
        "id": "_uzmV1CMQeyS"
      },
      "source": [
        "#### 85. Create a 2D array subclass such that Z[i,j] == Z[j,i] (★★★)"
      ]
    },
    {
      "cell_type": "code",
      "execution_count": 27,
      "metadata": {
        "colab": {
          "base_uri": "https://localhost:8080/"
        },
        "id": "T01VDQz8QeyS",
        "outputId": "ddde1ec4-f75c-4ec1-d69f-f84da47ce24d"
      },
      "outputs": [
        {
          "output_type": "stream",
          "name": "stdout",
          "text": [
            "[[ 0. 10.  0.  0.  0.]\n",
            " [10.  0.  0.  0.  0.]\n",
            " [ 0.  0.  0.  0.  0.]\n",
            " [ 0.  0.  0.  0.  0.]\n",
            " [ 0.  0.  0.  0.  0.]]\n"
          ]
        }
      ],
      "source": [
        "class SymmetricArray(np.ndarray):\n",
        "    def __setitem__(self, index, value):\n",
        "        i, j = index\n",
        "        super(SymmetricArray, self).__setitem__((i, j), value)\n",
        "        super(SymmetricArray, self).__setitem__((j, i), value)\n",
        "\n",
        "Z = np.zeros((5, 5)).view(SymmetricArray)\n",
        "Z[0, 1] = 10\n",
        "print(Z)\n"
      ]
    },
    {
      "cell_type": "markdown",
      "metadata": {
        "id": "pjyW0dVHQeyT"
      },
      "source": [
        "#### 86. Consider a set of p matrices wich shape (n,n) and a set of p vectors with shape (n,1). How to compute the sum of of the p matrix products at once? (result has shape (n,1)) (★★★)"
      ]
    },
    {
      "cell_type": "code",
      "execution_count": 28,
      "metadata": {
        "colab": {
          "base_uri": "https://localhost:8080/"
        },
        "id": "gyM9zQHHQeyT",
        "outputId": "6cef7436-4991-4b4a-c4df-6a587611cb27"
      },
      "outputs": [
        {
          "output_type": "stream",
          "name": "stdout",
          "text": [
            "[[2.89612929]\n",
            " [2.60598612]\n",
            " [3.42051785]\n",
            " [2.69779135]]\n"
          ]
        }
      ],
      "source": [
        "p, n = 3, 4\n",
        "matrices = np.random.random((p, n, n))\n",
        "vectors = np.random.random((p, n, 1))\n",
        "result = np.einsum('ijk,ikl->jl', matrices, vectors)\n",
        "print(result)\n"
      ]
    },
    {
      "cell_type": "markdown",
      "metadata": {
        "id": "mp1IxaiwQeyU"
      },
      "source": [
        "#### 87. Consider a 16x16 array, how to get the block-sum (block size is 4x4)? (★★★)"
      ]
    },
    {
      "cell_type": "code",
      "execution_count": 29,
      "metadata": {
        "colab": {
          "base_uri": "https://localhost:8080/"
        },
        "id": "kT1h_O--QeyU",
        "outputId": "db38cff6-ae22-4f70-e5d0-e7af968e61e2"
      },
      "outputs": [
        {
          "output_type": "stream",
          "name": "stdout",
          "text": [
            "[[5.3067696  6.95499767 6.14577391 8.60871521]\n",
            " [6.4400076  8.27971905 9.17743092 7.07922625]\n",
            " [8.44339685 9.74088048 7.0023965  8.27807452]\n",
            " [7.72899102 8.05362237 9.10902342 8.79415745]]\n"
          ]
        }
      ],
      "source": [
        "array = np.random.random((16, 16))\n",
        "block_sum = array.reshape(4, 4, 4, 4).sum(axis=(2, 3))\n",
        "print(block_sum)\n"
      ]
    },
    {
      "cell_type": "markdown",
      "metadata": {
        "id": "mhZe2kz4QeyU"
      },
      "source": [
        "#### 88. How to implement the Game of Life using numpy arrays? (★★★)"
      ]
    },
    {
      "cell_type": "code",
      "execution_count": 30,
      "metadata": {
        "colab": {
          "base_uri": "https://localhost:8080/"
        },
        "id": "3iVJl3cYQeyV",
        "outputId": "6e89c242-f275-4a5c-fadf-603bfb3f03ba"
      },
      "outputs": [
        {
          "output_type": "stream",
          "name": "stdout",
          "text": [
            "[[1 0 1 1 1 0 0 1 1 1]\n",
            " [0 0 0 1 1 0 0 0 1 0]\n",
            " [1 1 1 0 1 1 0 0 0 1]\n",
            " [0 0 0 1 0 1 0 0 0 0]\n",
            " [0 0 0 0 1 1 1 0 0 0]\n",
            " [0 0 0 1 0 1 1 0 0 0]\n",
            " [0 0 0 0 0 1 0 1 0 0]\n",
            " [0 0 0 0 0 1 0 0 0 0]\n",
            " [0 0 0 0 1 1 0 0 1 0]\n",
            " [0 0 1 1 1 1 0 0 0 0]]\n"
          ]
        }
      ],
      "source": [
        "def game_of_life_step(grid):\n",
        "    neighbors = sum(np.roll(np.roll(grid, i, 0), j, 1)\n",
        "                    for i in (-1, 0, 1) for j in (-1, 0, 1) if (i, j) != (0, 0))\n",
        "    return (neighbors == 3) | (grid & (neighbors == 2))\n",
        "\n",
        "grid = np.random.randint(0, 2, (10, 10))\n",
        "next_grid = game_of_life_step(grid)\n",
        "print(next_grid)\n"
      ]
    },
    {
      "cell_type": "markdown",
      "metadata": {
        "id": "_hhYPoBIQeyV"
      },
      "source": [
        "#### 89. How to get the n largest values of an array (★★★)"
      ]
    },
    {
      "cell_type": "code",
      "execution_count": 31,
      "metadata": {
        "colab": {
          "base_uri": "https://localhost:8080/"
        },
        "id": "WHrtL_LCQeyV",
        "outputId": "0c0d2ea9-dee4-4e1d-88ec-ba674c037bc9"
      },
      "outputs": [
        {
          "output_type": "stream",
          "name": "stdout",
          "text": [
            "[0.64504032 0.71075648 0.96750472]\n"
          ]
        }
      ],
      "source": [
        "array = np.random.random(10)\n",
        "n = 3\n",
        "largest_values = array[np.argsort(array)[-n:]]\n",
        "print(largest_values)\n"
      ]
    },
    {
      "cell_type": "markdown",
      "metadata": {
        "id": "B16vF-ngQeyW"
      },
      "source": [
        "#### 90. Given an arbitrary number of vectors, build the cartesian product (every combinations of every item) (★★★)"
      ]
    },
    {
      "cell_type": "code",
      "execution_count": 32,
      "metadata": {
        "colab": {
          "base_uri": "https://localhost:8080/"
        },
        "id": "wx3zcf0bQeyW",
        "outputId": "aa96275a-9047-4d28-ebc5-d628eabb092e"
      },
      "outputs": [
        {
          "output_type": "stream",
          "name": "stdout",
          "text": [
            "[[0 3 6]\n",
            " [0 4 6]\n",
            " [0 5 6]\n",
            " [1 3 6]\n",
            " [1 4 6]\n",
            " [1 5 6]\n",
            " [2 3 6]\n",
            " [2 4 6]\n",
            " [2 5 6]\n",
            " [0 3 7]\n",
            " [0 4 7]\n",
            " [0 5 7]\n",
            " [1 3 7]\n",
            " [1 4 7]\n",
            " [1 5 7]\n",
            " [2 3 7]\n",
            " [2 4 7]\n",
            " [2 5 7]\n",
            " [0 3 8]\n",
            " [0 4 8]\n",
            " [0 5 8]\n",
            " [1 3 8]\n",
            " [1 4 8]\n",
            " [1 5 8]\n",
            " [2 3 8]\n",
            " [2 4 8]\n",
            " [2 5 8]]\n"
          ]
        }
      ],
      "source": [
        "arrays = [np.arange(3), np.arange(3, 6), np.arange(6, 9)]\n",
        "cartesian_product = np.array(np.meshgrid(*arrays)).T.reshape(-1, len(arrays))\n",
        "print(cartesian_product)\n"
      ]
    },
    {
      "cell_type": "markdown",
      "metadata": {
        "id": "bHFZjL14QeyW"
      },
      "source": [
        "#### 91. How to create a record array from a regular array? (★★★)"
      ]
    },
    {
      "cell_type": "code",
      "execution_count": 33,
      "metadata": {
        "colab": {
          "base_uri": "https://localhost:8080/"
        },
        "id": "wE6FBZbzQeyW",
        "outputId": "0da6b809-37d7-48f8-83b7-b390a4c24f42"
      },
      "outputs": [
        {
          "output_type": "stream",
          "name": "stdout",
          "text": [
            "[(0.48846854, 0.17347313, 0.92991049) (0.87994347, 0.47719646, 0.52642642)\n",
            " (0.86981504, 0.22507754, 0.58816266) (0.45234959, 0.50825068, 0.7748238 )]\n"
          ]
        }
      ],
      "source": [
        "array = np.random.random((4, 3))\n",
        "record_array = np.core.records.fromarrays(array.T, names='col1, col2, col3')\n",
        "print(record_array)\n"
      ]
    },
    {
      "cell_type": "markdown",
      "metadata": {
        "id": "xFHLVjvBQeyX"
      },
      "source": [
        "#### 92. Consider a large vector Z, compute Z to the power of 3 using 3 different methods (★★★)"
      ]
    },
    {
      "cell_type": "code",
      "execution_count": 34,
      "metadata": {
        "colab": {
          "base_uri": "https://localhost:8080/"
        },
        "id": "nMup4zPvQeyX",
        "outputId": "31644fe6-12d7-4de0-80fb-6f1fb76e4de1"
      },
      "outputs": [
        {
          "output_type": "stream",
          "name": "stdout",
          "text": [
            "True\n"
          ]
        }
      ],
      "source": [
        "Z = np.random.random(1000000)\n",
        "\n",
        "# Method 1: Element-wise power\n",
        "result1 = Z ** 3\n",
        "\n",
        "# Method 2: Multiplication\n",
        "result2 = Z * Z * Z\n",
        "\n",
        "# Method 3: np.power\n",
        "result3 = np.power(Z, 3)\n",
        "\n",
        "print(np.allclose(result1, result2) and np.allclose(result2, result3))\n"
      ]
    },
    {
      "cell_type": "markdown",
      "metadata": {
        "id": "mQth9IflQeyX"
      },
      "source": [
        "#### 93. Consider two arrays A and B of shape (8,3) and (2,2). How to find rows of A that contain elements of each row of B regardless of the order of the elements in B? (★★★)"
      ]
    },
    {
      "cell_type": "code",
      "source": [
        "A = np.array([1, 2, 3, 4, 5])\n",
        "B = np.array([[2, 3], [3, 4], [1, 5]])\n",
        "\n",
        "# Find rows in B containing all elements of each row in A\n",
        "mask = [np.all(np.isin(b, A)) for b in B]\n",
        "result = B[mask]\n",
        "\n",
        "print(\"Array A:\\n\", A)\n",
        "print(\"Array B:\\n\", B)\n",
        "print(\"Result:\\n\", result)"
      ],
      "metadata": {
        "id": "IH4rPykJaLGI",
        "outputId": "bd4a1662-c219-45b3-a195-f6b3c1f01699",
        "colab": {
          "base_uri": "https://localhost:8080/"
        }
      },
      "execution_count": 43,
      "outputs": [
        {
          "output_type": "stream",
          "name": "stdout",
          "text": [
            "Array A:\n",
            " [1 2 3 4 5]\n",
            "Array B:\n",
            " [[2 3]\n",
            " [3 4]\n",
            " [1 5]]\n",
            "Result:\n",
            " [[2 3]\n",
            " [3 4]\n",
            " [1 5]]\n"
          ]
        }
      ]
    },
    {
      "cell_type": "markdown",
      "metadata": {
        "id": "eQAX8K_ZQeyY"
      },
      "source": [
        "#### 94. Considering a 10x3 matrix, extract rows with unequal values (e.g. [2,2,3]) (★★★)"
      ]
    },
    {
      "cell_type": "code",
      "execution_count": 36,
      "metadata": {
        "colab": {
          "base_uri": "https://localhost:8080/"
        },
        "id": "mMixUGnOQeyY",
        "outputId": "82ac678d-bde8-43e8-fd63-08593e7ac1c8"
      },
      "outputs": [
        {
          "output_type": "stream",
          "name": "stdout",
          "text": [
            "Original matrix:\n",
            " [[1 1 1]\n",
            " [0 0 3]\n",
            " [1 3 4]\n",
            " [1 3 0]\n",
            " [1 0 3]\n",
            " [0 3 4]\n",
            " [1 2 2]\n",
            " [4 2 0]\n",
            " [0 3 2]\n",
            " [0 2 0]]\n",
            "Rows with unequal values:\n",
            " []\n"
          ]
        }
      ],
      "source": [
        "matrix = np.random.randint(0, 5, (10, 3))\n",
        "\n",
        "# Rows with unequal values\n",
        "unequal_rows = matrix[np.all(matrix[:, None] != matrix[:, :, None], axis=(1, 2))]\n",
        "print(\"Original matrix:\\n\", matrix)\n",
        "print(\"Rows with unequal values:\\n\", unequal_rows)\n"
      ]
    },
    {
      "cell_type": "markdown",
      "metadata": {
        "id": "oQzvZwMbQeyZ"
      },
      "source": [
        "#### 95. Convert a vector of ints into a matrix binary representation (★★★)"
      ]
    },
    {
      "cell_type": "code",
      "execution_count": 37,
      "metadata": {
        "colab": {
          "base_uri": "https://localhost:8080/"
        },
        "id": "Li89Wu7uQeyZ",
        "outputId": "019926f6-003e-430e-fea6-343f87349eba"
      },
      "outputs": [
        {
          "output_type": "stream",
          "name": "stdout",
          "text": [
            "Binary representation:\n",
            " [[1 1 0 0 0 0 0 0]\n",
            " [1 0 1 0 0 0 0 0]\n",
            " [1 1 1 0 0 0 0 0]\n",
            " [0 1 0 1 0 0 0 0]]\n"
          ]
        }
      ],
      "source": [
        "vector = np.array([3, 5, 7, 10])\n",
        "binary_matrix = ((vector[:, None] & (1 << np.arange(8))) > 0).astype(int)\n",
        "print(\"Binary representation:\\n\", binary_matrix)\n"
      ]
    },
    {
      "cell_type": "markdown",
      "metadata": {
        "id": "kqG403zlQeyZ"
      },
      "source": [
        "#### 96. Given a two dimensional array, how to extract unique rows? (★★★)"
      ]
    },
    {
      "cell_type": "code",
      "execution_count": 38,
      "metadata": {
        "colab": {
          "base_uri": "https://localhost:8080/"
        },
        "id": "6XCVS2sXQeya",
        "outputId": "689e282c-762c-4d53-a958-6c10de26b974"
      },
      "outputs": [
        {
          "output_type": "stream",
          "name": "stdout",
          "text": [
            "Original array:\n",
            " [[1 1 1]\n",
            " [4 1 2]\n",
            " [3 3 1]\n",
            " [1 2 2]\n",
            " [1 0 0]\n",
            " [4 3 1]\n",
            " [2 3 0]\n",
            " [3 0 3]\n",
            " [4 3 4]\n",
            " [2 1 0]]\n",
            "Unique rows:\n",
            " [[1 0 0]\n",
            " [1 1 1]\n",
            " [1 2 2]\n",
            " [2 1 0]\n",
            " [2 3 0]\n",
            " [3 0 3]\n",
            " [3 3 1]\n",
            " [4 1 2]\n",
            " [4 3 1]\n",
            " [4 3 4]]\n"
          ]
        }
      ],
      "source": [
        "array = np.random.randint(0, 5, (10, 3))\n",
        "\n",
        "# Extract unique rows\n",
        "unique_rows = np.unique(array, axis=0)\n",
        "print(\"Original array:\\n\", array)\n",
        "print(\"Unique rows:\\n\", unique_rows)\n"
      ]
    },
    {
      "cell_type": "markdown",
      "metadata": {
        "id": "Tc2Da3sPQeya"
      },
      "source": [
        "#### 97. Considering 2 vectors A & B, write the einsum equivalent of inner, outer, sum, and mul function (★★★)"
      ]
    },
    {
      "cell_type": "code",
      "execution_count": 39,
      "metadata": {
        "colab": {
          "base_uri": "https://localhost:8080/"
        },
        "id": "j10rmwUPQeya",
        "outputId": "8e2b8a76-e22e-4c35-97ce-5c93db7c2727"
      },
      "outputs": [
        {
          "output_type": "stream",
          "name": "stdout",
          "text": [
            "Inner product: 1.1543625510521358\n",
            "Outer product:\n",
            " [[0.28694356 0.20302251 0.05090382 0.37038217 0.68592793]\n",
            " [0.14134662 0.10000763 0.02507491 0.18244796 0.33788384]\n",
            " [0.19567241 0.138445   0.03471231 0.25257082 0.46774762]\n",
            " [0.05334865 0.03774602 0.00946406 0.06886158 0.12752797]\n",
            " [0.27770248 0.19648412 0.04926445 0.35845393 0.66383747]]\n",
            "Element-wise multiplication: [0.28694356 0.10000763 0.03471231 0.06886158 0.66383747]\n",
            "Sum of elements: 2.364592094388464\n"
          ]
        }
      ],
      "source": [
        "A = np.random.random(5)\n",
        "B = np.random.random(5)\n",
        "\n",
        "# Inner product\n",
        "inner = np.einsum('i,i->', A, B)\n",
        "\n",
        "# Outer product\n",
        "outer = np.einsum('i,j->ij', A, B)\n",
        "\n",
        "# Element-wise multiplication\n",
        "mul = np.einsum('i,i->i', A, B)\n",
        "\n",
        "# Sum of elements\n",
        "sum_ = np.einsum('i->', A)\n",
        "\n",
        "print(\"Inner product:\", inner)\n",
        "print(\"Outer product:\\n\", outer)\n",
        "print(\"Element-wise multiplication:\", mul)\n",
        "print(\"Sum of elements:\", sum_)\n"
      ]
    },
    {
      "cell_type": "markdown",
      "metadata": {
        "id": "liLXFhlOQeya"
      },
      "source": [
        "#### 98. Considering a path described by two vectors (X,Y), how to sample it using equidistant samples (★★★)?"
      ]
    },
    {
      "cell_type": "code",
      "execution_count": 40,
      "metadata": {
        "colab": {
          "base_uri": "https://localhost:8080/"
        },
        "id": "lM0CaxzYQeyb",
        "outputId": "c639fcbc-d983-4d7e-88b8-e4435210a976"
      },
      "outputs": [
        {
          "output_type": "stream",
          "name": "stdout",
          "text": [
            "Equidistant X samples:\n",
            " [ 0.          0.4643122   0.98125424  1.59533194  2.20299317  2.71385268\n",
            "  3.17631325  3.64243325  4.16601205  4.78585168  5.38639837  5.8915218\n",
            "  6.35260973  6.82132623  7.35145945  7.9763721   8.5694658   9.06907505\n",
            "  9.52901636 10.        ]\n",
            "Equidistant Y samples:\n",
            " [ 0.          0.44726543  0.83033885  0.99886416  0.80608759  0.41455857\n",
            " -0.03466526 -0.48001733 -0.85360156 -0.99610525 -0.78045917 -0.38131081\n",
            "  0.0693473   0.51189183  0.87561026  0.99235321  0.75424217  0.34793299\n",
            " -0.10391869 -0.54402111]\n"
          ]
        }
      ],
      "source": [
        "X = np.linspace(0, 10, num=100)\n",
        "Y = np.sin(X)\n",
        "\n",
        "# Calculate cumulative distances\n",
        "distances = np.sqrt(np.diff(X)**2 + np.diff(Y)**2)\n",
        "cumulative_distances = np.insert(np.cumsum(distances), 0, 0)\n",
        "\n",
        "# Interpolate to get equidistant samples\n",
        "num_samples = 20\n",
        "equidistant_points = np.linspace(0, cumulative_distances[-1], num=num_samples)\n",
        "new_X = np.interp(equidistant_points, cumulative_distances, X)\n",
        "new_Y = np.interp(equidistant_points, cumulative_distances, Y)\n",
        "\n",
        "print(\"Equidistant X samples:\\n\", new_X)\n",
        "print(\"Equidistant Y samples:\\n\", new_Y)\n"
      ]
    },
    {
      "cell_type": "markdown",
      "metadata": {
        "id": "tTL0LORFQeyb"
      },
      "source": [
        "#### 99. Given an integer n and a 2D array X, select from X the rows which can be interpreted as draws from a multinomial distribution with n degrees, i.e., the rows which only contain integers and which sum to n. (★★★)"
      ]
    },
    {
      "cell_type": "code",
      "execution_count": 41,
      "metadata": {
        "colab": {
          "base_uri": "https://localhost:8080/"
        },
        "id": "9xhRenWCQeyc",
        "outputId": "265f9f4a-01c1-4995-ccd6-093c473e518e"
      },
      "outputs": [
        {
          "output_type": "stream",
          "name": "stdout",
          "text": [
            "Original array:\n",
            " [[3 3 4 2]\n",
            " [4 3 0 2]\n",
            " [1 3 0 4]\n",
            " [2 4 4 3]\n",
            " [2 3 4 1]\n",
            " [1 4 0 1]\n",
            " [2 2 1 2]\n",
            " [2 2 1 2]\n",
            " [3 0 2 4]\n",
            " [0 4 1 1]]\n",
            "Rows that are valid multinomial draws:\n",
            " []\n"
          ]
        }
      ],
      "source": [
        "n = 5\n",
        "X = np.random.randint(0, 5, (10, 4))\n",
        "\n",
        "# Select rows where the sum equals n\n",
        "valid_rows = X[np.all(X == X.astype(int), axis=1) & (X.sum(axis=1) == n)]\n",
        "print(\"Original array:\\n\", X)\n",
        "print(\"Rows that are valid multinomial draws:\\n\", valid_rows)\n"
      ]
    },
    {
      "cell_type": "markdown",
      "metadata": {
        "id": "hnvojK5-Qeyc"
      },
      "source": [
        "#### 100. Compute bootstrapped 95% confidence intervals for the mean of a 1D array X (i.e., resample the elements of an array with replacement N times, compute the mean of each sample, and then compute percentiles over the means). (★★★)"
      ]
    },
    {
      "cell_type": "code",
      "execution_count": 42,
      "metadata": {
        "colab": {
          "base_uri": "https://localhost:8080/"
        },
        "id": "y8KtpskAQeyc",
        "outputId": "281a9134-51d9-42f3-b0a3-82863cf2e48e"
      },
      "outputs": [
        {
          "output_type": "stream",
          "name": "stdout",
          "text": [
            "95% confidence interval for the mean: (0.4191121771088326, 0.541876765992296)\n"
          ]
        }
      ],
      "source": [
        "X = np.random.rand(100)\n",
        "\n",
        "# Bootstrap sampling\n",
        "N = 1000\n",
        "bootstrap_means = np.array([np.mean(np.random.choice(X, size=len(X), replace=True)) for _ in range(N)])\n",
        "\n",
        "# 95% confidence intervals\n",
        "lower_bound = np.percentile(bootstrap_means, 2.5)\n",
        "upper_bound = np.percentile(bootstrap_means, 97.5)\n",
        "\n",
        "print(\"95% confidence interval for the mean:\", (lower_bound, upper_bound))\n"
      ]
    },
    {
      "cell_type": "code",
      "execution_count": null,
      "metadata": {
        "id": "l7XsFG5xQeyd"
      },
      "outputs": [],
      "source": []
    }
  ],
  "metadata": {
    "kernelspec": {
      "display_name": "Python 3",
      "language": "python",
      "name": "python3"
    },
    "language_info": {
      "codemirror_mode": {
        "name": "ipython",
        "version": 3
      },
      "file_extension": ".py",
      "mimetype": "text/x-python",
      "name": "python",
      "nbconvert_exporter": "python",
      "pygments_lexer": "ipython3",
      "version": "3.7.4"
    },
    "colab": {
      "provenance": [],
      "include_colab_link": true
    }
  },
  "nbformat": 4,
  "nbformat_minor": 0
}