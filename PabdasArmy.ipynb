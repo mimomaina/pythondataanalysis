{
  "cells": [
    {
      "cell_type": "markdown",
      "metadata": {
        "id": "view-in-github",
        "colab_type": "text"
      },
      "source": [
        "<a href=\"https://colab.research.google.com/github/mimomaina/pythondataanalysis/blob/main/PabdasArmy.ipynb\" target=\"_parent\"><img src=\"https://colab.research.google.com/assets/colab-badge.svg\" alt=\"Open In Colab\"/></a>"
      ]
    },
    {
      "cell_type": "markdown",
      "metadata": {
        "id": "LVBsFuQPsCdy"
      },
      "source": [
        "# Fictional Army - Filtering and Sorting"
      ]
    },
    {
      "cell_type": "markdown",
      "metadata": {
        "id": "ze9SNVvNsCd1"
      },
      "source": [
        "### Introduction:\n",
        "\n",
        "This exercise was inspired by this [page](http://chrisalbon.com/python/)\n",
        "\n",
        "Special thanks to: https://github.com/chrisalbon for sharing the dataset and materials.\n",
        "\n",
        "### Step 1. Import the necessary libraries"
      ]
    },
    {
      "cell_type": "code",
      "execution_count": null,
      "metadata": {
        "id": "AdFfdMPQsCd3"
      },
      "outputs": [],
      "source": [
        "import pandas as pd"
      ]
    },
    {
      "cell_type": "markdown",
      "metadata": {
        "id": "ngLYlkcLsCd4"
      },
      "source": [
        "### Step 2. This is the data given as a dictionary"
      ]
    },
    {
      "cell_type": "code",
      "execution_count": null,
      "metadata": {
        "collapsed": true,
        "id": "UWjdZdmbsCd5"
      },
      "outputs": [],
      "source": [
        "# Create an example dataframe about a fictional army\n",
        "raw_data = {'regiment': ['Nighthawks', 'Nighthawks', 'Nighthawks', 'Nighthawks', 'Dragoons', 'Dragoons', 'Dragoons', 'Dragoons', 'Scouts', 'Scouts', 'Scouts', 'Scouts'],\n",
        "            'company': ['1st', '1st', '2nd', '2nd', '1st', '1st', '2nd', '2nd','1st', '1st', '2nd', '2nd'],\n",
        "            'deaths': [523, 52, 25, 616, 43, 234, 523, 62, 62, 73, 37, 35],\n",
        "            'battles': [5, 42, 2, 2, 4, 7, 8, 3, 4, 7, 8, 9],\n",
        "            'size': [1045, 957, 1099, 1400, 1592, 1006, 987, 849, 973, 1005, 1099, 1523],\n",
        "            'veterans': [1, 5, 62, 26, 73, 37, 949, 48, 48, 435, 63, 345],\n",
        "            'readiness': [1, 2, 3, 3, 2, 1, 2, 3, 2, 1, 2, 3],\n",
        "            'armored': [1, 0, 1, 1, 0, 1, 0, 1, 0, 0, 1, 1],\n",
        "            'deserters': [4, 24, 31, 2, 3, 4, 24, 31, 2, 3, 2, 3],\n",
        "            'origin': ['Arizona', 'California', 'Texas', 'Florida', 'Maine', 'Iowa', 'Alaska', 'Washington', 'Oregon', 'Wyoming', 'Louisana', 'Georgia']}"
      ]
    },
    {
      "cell_type": "markdown",
      "metadata": {
        "id": "513-cI6WsCd6"
      },
      "source": [
        "### Step 3. Create a dataframe and assign it to a variable called army.\n",
        "\n",
        "#### Don't forget to include the columns names in the order presented in the dictionary ('regiment', 'company', 'deaths'...) so that the column index order is consistent with the solutions. If omitted, pandas will order the columns alphabetically."
      ]
    },
    {
      "cell_type": "code",
      "execution_count": 1,
      "metadata": {
        "colab": {
          "base_uri": "https://localhost:8080/"
        },
        "id": "9YBUmNDPsCd6",
        "outputId": "ef98680f-78fe-48ce-e5da-0f7b3824e29e"
      },
      "outputs": [
        {
          "output_type": "stream",
          "name": "stdout",
          "text": [
            "      regiment company  deaths  battles  size  veterans  readiness  armored  \\\n",
            "0   Nighthawks     1st     523        5  1045         1          1        1   \n",
            "1   Nighthawks     1st      52       42   957         5          2        0   \n",
            "2   Nighthawks     2nd      25        2  1099        62          3        1   \n",
            "3   Nighthawks     2nd     616        2  1400        26          3        1   \n",
            "4     Dragoons     1st      43        4  1592        73          2        0   \n",
            "5     Dragoons     1st     234        7  1006        37          1        1   \n",
            "6     Dragoons     2nd     523        8   987       949          2        0   \n",
            "7     Dragoons     2nd      62        3   849        48          3        1   \n",
            "8       Scouts     1st      62        4   973        48          2        0   \n",
            "9       Scouts     1st      73        7  1005       435          1        0   \n",
            "10      Scouts     2nd      37        8  1099        63          2        1   \n",
            "11      Scouts     2nd      35        9  1523       345          3        1   \n",
            "\n",
            "    deserters      origin  \n",
            "0           4     Arizona  \n",
            "1          24  California  \n",
            "2          31       Texas  \n",
            "3           2     Florida  \n",
            "4           3       Maine  \n",
            "5           4        Iowa  \n",
            "6          24      Alaska  \n",
            "7          31  Washington  \n",
            "8           2      Oregon  \n",
            "9           3     Wyoming  \n",
            "10          2    Louisana  \n",
            "11          3     Georgia  \n"
          ]
        }
      ],
      "source": [
        "import pandas as pd\n",
        "\n",
        "# Create a DataFrame and assign it to a variable called army\n",
        "raw_data = {\n",
        "    'regiment': ['Nighthawks', 'Nighthawks', 'Nighthawks', 'Nighthawks',\n",
        "                 'Dragoons', 'Dragoons', 'Dragoons', 'Dragoons',\n",
        "                 'Scouts', 'Scouts', 'Scouts', 'Scouts'],\n",
        "    'company': ['1st', '1st', '2nd', '2nd',\n",
        "                '1st', '1st', '2nd', '2nd',\n",
        "                '1st', '1st', '2nd', '2nd'],\n",
        "    'deaths': [523, 52, 25, 616,\n",
        "               43, 234, 523, 62,\n",
        "               62, 73, 37, 35],\n",
        "    'battles': [5, 42, 2, 2,\n",
        "                4, 7, 8, 3,\n",
        "                4, 7, 8, 9],\n",
        "    'size': [1045, 957, 1099, 1400,\n",
        "             1592, 1006, 987, 849,\n",
        "             973, 1005, 1099, 1523],\n",
        "    'veterans': [1, 5, 62, 26,\n",
        "                 73, 37, 949, 48,\n",
        "                 48, 435, 63, 345],\n",
        "    'readiness': [1, 2, 3, 3,\n",
        "                  2, 1, 2, 3,\n",
        "                  2, 1, 2, 3],\n",
        "    'armored': [1, 0, 1, 1,\n",
        "                0, 1, 0, 1,\n",
        "                0, 0, 1, 1],\n",
        "    'deserters': [4, 24, 31, 2,\n",
        "                  3, 4, 24, 31,\n",
        "                  2, 3, 2, 3],\n",
        "    'origin': ['Arizona', 'California', 'Texas', 'Florida',\n",
        "               'Maine', 'Iowa', 'Alaska', 'Washington',\n",
        "               'Oregon', 'Wyoming', 'Louisana', 'Georgia']\n",
        "}\n",
        "\n",
        "# Creating the DataFrame with specified column order\n",
        "army = pd.DataFrame(raw_data)\n",
        "\n",
        "# Display the DataFrame to verify\n",
        "print(army)"
      ]
    },
    {
      "cell_type": "markdown",
      "metadata": {
        "id": "MdiMVZB5sCd6"
      },
      "source": [
        "### Step 4. Set the 'origin' colum as the index of the dataframe"
      ]
    },
    {
      "cell_type": "code",
      "execution_count": 2,
      "metadata": {
        "colab": {
          "base_uri": "https://localhost:8080/"
        },
        "id": "bUl8YRDosCd7",
        "outputId": "5853e1bd-bf76-4037-c35b-cd74704ee91f"
      },
      "outputs": [
        {
          "output_type": "stream",
          "name": "stdout",
          "text": [
            "              regiment company  deaths  battles  size  veterans  readiness  \\\n",
            "origin                                                                       \n",
            "Arizona     Nighthawks     1st     523        5  1045         1          1   \n",
            "California  Nighthawks     1st      52       42   957         5          2   \n",
            "Texas       Nighthawks     2nd      25        2  1099        62          3   \n",
            "Florida     Nighthawks     2nd     616        2  1400        26          3   \n",
            "Maine         Dragoons     1st      43        4  1592        73          2   \n",
            "Iowa          Dragoons     1st     234        7  1006        37          1   \n",
            "Alaska        Dragoons     2nd     523        8   987       949          2   \n",
            "Washington    Dragoons     2nd      62        3   849        48          3   \n",
            "Oregon          Scouts     1st      62        4   973        48          2   \n",
            "Wyoming         Scouts     1st      73        7  1005       435          1   \n",
            "Louisana        Scouts     2nd      37        8  1099        63          2   \n",
            "Georgia         Scouts     2nd      35        9  1523       345          3   \n",
            "\n",
            "            armored  deserters  \n",
            "origin                          \n",
            "Arizona           1          4  \n",
            "California        0         24  \n",
            "Texas             1         31  \n",
            "Florida           1          2  \n",
            "Maine             0          3  \n",
            "Iowa              1          4  \n",
            "Alaska            0         24  \n",
            "Washington        1         31  \n",
            "Oregon            0          2  \n",
            "Wyoming           0          3  \n",
            "Louisana          1          2  \n",
            "Georgia           1          3  \n"
          ]
        }
      ],
      "source": [
        "# Step: Set the 'origin' column as the index of the DataFrame\n",
        "army.set_index('origin', inplace=True)\n",
        "\n",
        "# Display the DataFrame to verify\n",
        "print(army)"
      ]
    },
    {
      "cell_type": "markdown",
      "metadata": {
        "id": "gOGy9OERsCd7"
      },
      "source": [
        "### Step 5. Print only the column veterans"
      ]
    },
    {
      "cell_type": "code",
      "execution_count": 3,
      "metadata": {
        "colab": {
          "base_uri": "https://localhost:8080/"
        },
        "id": "jQCyrD88sCd8",
        "outputId": "6e7627d6-2e6e-440f-9c65-4fdb26d4bf22"
      },
      "outputs": [
        {
          "output_type": "stream",
          "name": "stdout",
          "text": [
            "origin\n",
            "Arizona         1\n",
            "California      5\n",
            "Texas          62\n",
            "Florida        26\n",
            "Maine          73\n",
            "Iowa           37\n",
            "Alaska        949\n",
            "Washington     48\n",
            "Oregon         48\n",
            "Wyoming       435\n",
            "Louisana       63\n",
            "Georgia       345\n",
            "Name: veterans, dtype: int64\n"
          ]
        }
      ],
      "source": [
        "# Step: Set the 'origin' column as the index of the DataFrame\n",
        "army.set_index('origin', inplace=True)\n",
        "\n",
        "# Step: Print only the column veterans\n",
        "print(army['veterans'])"
      ]
    },
    {
      "cell_type": "markdown",
      "metadata": {
        "id": "wVzVyHhesCd8"
      },
      "source": [
        "### Step 6. Print the columns 'veterans' and 'deaths'"
      ]
    },
    {
      "cell_type": "code",
      "execution_count": 4,
      "metadata": {
        "colab": {
          "base_uri": "https://localhost:8080/"
        },
        "id": "BTXJzx3PsCd8",
        "outputId": "85645bb8-77e5-4127-8997-f8bcf7eb389a"
      },
      "outputs": [
        {
          "output_type": "stream",
          "name": "stdout",
          "text": [
            "            veterans  deaths\n",
            "origin                      \n",
            "Arizona            1     523\n",
            "California         5      52\n",
            "Texas             62      25\n",
            "Florida           26     616\n",
            "Maine             73      43\n",
            "Iowa              37     234\n",
            "Alaska           949     523\n",
            "Washington        48      62\n",
            "Oregon            48      62\n",
            "Wyoming          435      73\n",
            "Louisana          63      37\n",
            "Georgia          345      35\n"
          ]
        }
      ],
      "source": [
        "# Step: Set the 'origin' column as the index of the DataFrame\n",
        "army.set_index('origin', inplace=True)\n",
        "\n",
        "# Step: Print the columns veterans and deaths\n",
        "print(army[['veterans', 'deaths']])"
      ]
    },
    {
      "cell_type": "markdown",
      "metadata": {
        "id": "e9FuoyjzsCd8"
      },
      "source": [
        "### Step 7. Print the name of all the columns."
      ]
    },
    {
      "cell_type": "code",
      "execution_count": 5,
      "metadata": {
        "colab": {
          "base_uri": "https://localhost:8080/"
        },
        "id": "tH5fGI_psCd9",
        "outputId": "115686e8-ce6e-49aa-dd40-25c0a7532d27"
      },
      "outputs": [
        {
          "output_type": "stream",
          "name": "stdout",
          "text": [
            "['regiment', 'company', 'deaths', 'battles', 'size', 'veterans', 'readiness', 'armored', 'deserters']\n"
          ]
        }
      ],
      "source": [
        "# Set the 'origin' column as the index of the DataFrame\n",
        "army.set_index('origin', inplace=True)\n",
        "\n",
        "# Step: Print the name of all the columns\n",
        "print(army.columns.tolist())"
      ]
    },
    {
      "cell_type": "markdown",
      "metadata": {
        "id": "wh50XeEBsCd9"
      },
      "source": [
        "### Step 8. Select the 'deaths', 'size' and 'deserters' columns from Maine and Alaska"
      ]
    },
    {
      "cell_type": "code",
      "execution_count": 6,
      "metadata": {
        "colab": {
          "base_uri": "https://localhost:8080/"
        },
        "id": "FpKmUUvnsCd9",
        "outputId": "cd6c1077-7cd0-48eb-93d8-464e12125474"
      },
      "outputs": [
        {
          "output_type": "stream",
          "name": "stdout",
          "text": [
            "        deaths  size  deserters\n",
            "origin                         \n",
            "Maine       43  1592          3\n",
            "Alaska     523   987         24\n"
          ]
        }
      ],
      "source": [
        "# Setting the origin column as the index of the DataFrame\n",
        "army.set_index('origin', inplace=True)\n",
        "\n",
        "#Select the deaths, size and deserters columns for Maine and Alaska\n",
        "selected_columns = army.loc[['Maine', 'Alaska'], ['deaths', 'size', 'deserters']]\n",
        "\n",
        "# Display the selected data\n",
        "print(selected_columns)"
      ]
    },
    {
      "cell_type": "markdown",
      "metadata": {
        "id": "oLRtCIeQsCd9"
      },
      "source": [
        "### Step 9. Select the rows 3 to 7 and the columns 3 to 6"
      ]
    },
    {
      "cell_type": "code",
      "execution_count": 7,
      "metadata": {
        "colab": {
          "base_uri": "https://localhost:8080/"
        },
        "id": "jjewjCgksCd-",
        "outputId": "b04c8512-3db0-4313-ded4-e92bc04cc155"
      },
      "outputs": [
        {
          "output_type": "stream",
          "name": "stdout",
          "text": [
            "         battles  size  veterans  readiness\n",
            "origin                                     \n",
            "Florida        2  1400        26          3\n",
            "Maine          4  1592        73          2\n",
            "Iowa           7  1006        37          1\n",
            "Alaska         8   987       949          2\n"
          ]
        }
      ],
      "source": [
        "# Setting the origin column as the index of the DataFrame\n",
        "army.set_index('origin', inplace=True)\n",
        "\n",
        "# Select rows from index position (3 to (7-1)) and columns from index position (3 to (6-1))\n",
        "selected_rows_columns = army.iloc[3:7, 3:7]\n",
        "\n",
        "# Display the selected data\n",
        "print(selected_rows_columns)"
      ]
    },
    {
      "cell_type": "markdown",
      "metadata": {
        "id": "kgOF-urmsCd-"
      },
      "source": [
        "### Step 10. Select every row after the fourth row and all columns"
      ]
    },
    {
      "cell_type": "code",
      "execution_count": 8,
      "metadata": {
        "colab": {
          "base_uri": "https://localhost:8080/"
        },
        "id": "jhPpDG2dsCd-",
        "outputId": "3b1a4498-df84-4b83-beeb-5d00b6b23443"
      },
      "outputs": [
        {
          "output_type": "stream",
          "name": "stdout",
          "text": [
            "            regiment company  deaths  battles  size  veterans  readiness  \\\n",
            "origin                                                                     \n",
            "Maine       Dragoons     1st      43        4  1592        73          2   \n",
            "Iowa        Dragoons     1st     234        7  1006        37          1   \n",
            "Alaska      Dragoons     2nd     523        8   987       949          2   \n",
            "Washington  Dragoons     2nd      62        3   849        48          3   \n",
            "Oregon        Scouts     1st      62        4   973        48          2   \n",
            "Wyoming       Scouts     1st      73        7  1005       435          1   \n",
            "Louisana      Scouts     2nd      37        8  1099        63          2   \n",
            "Georgia       Scouts     2nd      35        9  1523       345          3   \n",
            "\n",
            "            armored  deserters  \n",
            "origin                          \n",
            "Maine             0          3  \n",
            "Iowa              1          4  \n",
            "Alaska            0         24  \n",
            "Washington        1         31  \n",
            "Oregon            0          2  \n",
            "Wyoming           0          3  \n",
            "Louisana          1          2  \n",
            "Georgia           1          3  \n"
          ]
        }
      ],
      "source": [
        "# Setting the origin column as the index of the DataFrame\n",
        "army.set_index('origin', inplace=True)\n",
        "\n",
        "#Select every row after the fourth row and all columns\n",
        "selected_rows = army.iloc[4:]\n",
        "\n",
        "# Display the selected data\n",
        "print(selected_rows)"
      ]
    },
    {
      "cell_type": "markdown",
      "metadata": {
        "id": "YDQzJpPisCd-"
      },
      "source": [
        "### Step 11. Select every row up to the 4th row and all columns"
      ]
    },
    {
      "cell_type": "code",
      "execution_count": 9,
      "metadata": {
        "colab": {
          "base_uri": "https://localhost:8080/"
        },
        "id": "kmXSdGBzsCd-",
        "outputId": "a8c4ea0c-f813-46fb-cb72-0ca42a998bf7"
      },
      "outputs": [
        {
          "output_type": "stream",
          "name": "stdout",
          "text": [
            "              regiment company  deaths  battles  size  veterans  readiness  \\\n",
            "origin                                                                       \n",
            "Arizona     Nighthawks     1st     523        5  1045         1          1   \n",
            "California  Nighthawks     1st      52       42   957         5          2   \n",
            "Texas       Nighthawks     2nd      25        2  1099        62          3   \n",
            "Florida     Nighthawks     2nd     616        2  1400        26          3   \n",
            "\n",
            "            armored  deserters  \n",
            "origin                          \n",
            "Arizona           1          4  \n",
            "California        0         24  \n",
            "Texas             1         31  \n",
            "Florida           1          2  \n"
          ]
        }
      ],
      "source": [
        "# Setting the origin column as the index of the DataFrame\n",
        "army.set_index('origin', inplace=True)\n",
        "\n",
        "# Select every row up to the fourth row (index positions: up to but not including index position of row number four)\n",
        "selected_rows = army.iloc[:4]\n",
        "\n",
        "# Display the selected data\n",
        "print(selected_rows)"
      ]
    },
    {
      "cell_type": "markdown",
      "metadata": {
        "id": "npXBvdfJsCd_"
      },
      "source": [
        "### Step 12. Select the 3rd column up to the 7th column"
      ]
    },
    {
      "cell_type": "code",
      "execution_count": 10,
      "metadata": {
        "colab": {
          "base_uri": "https://localhost:8080/"
        },
        "id": "vZOORCiBsCd_",
        "outputId": "4bd24259-ab74-4c58-bfc3-1a0d07d1de6e"
      },
      "outputs": [
        {
          "output_type": "stream",
          "name": "stdout",
          "text": [
            "            deaths  battles  size  veterans  readiness\n",
            "origin                                                \n",
            "Arizona        523        5  1045         1          1\n",
            "California      52       42   957         5          2\n",
            "Texas           25        2  1099        62          3\n",
            "Florida        616        2  1400        26          3\n",
            "Maine           43        4  1592        73          2\n",
            "Iowa           234        7  1006        37          1\n",
            "Alaska         523        8   987       949          2\n",
            "Washington      62        3   849        48          3\n",
            "Oregon          62        4   973        48          2\n",
            "Wyoming         73        7  1005       435          1\n",
            "Louisana        37        8  1099        63          2\n",
            "Georgia         35        9  1523       345          3\n"
          ]
        }
      ],
      "source": [
        "# Setting the origin column as the index of the DataFrame\n",
        "army.set_index('origin', inplace=True)\n",
        "\n",
        "# Select the columns from index position (2 to (7-1))\n",
        "selected_columns = army.iloc[:, 2:7]\n",
        "\n",
        "# Display the selected data\n",
        "print(selected_columns)"
      ]
    },
    {
      "cell_type": "markdown",
      "metadata": {
        "id": "4LUazlBhsCd_"
      },
      "source": [
        "### Step 13. Select rows where df.deaths is greater than 50"
      ]
    },
    {
      "cell_type": "code",
      "execution_count": 11,
      "metadata": {
        "colab": {
          "base_uri": "https://localhost:8080/"
        },
        "id": "6jsgLNG3sCd_",
        "outputId": "7e1b1b53-980a-4322-ca17-cbb5cf8065d9"
      },
      "outputs": [
        {
          "output_type": "stream",
          "name": "stdout",
          "text": [
            "              regiment company  deaths  battles  size  veterans  readiness  \\\n",
            "origin                                                                       \n",
            "Arizona     Nighthawks     1st     523        5  1045         1          1   \n",
            "California  Nighthawks     1st      52       42   957         5          2   \n",
            "Florida     Nighthawks     2nd     616        2  1400        26          3   \n",
            "Iowa          Dragoons     1st     234        7  1006        37          1   \n",
            "Alaska        Dragoons     2nd     523        8   987       949          2   \n",
            "Washington    Dragoons     2nd      62        3   849        48          3   \n",
            "Oregon          Scouts     1st      62        4   973        48          2   \n",
            "Wyoming         Scouts     1st      73        7  1005       435          1   \n",
            "\n",
            "            armored  deserters  \n",
            "origin                          \n",
            "Arizona           1          4  \n",
            "California        0         24  \n",
            "Florida           1          2  \n",
            "Iowa              1          4  \n",
            "Alaska            0         24  \n",
            "Washington        1         31  \n",
            "Oregon            0          2  \n",
            "Wyoming           0          3  \n"
          ]
        }
      ],
      "source": [
        "# Setting the origin column as the index of the DataFrame\n",
        "army.set_index('origin', inplace=True)\n",
        "\n",
        "#Select rows where deaths is greater than 50\n",
        "selected_rows = army[army['deaths'] > 50]\n",
        "\n",
        "# Display the selected data\n",
        "print(selected_rows)"
      ]
    },
    {
      "cell_type": "markdown",
      "metadata": {
        "id": "WVfcYR5wsCd_"
      },
      "source": [
        "### Step 14. Select rows where df.deaths is greater than 500 or less than 50"
      ]
    },
    {
      "cell_type": "code",
      "execution_count": 12,
      "metadata": {
        "colab": {
          "base_uri": "https://localhost:8080/"
        },
        "id": "W1Hw0cSNsCeA",
        "outputId": "0006d219-b8e6-4d1e-c11a-c2eeb07517a4"
      },
      "outputs": [
        {
          "output_type": "stream",
          "name": "stdout",
          "text": [
            "      regiment company  deaths  battles  size  veterans  readiness  armored  \\\n",
            "0   Nighthawks     1st     523        5  1045         1          1        1   \n",
            "2   Nighthawks     2nd      25        2  1099        62          3        1   \n",
            "3   Nighthawks     2nd     616        2  1400        26          3        1   \n",
            "4     Dragoons     1st      43        4  1592        73          2        0   \n",
            "6     Dragoons     2nd     523        8   987       949          2        0   \n",
            "10      Scouts     2nd      37        8  1099        63          2        1   \n",
            "11      Scouts     2nd      35        9  1523       345          3        1   \n",
            "\n",
            "    deserters    origin  \n",
            "0           4   Arizona  \n",
            "2          31     Texas  \n",
            "3           2   Florida  \n",
            "4           3     Maine  \n",
            "6          24    Alaska  \n",
            "10          2  Louisana  \n",
            "11          3   Georgia  \n"
          ]
        }
      ],
      "source": [
        "# Select rows where deaths is greater than 500 or less than 50\n",
        "selected_rows = army[(army['deaths'] > 500) | (army['deaths'] < 50)]\n",
        "\n",
        "# Display the selected data\n",
        "print(selected_rows)"
      ]
    },
    {
      "cell_type": "markdown",
      "metadata": {
        "id": "hcsiCfB6sCeA"
      },
      "source": [
        "### Step 15. Select all the regiments not named \"Dragoons\""
      ]
    },
    {
      "cell_type": "code",
      "execution_count": 18,
      "metadata": {
        "colab": {
          "base_uri": "https://localhost:8080/"
        },
        "id": "X8_nBALEsCeA",
        "outputId": "3b3e3952-822f-4bc1-d957-21c875f6bbba"
      },
      "outputs": [
        {
          "output_type": "stream",
          "name": "stdout",
          "text": [
            "      regiment company  deaths  battles  size  veterans  readiness  armored  \\\n",
            "0   Nighthawks     1st     523        5  1045         1          1        1   \n",
            "1   Nighthawks     1st      52       42   957         5          2        0   \n",
            "2   Nighthawks     2nd      25        2  1099        62          3        1   \n",
            "3   Nighthawks     2nd     616        2  1400        26          3        1   \n",
            "8       Scouts     1st      62        4   973        48          2        0   \n",
            "9       Scouts     1st      73        7  1005       435          1        0   \n",
            "10      Scouts     2nd      37        8  1099        63          2        1   \n",
            "11      Scouts     2nd      35        9  1523       345          3        1   \n",
            "\n",
            "    deserters      origin  \n",
            "0           4     Arizona  \n",
            "1          24  California  \n",
            "2          31       Texas  \n",
            "3           2     Florida  \n",
            "8           2      Oregon  \n",
            "9           3     Wyoming  \n",
            "10          2    Louisana  \n",
            "11          3     Georgia  \n"
          ]
        }
      ],
      "source": [
        "#Select all regiments not named \"Dragoons\"\n",
        "selected_regiments = army[army['regiment'] != \"Dragoons\"]\n",
        "\n",
        "# Display the selected data\n",
        "print(selected_regiments)"
      ]
    },
    {
      "cell_type": "markdown",
      "metadata": {
        "id": "QZMW4i62sCeA"
      },
      "source": [
        "### Step 16. Select the rows called Texas and Arizona"
      ]
    },
    {
      "cell_type": "code",
      "execution_count": 15,
      "metadata": {
        "colab": {
          "base_uri": "https://localhost:8080/"
        },
        "id": "59C7ukJNsCeA",
        "outputId": "5bfa332e-ac1b-4677-c6bf-2fba0eec5d0b"
      },
      "outputs": [
        {
          "output_type": "stream",
          "name": "stdout",
          "text": [
            "     regiment company  deaths  battles  size  veterans  readiness  armored  \\\n",
            "0  Nighthawks     1st     523        5  1045         1          1        1   \n",
            "2  Nighthawks     2nd      25        2  1099        62          3        1   \n",
            "\n",
            "   deserters   origin  \n",
            "0          4  Arizona  \n",
            "2         31    Texas  \n"
          ]
        }
      ],
      "source": [
        "# Select the rows for Texas and Arizona\n",
        "selected_rows = army[army['origin'].isin(['Texas', 'Arizona'])]\n",
        "print(selected_rows)"
      ]
    },
    {
      "cell_type": "markdown",
      "metadata": {
        "id": "6AQgkAH2sCeB"
      },
      "source": [
        "### Step 17. Select the third cell in the row named Arizona"
      ]
    },
    {
      "cell_type": "code",
      "execution_count": 16,
      "metadata": {
        "colab": {
          "base_uri": "https://localhost:8080/"
        },
        "id": "AXh2O-J8sCeB",
        "outputId": "a7cb4376-82a4-4fd2-85fe-62c820f37e17"
      },
      "outputs": [
        {
          "output_type": "stream",
          "name": "stdout",
          "text": [
            "523\n"
          ]
        }
      ],
      "source": [
        "arizona_row = army.loc[army['origin'] == 'Arizona']\n",
        "third_cell_arizona = arizona_row.iloc[0, 2]\n",
        "print(third_cell_arizona)"
      ]
    },
    {
      "cell_type": "markdown",
      "metadata": {
        "id": "ctGYKdEesCeB"
      },
      "source": [
        "### Step 18. Select the third cell down in the column named deaths"
      ]
    },
    {
      "cell_type": "code",
      "execution_count": 17,
      "metadata": {
        "colab": {
          "base_uri": "https://localhost:8080/"
        },
        "id": "tWKDzMHQsCeC",
        "outputId": "fd76bdcb-c823-45cb-9521-585d3bae8eda"
      },
      "outputs": [
        {
          "output_type": "stream",
          "name": "stdout",
          "text": [
            "25\n"
          ]
        }
      ],
      "source": [
        "third_deaths_cell = army['deaths'].iloc[2]\n",
        "print(third_deaths_cell)"
      ]
    },
    {
      "cell_type": "code",
      "source": [],
      "metadata": {
        "id": "_k3JGss7wBVf"
      },
      "execution_count": null,
      "outputs": []
    }
  ],
  "metadata": {
    "kernelspec": {
      "display_name": "Python 3",
      "language": "python",
      "name": "python3"
    },
    "language_info": {
      "codemirror_mode": {
        "name": "ipython",
        "version": 3
      },
      "file_extension": ".py",
      "mimetype": "text/x-python",
      "name": "python",
      "nbconvert_exporter": "python",
      "pygments_lexer": "ipython3",
      "version": "3.7.3"
    },
    "colab": {
      "provenance": [],
      "include_colab_link": true
    }
  },
  "nbformat": 4,
  "nbformat_minor": 0
}