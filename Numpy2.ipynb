{
  "cells": [
    {
      "cell_type": "markdown",
      "metadata": {
        "id": "view-in-github",
        "colab_type": "text"
      },
      "source": [
        "<a href=\"https://colab.research.google.com/github/mimomaina/pythondataanalysis/blob/main/Numpy2.ipynb\" target=\"_parent\"><img src=\"https://colab.research.google.com/assets/colab-badge.svg\" alt=\"Open In Colab\"/></a>"
      ]
    },
    {
      "cell_type": "markdown",
      "metadata": {
        "id": "H3JHa8rEKaIr"
      },
      "source": [
        "# Numpy Exercise 2\n",
        "\n",
        "### All of the questions in this exercise are attributed to rougier/numpy-100"
      ]
    },
    {
      "cell_type": "code",
      "source": [
        "import numpy as np"
      ],
      "metadata": {
        "id": "yc09brDdK6SH"
      },
      "execution_count": 2,
      "outputs": []
    },
    {
      "cell_type": "markdown",
      "metadata": {
        "id": "iV2KdgmvKaI1"
      },
      "source": [
        "#### 16. How to add a border (filled with 0's) around an existing array? (★☆☆)"
      ]
    },
    {
      "cell_type": "code",
      "execution_count": null,
      "metadata": {
        "colab": {
          "base_uri": "https://localhost:8080/"
        },
        "id": "cg-rZiK7KaIz",
        "outputId": "96fbaa6a-9993-48b7-e93f-a28b101156d4"
      },
      "outputs": [
        {
          "output_type": "stream",
          "name": "stdout",
          "text": [
            "[[0. 0. 0. 0. 0.]\n",
            " [0. 1. 1. 1. 0.]\n",
            " [0. 1. 1. 1. 0.]\n",
            " [0. 1. 1. 1. 0.]\n",
            " [0. 0. 0. 0. 0.]]\n"
          ]
        }
      ],
      "source": [
        "array = np.ones((3, 3))\n",
        "bordered_array = np.pad(array, pad_width=1, mode='constant', constant_values=0)\n",
        "print(bordered_array)\n"
      ]
    },
    {
      "cell_type": "markdown",
      "metadata": {
        "id": "WTWk6nJIKaI4"
      },
      "source": [
        "#### 17. What is the result of the following expression? (★☆☆)\n",
        "```python\n",
        "0 * np.nan\n",
        "np.nan == np.nan\n",
        "np.inf > np.nan\n",
        "np.nan - np.nan\n",
        "np.nan in set([np.nan])\n",
        "0.3 == 3 * 0.1\n",
        "```"
      ]
    },
    {
      "cell_type": "code",
      "execution_count": null,
      "metadata": {
        "id": "E-k1VhodKaI5"
      },
      "outputs": [],
      "source": [
        "print(0 * np.nan)               # nan\n",
        "print(np.nan == np.nan)         # False\n",
        "print(np.inf > np.nan)          # False\n",
        "print(np.nan - np.nan)          # nan\n",
        "print(np.nan in set([np.nan]))  # True\n",
        "print(0.3 == 3 * 0.1)           # False\n"
      ]
    },
    {
      "cell_type": "markdown",
      "metadata": {
        "id": "gw3TujUDKaI6"
      },
      "source": [
        "#### 18. Create a 5x5 matrix with values 1,2,3,4 just below the diagonal (★☆☆)"
      ]
    },
    {
      "cell_type": "code",
      "execution_count": 5,
      "metadata": {
        "colab": {
          "base_uri": "https://localhost:8080/"
        },
        "id": "gcgKy65nKaI7",
        "outputId": "7ad30b20-3d5a-452e-d193-abc6594be15a"
      },
      "outputs": [
        {
          "output_type": "stream",
          "name": "stdout",
          "text": [
            "[[0 0 0 0 0]\n",
            " [1 0 0 0 0]\n",
            " [0 2 0 0 0]\n",
            " [0 0 3 0 0]\n",
            " [0 0 0 4 0]]\n"
          ]
        }
      ],
      "source": [
        "matrix = np.diag(np.arange(1, 5), k=-1)\n",
        "print(matrix)\n"
      ]
    },
    {
      "cell_type": "markdown",
      "metadata": {
        "id": "6kbj1ifPKaI8"
      },
      "source": [
        "#### 19. Create a 8x8 matrix and fill it with a checkerboard pattern (★☆☆)"
      ]
    },
    {
      "cell_type": "code",
      "execution_count": 6,
      "metadata": {
        "colab": {
          "base_uri": "https://localhost:8080/"
        },
        "id": "2gVR3VtoKaI9",
        "outputId": "b440ff8e-de48-4305-dfb0-5b3148658b94"
      },
      "outputs": [
        {
          "output_type": "stream",
          "name": "stdout",
          "text": [
            "[[0 1 0 1 0 1 0 1]\n",
            " [1 0 1 0 1 0 1 0]\n",
            " [0 1 0 1 0 1 0 1]\n",
            " [1 0 1 0 1 0 1 0]\n",
            " [0 1 0 1 0 1 0 1]\n",
            " [1 0 1 0 1 0 1 0]\n",
            " [0 1 0 1 0 1 0 1]\n",
            " [1 0 1 0 1 0 1 0]]\n"
          ]
        }
      ],
      "source": [
        "checkerboard = np.zeros((8, 8), dtype=int)\n",
        "checkerboard[1::2, ::2] = 1\n",
        "checkerboard[::2, 1::2] = 1\n",
        "print(checkerboard)\n"
      ]
    },
    {
      "cell_type": "markdown",
      "metadata": {
        "id": "hz4SNKMOKaI-"
      },
      "source": [
        "#### 20. Consider a (6,7,8) shape array, what is the index (x,y,z) of the 100th element?"
      ]
    },
    {
      "cell_type": "code",
      "execution_count": 7,
      "metadata": {
        "colab": {
          "base_uri": "https://localhost:8080/"
        },
        "id": "ZV03F7WIKaJA",
        "outputId": "34a9789c-863a-4b4b-c600-349140db85b6"
      },
      "outputs": [
        {
          "output_type": "stream",
          "name": "stdout",
          "text": [
            "(1, 5, 3)\n"
          ]
        }
      ],
      "source": [
        "index = np.unravel_index(99, (6, 7, 8))\n",
        "print(index)\n"
      ]
    },
    {
      "cell_type": "markdown",
      "metadata": {
        "id": "-4gPQf9WKaJB"
      },
      "source": [
        "#### 21. Create a checkerboard 8x8 matrix using the tile function (★☆☆)"
      ]
    },
    {
      "cell_type": "code",
      "execution_count": 8,
      "metadata": {
        "colab": {
          "base_uri": "https://localhost:8080/"
        },
        "id": "PJ22ZqWJKaJC",
        "outputId": "89452858-585d-47e7-d1e1-44e8a13e4184"
      },
      "outputs": [
        {
          "output_type": "stream",
          "name": "stdout",
          "text": [
            "[[0 1 0 1 0 1 0 1]\n",
            " [1 0 1 0 1 0 1 0]\n",
            " [0 1 0 1 0 1 0 1]\n",
            " [1 0 1 0 1 0 1 0]\n",
            " [0 1 0 1 0 1 0 1]\n",
            " [1 0 1 0 1 0 1 0]\n",
            " [0 1 0 1 0 1 0 1]\n",
            " [1 0 1 0 1 0 1 0]]\n"
          ]
        }
      ],
      "source": [
        "pattern = np.array([[0, 1], [1, 0]])\n",
        "checkerboard = np.tile(pattern, (4, 4))\n",
        "print(checkerboard)\n"
      ]
    },
    {
      "cell_type": "markdown",
      "metadata": {
        "id": "9cZrBA-uKaJD"
      },
      "source": [
        "#### 22. Normalize a 5x5 random matrix (★☆☆)"
      ]
    },
    {
      "cell_type": "code",
      "execution_count": 9,
      "metadata": {
        "colab": {
          "base_uri": "https://localhost:8080/"
        },
        "id": "JpO5j0QsKaJE",
        "outputId": "3d06d4f1-bd78-4cb2-82aa-a3d9a746f3de"
      },
      "outputs": [
        {
          "output_type": "stream",
          "name": "stdout",
          "text": [
            "[[0.62502509 0.09740919 0.27391734 0.71655114 0.1042616 ]\n",
            " [0.80283067 0.         0.41179308 0.63025112 0.63601458]\n",
            " [0.17296643 0.58968855 0.49995947 0.7131128  1.        ]\n",
            " [0.37747341 0.0082225  0.51623474 0.11238024 0.60086494]\n",
            " [0.41627002 0.18837501 0.25428594 0.39256732 0.02429801]]\n"
          ]
        }
      ],
      "source": [
        "random_matrix = np.random.random((5, 5))\n",
        "normalized_matrix = (random_matrix - random_matrix.min()) / (random_matrix.max() - random_matrix.min())\n",
        "print(normalized_matrix)\n"
      ]
    },
    {
      "cell_type": "markdown",
      "metadata": {
        "id": "Eq1e-S_XKaJG"
      },
      "source": [
        "#### 23. Create a custom dtype that describes a color as four unsigned bytes (RGBA) (★☆☆)"
      ]
    },
    {
      "cell_type": "code",
      "execution_count": 10,
      "metadata": {
        "colab": {
          "base_uri": "https://localhost:8080/"
        },
        "id": "cv-EJbh2KaJH",
        "outputId": "f11eb28f-7491-4054-9c78-ae27b730d89b"
      },
      "outputs": [
        {
          "output_type": "stream",
          "name": "stdout",
          "text": [
            "[('R', 'u1'), ('G', 'u1'), ('B', 'u1'), ('A', 'u1')]\n"
          ]
        }
      ],
      "source": [
        "color_dtype = np.dtype([('R', np.ubyte), ('G', np.ubyte), ('B', np.ubyte), ('A', np.ubyte)])\n",
        "print(color_dtype)\n"
      ]
    },
    {
      "cell_type": "markdown",
      "metadata": {
        "id": "M7RQ1PwqKaJJ"
      },
      "source": [
        "#### 24. Multiply a 5x3 matrix by a 3x2 matrix (real matrix product) (★☆☆)"
      ]
    },
    {
      "cell_type": "code",
      "execution_count": 11,
      "metadata": {
        "colab": {
          "base_uri": "https://localhost:8080/"
        },
        "id": "FYISsUqfKaJK",
        "outputId": "1babcc49-d5e7-4be1-bb81-42e8215d0413"
      },
      "outputs": [
        {
          "output_type": "stream",
          "name": "stdout",
          "text": [
            "[[0.29796254 0.13136644]\n",
            " [0.78030569 0.48796802]\n",
            " [1.27639304 0.71578909]\n",
            " [0.6855334  0.50158935]\n",
            " [0.79659991 0.5561725 ]]\n"
          ]
        }
      ],
      "source": [
        "A = np.random.random((5, 3))\n",
        "B = np.random.random((3, 2))\n",
        "product = np.dot(A, B)\n",
        "print(product)\n"
      ]
    },
    {
      "cell_type": "markdown",
      "metadata": {
        "id": "fuo3EmDlKaJK"
      },
      "source": [
        "#### 25. Given a 1D array, negate all elements which are between 3 and 8, in place. (★☆☆)"
      ]
    },
    {
      "cell_type": "code",
      "execution_count": 12,
      "metadata": {
        "colab": {
          "base_uri": "https://localhost:8080/"
        },
        "id": "6eQjh92ZKaJL",
        "outputId": "18cdda9f-fa7d-4eb3-d61a-079058ee8d9a"
      },
      "outputs": [
        {
          "output_type": "stream",
          "name": "stdout",
          "text": [
            "[ 0  1  2  3 -4 -5 -6 -7  8  9]\n"
          ]
        }
      ],
      "source": [
        "array = np.arange(10)\n",
        "array[(array > 3) & (array < 8)] *= -1\n",
        "print(array)\n"
      ]
    },
    {
      "cell_type": "markdown",
      "metadata": {
        "id": "h0CsnowrKaJL"
      },
      "source": [
        "#### 26. What is the output of the following script? (★☆☆)\n",
        "```python\n",
        "# Author: Jake VanderPlas\n",
        "\n",
        "print(sum(range(5),-1))\n",
        "from numpy import *\n",
        "print(sum(range(5),-1))\n",
        "```"
      ]
    },
    {
      "cell_type": "code",
      "execution_count": null,
      "metadata": {
        "id": "_Xn9Uc-kKaJM"
      },
      "outputs": [],
      "source": [
        "# Author: Jake VanderPlas\n",
        "print(sum(range(5), -1))  # Output: 9 (sum of range(5) = 10, then adding -1)\n",
        "from numpy import *\n",
        "print(sum(range(5), -1))  # Output: 10 (NumPy sum treats -1 as the axis parameter, summing over axis -1)\n"
      ]
    },
    {
      "cell_type": "markdown",
      "metadata": {
        "id": "e6XO250PKaJM"
      },
      "source": [
        "#### 27. Consider an integer vector Z, which of these expressions are legal? (★☆☆)\n",
        "```python\n",
        "Z**Z\n",
        "2 << Z >> 2\n",
        "Z <- Z\n",
        "1j*Z\n",
        "Z/1/1\n",
        "Z<Z>Z\n",
        "```"
      ]
    },
    {
      "cell_type": "code",
      "execution_count": null,
      "metadata": {
        "id": "TQ48dgseKaJM"
      },
      "outputs": [],
      "source": [
        "Z = np.arange(5)\n",
        "# Legal:\n",
        "print(Z**Z)      # Raises each element to the power of itself\n",
        "print(2 << Z >> 2)  # Bitwise operations\n",
        "print(Z <- Z)    # Boolean comparison\n",
        "print(1j * Z)    # Complex number multiplication\n",
        "print(Z / 1 / 1) # Division works\n",
        "# Illegal:\n",
        "# print(Z<Z>Z)   # Chained comparison is not supported\n"
      ]
    },
    {
      "cell_type": "markdown",
      "metadata": {
        "id": "rVwb8gaoKaJN"
      },
      "source": [
        "#### 28. What are the result of the following expressions?\n",
        "```python\n",
        "np.array(0) / np.array(0)\n",
        "np.array(0) // np.array(0)\n",
        "np.array([np.nan]).astype(int).astype(float)\n",
        "```"
      ]
    },
    {
      "cell_type": "code",
      "execution_count": null,
      "metadata": {
        "id": "eBPX_6tlKaJN"
      },
      "outputs": [],
      "source": [
        "print(np.array(0) / np.array(0))   # RuntimeWarning, result: nan\n",
        "print(np.array(0) // np.array(0))  # RuntimeWarning, result: 0 (integer division)\n",
        "print(np.array([np.nan]).astype(int).astype(float))  # Result: [-9.22337204e+18] (system-dependent)\n"
      ]
    },
    {
      "cell_type": "markdown",
      "metadata": {
        "id": "xh8zEa--KaJO"
      },
      "source": [
        "#### 29. How to round away from zero a float array ? (★☆☆)"
      ]
    },
    {
      "cell_type": "code",
      "execution_count": 13,
      "metadata": {
        "colab": {
          "base_uri": "https://localhost:8080/"
        },
        "id": "M3Tp5MstKaJO",
        "outputId": "7d566410-e3d2-4b30-ff30-17f981a142f7"
      },
      "outputs": [
        {
          "output_type": "stream",
          "name": "stdout",
          "text": [
            "[-2. -2. -1.  1.  2.  2.]\n"
          ]
        }
      ],
      "source": [
        "float_array = np.array([-1.7, -1.5, -0.2, 0.2, 1.5, 1.7])\n",
        "rounded = np.copysign(np.ceil(np.abs(float_array)), float_array)\n",
        "print(rounded)\n"
      ]
    },
    {
      "cell_type": "markdown",
      "metadata": {
        "id": "S8ERDCQEKaJP"
      },
      "source": [
        "#### 30. How to find common values between two arrays? (★☆☆)"
      ]
    },
    {
      "cell_type": "code",
      "execution_count": 14,
      "metadata": {
        "colab": {
          "base_uri": "https://localhost:8080/"
        },
        "id": "gMzIj6CKKaJP",
        "outputId": "9355d317-8c1a-4d20-d518-a6780e62cb3f"
      },
      "outputs": [
        {
          "output_type": "stream",
          "name": "stdout",
          "text": [
            "[4 5]\n"
          ]
        }
      ],
      "source": [
        "array1 = np.array([1, 2, 3, 4, 5])\n",
        "array2 = np.array([4, 5, 6, 7, 8])\n",
        "common_values = np.intersect1d(array1, array2)\n",
        "print(common_values)\n"
      ]
    },
    {
      "cell_type": "code",
      "source": [],
      "metadata": {
        "id": "9UVKj1AnMh9f"
      },
      "execution_count": null,
      "outputs": []
    }
  ],
  "metadata": {
    "kernelspec": {
      "display_name": "Python 3",
      "language": "python",
      "name": "python3"
    },
    "language_info": {
      "codemirror_mode": {
        "name": "ipython",
        "version": 3
      },
      "file_extension": ".py",
      "mimetype": "text/x-python",
      "name": "python",
      "nbconvert_exporter": "python",
      "pygments_lexer": "ipython3",
      "version": "3.7.4"
    },
    "colab": {
      "provenance": [],
      "include_colab_link": true
    }
  },
  "nbformat": 4,
  "nbformat_minor": 0
}