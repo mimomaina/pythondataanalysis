{
  "cells": [
    {
      "cell_type": "markdown",
      "metadata": {
        "id": "view-in-github",
        "colab_type": "text"
      },
      "source": [
        "<a href=\"https://colab.research.google.com/github/mimomaina/pythondataanalysis/blob/main/MPG_Cars.ipynb\" target=\"_parent\"><img src=\"https://colab.research.google.com/assets/colab-badge.svg\" alt=\"Open In Colab\"/></a>"
      ]
    },
    {
      "cell_type": "markdown",
      "metadata": {
        "id": "U8LEOquhAPwr"
      },
      "source": [
        "# MPG Cars"
      ]
    },
    {
      "cell_type": "markdown",
      "metadata": {
        "id": "D_dN1P60APwu"
      },
      "source": [
        "### Introduction:\n",
        "\n",
        "The following exercise utilizes data from [UC Irvine Machine Learning Repository](https://archive.ics.uci.edu/ml/datasets/Auto+MPG)\n",
        "\n",
        "### Step 1. Import the necessary libraries"
      ]
    },
    {
      "cell_type": "code",
      "execution_count": 1,
      "metadata": {
        "id": "Og7xXO-GAPwv"
      },
      "outputs": [],
      "source": [
        "import pandas as pd"
      ]
    },
    {
      "cell_type": "markdown",
      "metadata": {
        "id": "A0pineprAPww"
      },
      "source": [
        "### Step 2. Import the first dataset [cars1](https://raw.githubusercontent.com/guipsamora/pandas_exercises/master/05_Merge/Auto_MPG/cars1.csv) and [cars2](https://raw.githubusercontent.com/guipsamora/pandas_exercises/master/05_Merge/Auto_MPG/cars2.csv).  "
      ]
    },
    {
      "cell_type": "markdown",
      "metadata": {
        "id": "7UEglttMAPwx"
      },
      "source": [
        "   ### Step 3. Assign each to a variable called cars1 and cars2"
      ]
    },
    {
      "cell_type": "code",
      "execution_count": 2,
      "metadata": {
        "id": "0SOw5ID7APwx"
      },
      "outputs": [],
      "source": [
        "cars1= pd.read_csv('/content/cars1.csv')\n",
        "cars2= pd.read_csv('/content/cars2.csv')"
      ]
    },
    {
      "cell_type": "markdown",
      "metadata": {
        "id": "GdXOvizyAPwx"
      },
      "source": [
        "### Step 4. Oops, it seems our first dataset has some unnamed blank columns, fix cars1"
      ]
    },
    {
      "cell_type": "code",
      "execution_count": 3,
      "metadata": {
        "colab": {
          "base_uri": "https://localhost:8080/"
        },
        "id": "ocfHCJP_APwx",
        "outputId": "e9e827b2-abbb-414d-ab61-d7442dae3685"
      },
      "outputs": [
        {
          "output_type": "stream",
          "name": "stdout",
          "text": [
            "Index(['mpg', 'cylinders', 'displacement', 'horsepower', 'weight',\n",
            "       'acceleration', 'model', 'origin', 'car'],\n",
            "      dtype='object')\n"
          ]
        }
      ],
      "source": [
        "cars1 = cars1.loc[:, ~cars1.columns.str.contains('^Unnamed')]\n",
        "\n",
        "print(cars1.columns)\n"
      ]
    },
    {
      "cell_type": "markdown",
      "metadata": {
        "id": "d1WUjHL3APwy"
      },
      "source": [
        "### Step 5. What is the number of observations in each dataset?"
      ]
    },
    {
      "cell_type": "code",
      "execution_count": 4,
      "metadata": {
        "colab": {
          "base_uri": "https://localhost:8080/"
        },
        "id": "DpoWIhqIAPwy",
        "outputId": "fad388a6-c8ea-473a-bfe1-7e38f42bb665"
      },
      "outputs": [
        {
          "output_type": "stream",
          "name": "stdout",
          "text": [
            "Number of observations in cars1: 198\n",
            "Number of observations in cars2: 200\n"
          ]
        }
      ],
      "source": [
        "print(f\"Number of observations in cars1: {cars1.shape[0]}\")\n",
        "print(f\"Number of observations in cars2: {cars2.shape[0]}\")\n"
      ]
    },
    {
      "cell_type": "markdown",
      "metadata": {
        "id": "J_gVN4J0APwy"
      },
      "source": [
        "### Step 6. Join cars1 and cars2 into a single DataFrame called cars"
      ]
    },
    {
      "cell_type": "code",
      "execution_count": 5,
      "metadata": {
        "colab": {
          "base_uri": "https://localhost:8080/"
        },
        "id": "gHeeIvIrAPwz",
        "outputId": "dd6f3579-ae93-4e0e-956f-bb082ff70ff4"
      },
      "outputs": [
        {
          "output_type": "stream",
          "name": "stdout",
          "text": [
            "    mpg  cylinders  displacement horsepower  weight  acceleration  model  \\\n",
            "0  18.0          8           307        130    3504          12.0     70   \n",
            "1  15.0          8           350        165    3693          11.5     70   \n",
            "2  18.0          8           318        150    3436          11.0     70   \n",
            "3  16.0          8           304        150    3433          12.0     70   \n",
            "4  17.0          8           302        140    3449          10.5     70   \n",
            "\n",
            "   origin                        car  \n",
            "0       1  chevrolet chevelle malibu  \n",
            "1       1          buick skylark 320  \n",
            "2       1         plymouth satellite  \n",
            "3       1              amc rebel sst  \n",
            "4       1                ford torino  \n",
            "Total number of observations in cars: 398\n"
          ]
        }
      ],
      "source": [
        "# Concatenate cars1 and cars2\n",
        "cars = pd.concat([cars1, cars2], ignore_index=True)\n",
        "print(cars.head())\n",
        "print(f\"Total number of observations in cars: {cars.shape[0]}\")\n"
      ]
    },
    {
      "cell_type": "markdown",
      "metadata": {
        "id": "Muz2IweFAPwz"
      },
      "source": [
        "### Step 7. Oops, there is a column missing, called owners. Create a random number Series from 15,000 to 73,000."
      ]
    },
    {
      "cell_type": "code",
      "execution_count": 7,
      "metadata": {
        "colab": {
          "base_uri": "https://localhost:8080/",
          "height": 458
        },
        "id": "pmcs3oGwAPwz",
        "outputId": "ff5efc20-807b-4a35-bd5e-186432d712f4"
      },
      "outputs": [
        {
          "output_type": "execute_result",
          "data": {
            "text/plain": [
              "0      35667\n",
              "1      63954\n",
              "2      72754\n",
              "3      38810\n",
              "4      67978\n",
              "       ...  \n",
              "393    33031\n",
              "394    72510\n",
              "395    44816\n",
              "396    35448\n",
              "397    64224\n",
              "Name: owners, Length: 398, dtype: int64"
            ],
            "text/html": [
              "<div>\n",
              "<style scoped>\n",
              "    .dataframe tbody tr th:only-of-type {\n",
              "        vertical-align: middle;\n",
              "    }\n",
              "\n",
              "    .dataframe tbody tr th {\n",
              "        vertical-align: top;\n",
              "    }\n",
              "\n",
              "    .dataframe thead th {\n",
              "        text-align: right;\n",
              "    }\n",
              "</style>\n",
              "<table border=\"1\" class=\"dataframe\">\n",
              "  <thead>\n",
              "    <tr style=\"text-align: right;\">\n",
              "      <th></th>\n",
              "      <th>owners</th>\n",
              "    </tr>\n",
              "  </thead>\n",
              "  <tbody>\n",
              "    <tr>\n",
              "      <th>0</th>\n",
              "      <td>35667</td>\n",
              "    </tr>\n",
              "    <tr>\n",
              "      <th>1</th>\n",
              "      <td>63954</td>\n",
              "    </tr>\n",
              "    <tr>\n",
              "      <th>2</th>\n",
              "      <td>72754</td>\n",
              "    </tr>\n",
              "    <tr>\n",
              "      <th>3</th>\n",
              "      <td>38810</td>\n",
              "    </tr>\n",
              "    <tr>\n",
              "      <th>4</th>\n",
              "      <td>67978</td>\n",
              "    </tr>\n",
              "    <tr>\n",
              "      <th>...</th>\n",
              "      <td>...</td>\n",
              "    </tr>\n",
              "    <tr>\n",
              "      <th>393</th>\n",
              "      <td>33031</td>\n",
              "    </tr>\n",
              "    <tr>\n",
              "      <th>394</th>\n",
              "      <td>72510</td>\n",
              "    </tr>\n",
              "    <tr>\n",
              "      <th>395</th>\n",
              "      <td>44816</td>\n",
              "    </tr>\n",
              "    <tr>\n",
              "      <th>396</th>\n",
              "      <td>35448</td>\n",
              "    </tr>\n",
              "    <tr>\n",
              "      <th>397</th>\n",
              "      <td>64224</td>\n",
              "    </tr>\n",
              "  </tbody>\n",
              "</table>\n",
              "<p>398 rows × 1 columns</p>\n",
              "</div><br><label><b>dtype:</b> int64</label>"
            ]
          },
          "metadata": {},
          "execution_count": 7
        }
      ],
      "source": [
        "import numpy as np\n",
        "\n",
        "# Create a random Series for owners\n",
        "owners = pd.Series(np.random.randint(15000, 73000, size=cars.shape[0]), name=\"owners\")\n",
        "owners\n"
      ]
    },
    {
      "cell_type": "markdown",
      "metadata": {
        "id": "MlEDSryzAPwz"
      },
      "source": [
        "### Step 8. Add the column owners to cars"
      ]
    },
    {
      "cell_type": "code",
      "execution_count": 8,
      "metadata": {
        "colab": {
          "base_uri": "https://localhost:8080/"
        },
        "id": "hI-5vK4DAPwz",
        "outputId": "d62b700c-6abf-4607-9bab-06d584da8bc9"
      },
      "outputs": [
        {
          "output_type": "stream",
          "name": "stdout",
          "text": [
            "    mpg  cylinders  displacement horsepower  weight  acceleration  model  \\\n",
            "0  18.0          8           307        130    3504          12.0     70   \n",
            "1  15.0          8           350        165    3693          11.5     70   \n",
            "2  18.0          8           318        150    3436          11.0     70   \n",
            "3  16.0          8           304        150    3433          12.0     70   \n",
            "4  17.0          8           302        140    3449          10.5     70   \n",
            "\n",
            "   origin                        car  owners  \n",
            "0       1  chevrolet chevelle malibu   35667  \n",
            "1       1          buick skylark 320   63954  \n",
            "2       1         plymouth satellite   72754  \n",
            "3       1              amc rebel sst   38810  \n",
            "4       1                ford torino   67978  \n"
          ]
        }
      ],
      "source": [
        "# Add the 'owners' column to the DataFrame\n",
        "cars['owners'] = owners\n",
        "\n",
        "print(cars.head())\n"
      ]
    },
    {
      "cell_type": "code",
      "source": [],
      "metadata": {
        "id": "Y0_tNNLoB69A"
      },
      "execution_count": null,
      "outputs": []
    }
  ],
  "metadata": {
    "anaconda-cloud": {},
    "kernelspec": {
      "display_name": "Python [default]",
      "language": "python",
      "name": "python2"
    },
    "language_info": {
      "codemirror_mode": {
        "name": "ipython",
        "version": 2
      },
      "file_extension": ".py",
      "mimetype": "text/x-python",
      "name": "python",
      "nbconvert_exporter": "python",
      "pygments_lexer": "ipython2",
      "version": "2.7.12"
    },
    "colab": {
      "provenance": [],
      "include_colab_link": true
    }
  },
  "nbformat": 4,
  "nbformat_minor": 0
}