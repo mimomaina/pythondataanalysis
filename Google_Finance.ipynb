{
  "cells": [
    {
      "cell_type": "markdown",
      "metadata": {
        "id": "view-in-github",
        "colab_type": "text"
      },
      "source": [
        "<a href=\"https://colab.research.google.com/github/mimomaina/pythondataanalysis/blob/main/Google_Finance.ipynb\" target=\"_parent\"><img src=\"https://colab.research.google.com/assets/colab-badge.svg\" alt=\"Open In Colab\"/></a>"
      ]
    },
    {
      "cell_type": "markdown",
      "metadata": {
        "id": "JdwiqpLNdCkY"
      },
      "source": [
        "# Getting Financial Data - Google Finance"
      ]
    },
    {
      "cell_type": "markdown",
      "metadata": {
        "id": "35eVqrxHdCkc"
      },
      "source": [
        "### Introduction:\n",
        "\n",
        "This time you will get data from a website.\n",
        "\n",
        "\n",
        "### Step 1. Import the necessary libraries"
      ]
    },
    {
      "cell_type": "code",
      "execution_count": 1,
      "metadata": {
        "id": "tnf1DMWBdCkd"
      },
      "outputs": [],
      "source": [
        "import pandas as pd\n",
        "import yfinance as yf\n",
        "from datetime import datetime\n"
      ]
    },
    {
      "cell_type": "markdown",
      "metadata": {
        "id": "JM6feZQtdCke"
      },
      "source": [
        "### Step 2. Create your time range (start and end variables). The start date should be 01/01/2015 and the end should today (whatever your today is)"
      ]
    },
    {
      "cell_type": "code",
      "execution_count": 2,
      "metadata": {
        "id": "XUX6INVidCkf"
      },
      "outputs": [],
      "source": [
        "start_date = '2015-01-01'\n",
        "end_date = datetime.today().strftime('%Y-%m-%d')\n"
      ]
    },
    {
      "cell_type": "markdown",
      "metadata": {
        "id": "C3ryKto8dCkf"
      },
      "source": [
        "### Step 3. Select the Apple, Tesla, Twitter, IBM, LinkedIn stocks symbols and assign them to a variable called stocks"
      ]
    },
    {
      "cell_type": "code",
      "execution_count": 3,
      "metadata": {
        "id": "9uPBVrNWdCkg"
      },
      "outputs": [],
      "source": [
        "stocks = ['AAPL', 'TSLA', 'TWTR', 'IBM', 'LNKD']\n"
      ]
    },
    {
      "cell_type": "markdown",
      "metadata": {
        "id": "dCNsKwjEdCkg"
      },
      "source": [
        "### Step 4. Read the data from google, assign to df and print it"
      ]
    },
    {
      "cell_type": "code",
      "execution_count": 4,
      "metadata": {
        "colab": {
          "base_uri": "https://localhost:8080/"
        },
        "id": "UwVg6vH5dCkg",
        "outputId": "d1927e25-e9d6-42c1-ccc2-b9fcc924a525"
      },
      "outputs": [
        {
          "output_type": "stream",
          "name": "stderr",
          "text": [
            "[*********************100%***********************]  5 of 5 completed\n",
            "ERROR:yfinance:\n",
            "2 Failed downloads:\n",
            "ERROR:yfinance:['LNKD']: YFPricesMissingError('$%ticker%: possibly delisted; no price data found  (1d 2015-01-01 -> 2024-11-20)')\n",
            "ERROR:yfinance:['TWTR']: YFTzMissingError('$%ticker%: possibly delisted; no timezone found')\n"
          ]
        },
        {
          "output_type": "stream",
          "name": "stdout",
          "text": [
            "Price                       Adj Close                                    \\\n",
            "Ticker                           AAPL         IBM LNKD        TSLA TWTR   \n",
            "Date                                                                      \n",
            "2015-01-02 00:00:00+00:00   24.347170  100.658310  NaN   14.620667  NaN   \n",
            "2015-01-05 00:00:00+00:00   23.661270   99.074455  NaN   14.006000  NaN   \n",
            "2015-01-06 00:00:00+00:00   23.663502   96.937798  NaN   14.085333  NaN   \n",
            "2015-01-07 00:00:00+00:00   23.995319   96.304276  NaN   14.063333  NaN   \n",
            "2015-01-08 00:00:00+00:00   24.917273   98.397415  NaN   14.041333  NaN   \n",
            "...                               ...         ...  ...         ...  ...   \n",
            "2024-11-13 00:00:00+00:00  225.119995  210.919998  NaN  330.239990  NaN   \n",
            "2024-11-14 00:00:00+00:00  228.220001  208.990005  NaN  311.179993  NaN   \n",
            "2024-11-15 00:00:00+00:00  225.000000  204.990005  NaN  320.720001  NaN   \n",
            "2024-11-18 00:00:00+00:00  228.020004  208.089996  NaN  338.739990  NaN   \n",
            "2024-11-19 00:00:00+00:00  228.279999  210.250000  NaN  346.000000  NaN   \n",
            "\n",
            "Price                           Close                                    ...  \\\n",
            "Ticker                           AAPL         IBM LNKD        TSLA TWTR  ...   \n",
            "Date                                                                     ...   \n",
            "2015-01-02 00:00:00+00:00   27.332500  154.933075  NaN   14.620667  NaN  ...   \n",
            "2015-01-05 00:00:00+00:00   26.562500  152.495224  NaN   14.006000  NaN  ...   \n",
            "2015-01-06 00:00:00+00:00   26.565001  149.206497  NaN   14.085333  NaN  ...   \n",
            "2015-01-07 00:00:00+00:00   26.937500  148.231354  NaN   14.063333  NaN  ...   \n",
            "2015-01-08 00:00:00+00:00   27.972500  151.453156  NaN   14.041333  NaN  ...   \n",
            "...                               ...         ...  ...         ...  ...  ...   \n",
            "2024-11-13 00:00:00+00:00  225.119995  210.919998  NaN  330.239990  NaN  ...   \n",
            "2024-11-14 00:00:00+00:00  228.220001  208.990005  NaN  311.179993  NaN  ...   \n",
            "2024-11-15 00:00:00+00:00  225.000000  204.990005  NaN  320.720001  NaN  ...   \n",
            "2024-11-18 00:00:00+00:00  228.020004  208.089996  NaN  338.739990  NaN  ...   \n",
            "2024-11-19 00:00:00+00:00  228.279999  210.250000  NaN  346.000000  NaN  ...   \n",
            "\n",
            "Price                            Open                                    \\\n",
            "Ticker                           AAPL         IBM LNKD        TSLA TWTR   \n",
            "Date                                                                      \n",
            "2015-01-02 00:00:00+00:00   27.847500  154.216064  NaN   14.858000  NaN   \n",
            "2015-01-05 00:00:00+00:00   27.072500  154.177826  NaN   14.303333  NaN   \n",
            "2015-01-06 00:00:00+00:00   26.635000  152.648178  NaN   14.004000  NaN   \n",
            "2015-01-07 00:00:00+00:00   26.799999  150.286804  NaN   14.223333  NaN   \n",
            "2015-01-08 00:00:00+00:00   27.307501  149.369019  NaN   14.187333  NaN   \n",
            "...                               ...         ...  ...         ...  ...   \n",
            "2024-11-13 00:00:00+00:00  224.009995  209.500000  NaN  335.850006  NaN   \n",
            "2024-11-14 00:00:00+00:00  225.020004  210.000000  NaN  327.690002  NaN   \n",
            "2024-11-15 00:00:00+00:00  226.399994  207.460007  NaN  310.570007  NaN   \n",
            "2024-11-18 00:00:00+00:00  225.250000  207.000000  NaN  340.730011  NaN   \n",
            "2024-11-19 00:00:00+00:00  226.979996  206.500000  NaN  335.760010  NaN   \n",
            "\n",
            "Price                         Volume                                \n",
            "Ticker                          AAPL      IBM LNKD       TSLA TWTR  \n",
            "Date                                                                \n",
            "2015-01-02 00:00:00+00:00  212818400  5779673  NaN   71466000  NaN  \n",
            "2015-01-05 00:00:00+00:00  257142000  5104898  NaN   80527500  NaN  \n",
            "2015-01-06 00:00:00+00:00  263188400  6429448  NaN   93928500  NaN  \n",
            "2015-01-07 00:00:00+00:00  160423600  4918083  NaN   44526000  NaN  \n",
            "2015-01-08 00:00:00+00:00  237458000  4431693  NaN   51637500  NaN  \n",
            "...                              ...      ...  ...        ...  ...  \n",
            "2024-11-13 00:00:00+00:00   48566200  3247800  NaN  125405600  NaN  \n",
            "2024-11-14 00:00:00+00:00   44923900  6372900  NaN  120726100  NaN  \n",
            "2024-11-15 00:00:00+00:00   47923700  3986500  NaN  114440300  NaN  \n",
            "2024-11-18 00:00:00+00:00   44686000  3405900  NaN  126547500  NaN  \n",
            "2024-11-19 00:00:00+00:00   36077500  2859700  NaN   88563400  NaN  \n",
            "\n",
            "[2488 rows x 30 columns]\n"
          ]
        }
      ],
      "source": [
        "df = yf.download(stocks, start=start_date, end=end_date)\n",
        "print(df)\n"
      ]
    },
    {
      "cell_type": "markdown",
      "metadata": {
        "id": "AbzvciladCkg"
      },
      "source": [
        "### Step 5.  What is the type of structure of df ?"
      ]
    },
    {
      "cell_type": "code",
      "execution_count": 5,
      "metadata": {
        "colab": {
          "base_uri": "https://localhost:8080/"
        },
        "id": "GY9E3lkYdCkh",
        "outputId": "3fbf251d-3aa1-4288-e5f0-9e19266126ad"
      },
      "outputs": [
        {
          "output_type": "stream",
          "name": "stdout",
          "text": [
            "<class 'pandas.core.frame.DataFrame'>\n"
          ]
        }
      ],
      "source": [
        "print(type(df))\n"
      ]
    },
    {
      "cell_type": "markdown",
      "metadata": {
        "id": "3fYeYwxKdCkh"
      },
      "source": [
        "### Step 6. Print all the Items axis values\n",
        "#### To learn more about the Panel structure go to [documentation](http://pandas.pydata.org/pandas-docs/stable/dsintro.html#panel)"
      ]
    },
    {
      "cell_type": "code",
      "execution_count": 7,
      "metadata": {
        "colab": {
          "base_uri": "https://localhost:8080/"
        },
        "id": "Xc8TKoyfdCkh",
        "outputId": "af3f0b0d-6142-46e5-99bc-6d2bb27bf78d"
      },
      "outputs": [
        {
          "output_type": "stream",
          "name": "stdout",
          "text": [
            "<generator object DataFrame.items at 0x7d6fe40ed5b0>\n"
          ]
        }
      ],
      "source": [
        "print(df.items())\n"
      ]
    },
    {
      "cell_type": "markdown",
      "metadata": {
        "id": "_WoExQ9MdCkh"
      },
      "source": [
        "### Step 7. Good, now we know  the data avaiable. Create a dataFrame called vol, with the Volume values."
      ]
    },
    {
      "cell_type": "code",
      "execution_count": 8,
      "metadata": {
        "colab": {
          "base_uri": "https://localhost:8080/"
        },
        "id": "Qc0kyjUvdCkh",
        "outputId": "1c2423ad-bcb9-49cc-cc65-35acc42a6ded"
      },
      "outputs": [
        {
          "output_type": "stream",
          "name": "stdout",
          "text": [
            "Ticker                          AAPL      IBM  LNKD       TSLA  TWTR\n",
            "Date                                                                \n",
            "2015-01-02 00:00:00+00:00  212818400  5779673   NaN   71466000   NaN\n",
            "2015-01-05 00:00:00+00:00  257142000  5104898   NaN   80527500   NaN\n",
            "2015-01-06 00:00:00+00:00  263188400  6429448   NaN   93928500   NaN\n",
            "2015-01-07 00:00:00+00:00  160423600  4918083   NaN   44526000   NaN\n",
            "2015-01-08 00:00:00+00:00  237458000  4431693   NaN   51637500   NaN\n",
            "...                              ...      ...   ...        ...   ...\n",
            "2024-11-13 00:00:00+00:00   48566200  3247800   NaN  125405600   NaN\n",
            "2024-11-14 00:00:00+00:00   44923900  6372900   NaN  120726100   NaN\n",
            "2024-11-15 00:00:00+00:00   47923700  3986500   NaN  114440300   NaN\n",
            "2024-11-18 00:00:00+00:00   44686000  3405900   NaN  126547500   NaN\n",
            "2024-11-19 00:00:00+00:00   36077500  2859700   NaN   88563400   NaN\n",
            "\n",
            "[2488 rows x 5 columns]\n"
          ]
        }
      ],
      "source": [
        "vol = df['Volume']\n",
        "print(vol)\n"
      ]
    },
    {
      "cell_type": "markdown",
      "metadata": {
        "id": "G5btTKwQdCkh"
      },
      "source": [
        "### Step 8. Aggregate the data of Volume to weekly\n",
        "#### Hint: Be careful to not sum data from the same week of 2015 and other years."
      ]
    },
    {
      "cell_type": "code",
      "execution_count": 9,
      "metadata": {
        "scrolled": true,
        "colab": {
          "base_uri": "https://localhost:8080/"
        },
        "id": "6BYU3Y8bdCki",
        "outputId": "a370630a-1e01-4007-a928-ae51a041ab92"
      },
      "outputs": [
        {
          "output_type": "stream",
          "name": "stdout",
          "text": [
            "Ticker                           AAPL       IBM  LNKD       TSLA  TWTR\n",
            "Date                                                                  \n",
            "2015-01-04 00:00:00+00:00   212818400   5779673   0.0   71466000   0.0\n",
            "2015-01-11 00:00:00+00:00  1133010000  25578884   0.0  340644000   0.0\n",
            "2015-01-18 00:00:00+00:00  1216906400  24329751   0.0  461988000   0.0\n",
            "2015-01-25 00:00:00+00:00   794948000  32682062   0.0  243175500   0.0\n",
            "2015-02-01 00:00:00+00:00  1863370800  34442689   0.0  235803000   0.0\n",
            "...                               ...       ...   ...        ...   ...\n",
            "2024-10-27 00:00:00+00:00   197299900  31380700   0.0  537640400   0.0\n",
            "2024-11-03 00:00:00+00:00   248222000  26467700   0.0  366289100   0.0\n",
            "2024-11-10 00:00:00+00:00   208083400  15846600   0.0  625405600   0.0\n",
            "2024-11-17 00:00:00+00:00   223817700  19438000   0.0  726819600   0.0\n",
            "2024-11-24 00:00:00+00:00    80763500   6265600   0.0  215110900   0.0\n",
            "\n",
            "[517 rows x 5 columns]\n"
          ]
        }
      ],
      "source": [
        "vol_weekly = vol.resample('W').sum()\n",
        "print(vol_weekly)\n"
      ]
    },
    {
      "cell_type": "markdown",
      "metadata": {
        "id": "iHH9vhm8dCki"
      },
      "source": [
        "### Step 9. Find all the volume traded in the year of 2015"
      ]
    },
    {
      "cell_type": "code",
      "execution_count": 13,
      "metadata": {
        "colab": {
          "base_uri": "https://localhost:8080/"
        },
        "id": "l36nrAdJdCki",
        "outputId": "35d13b62-b860-4922-87a4-87a8764ed965"
      },
      "outputs": [
        {
          "output_type": "stream",
          "name": "stdout",
          "text": [
            "Ticker                          AAPL      IBM  LNKD      TSLA  TWTR\n",
            "Date                                                               \n",
            "2015-01-02 00:00:00+00:00  212818400  5779673   NaN  71466000   NaN\n",
            "2015-01-05 00:00:00+00:00  257142000  5104898   NaN  80527500   NaN\n",
            "2015-01-06 00:00:00+00:00  263188400  6429448   NaN  93928500   NaN\n",
            "2015-01-07 00:00:00+00:00  160423600  4918083   NaN  44526000   NaN\n",
            "2015-01-08 00:00:00+00:00  237458000  4431693   NaN  51637500   NaN\n",
            "...                              ...      ...   ...       ...   ...\n",
            "2015-12-24 00:00:00+00:00   54281600  1563979   NaN  10620000   NaN\n",
            "2015-12-28 00:00:00+00:00  106816800  3287996   NaN  28519500   NaN\n",
            "2015-12-29 00:00:00+00:00  123724800  4125110   NaN  36094500   NaN\n",
            "2015-12-30 00:00:00+00:00  100855200  3126912   NaN  55468500   NaN\n",
            "2015-12-31 00:00:00+00:00  163649200  3621357   NaN  40725000   NaN\n",
            "\n",
            "[252 rows x 5 columns]\n"
          ]
        }
      ],
      "source": [
        "df.index = pd.to_datetime(df.index)\n",
        "vol_2015 = vol[df.index.year == 2015]\n",
        "print(vol_2015)\n"
      ]
    },
    {
      "cell_type": "markdown",
      "metadata": {
        "id": "dGduyBTydCki"
      },
      "source": [
        "### BONUS: Create your own question and answer it."
      ]
    },
    {
      "cell_type": "markdown",
      "source": [
        " What was the average volume traded for each stock in the year 2015?"
      ],
      "metadata": {
        "id": "oXBMMBrseo_H"
      }
    },
    {
      "cell_type": "code",
      "execution_count": 14,
      "metadata": {
        "collapsed": true,
        "colab": {
          "base_uri": "https://localhost:8080/"
        },
        "id": "c8wCY2hbdCki",
        "outputId": "e3960b2e-ade4-423a-a510-b0cedf2d26c3"
      },
      "outputs": [
        {
          "output_type": "stream",
          "name": "stdout",
          "text": [
            "Ticker\n",
            "AAPL    2.073976e+08\n",
            "IBM     4.589045e+06\n",
            "LNKD             NaN\n",
            "TSLA    6.477487e+07\n",
            "TWTR             NaN\n",
            "dtype: float64\n"
          ]
        }
      ],
      "source": [
        "vol.index = pd.to_datetime(vol.index)\n",
        "\n",
        "vol_2015 = vol[vol.index.year == 2015]\n",
        "avg_vol_2015 = vol_2015.mean()\n",
        "print(avg_vol_2015)\n"
      ]
    },
    {
      "cell_type": "code",
      "source": [],
      "metadata": {
        "id": "avmpVO92etPI"
      },
      "execution_count": null,
      "outputs": []
    }
  ],
  "metadata": {
    "kernelspec": {
      "display_name": "Python 2",
      "language": "python",
      "name": "python2"
    },
    "language_info": {
      "codemirror_mode": {
        "name": "ipython",
        "version": 2
      },
      "file_extension": ".py",
      "mimetype": "text/x-python",
      "name": "python",
      "nbconvert_exporter": "python",
      "pygments_lexer": "ipython2",
      "version": "2.7.11"
    },
    "colab": {
      "provenance": [],
      "include_colab_link": true
    }
  },
  "nbformat": 4,
  "nbformat_minor": 0
}