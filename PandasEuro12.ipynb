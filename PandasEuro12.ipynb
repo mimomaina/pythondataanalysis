{
  "cells": [
    {
      "cell_type": "markdown",
      "metadata": {
        "id": "view-in-github",
        "colab_type": "text"
      },
      "source": [
        "<a href=\"https://colab.research.google.com/github/mimomaina/pythondataanalysis/blob/main/PandasEuro12.ipynb\" target=\"_parent\"><img src=\"https://colab.research.google.com/assets/colab-badge.svg\" alt=\"Open In Colab\"/></a>"
      ]
    },
    {
      "cell_type": "markdown",
      "metadata": {
        "id": "_uIza_jfo9qX"
      },
      "source": [
        "# Ex2 - Filtering and Sorting Data"
      ]
    },
    {
      "cell_type": "markdown",
      "metadata": {
        "id": "6ET1M5dYo9qe"
      },
      "source": [
        "This time we are going to pull data directly from the internet.\n",
        "\n",
        "### Step 1. Import the necessary libraries"
      ]
    },
    {
      "cell_type": "code",
      "execution_count": 1,
      "metadata": {
        "id": "olbKMYnXo9qf"
      },
      "outputs": [],
      "source": [
        "import pandas as pd\n",
        "import numpy as np\n"
      ]
    },
    {
      "cell_type": "markdown",
      "metadata": {
        "id": "BkKg4Dn3o9qg"
      },
      "source": [
        "### Step 2. Import the dataset from this [address](https://raw.githubusercontent.com/guipsamora/pandas_exercises/master/02_Filtering_%26_Sorting/Euro12/Euro_2012_stats_TEAM.csv)."
      ]
    },
    {
      "cell_type": "markdown",
      "metadata": {
        "id": "2l92B8vpo9qg"
      },
      "source": [
        "### Step 3. Assign it to a variable called euro12."
      ]
    },
    {
      "cell_type": "code",
      "execution_count": 4,
      "metadata": {
        "id": "cRniwfeFo9qh"
      },
      "outputs": [],
      "source": [
        "euro12 = pd.read_csv('/content/Euro_2012_stats_TEAM.csv')"
      ]
    },
    {
      "cell_type": "markdown",
      "metadata": {
        "id": "ITnUwejho9qh"
      },
      "source": [
        "### Step 4. Select only the Goal column."
      ]
    },
    {
      "cell_type": "code",
      "execution_count": 5,
      "metadata": {
        "colab": {
          "base_uri": "https://localhost:8080/"
        },
        "id": "vBXDsHDno9qh",
        "outputId": "e1a5c375-a8e4-4570-b92b-a6f3e2c3a998"
      },
      "outputs": [
        {
          "output_type": "stream",
          "name": "stdout",
          "text": [
            "   Goals\n",
            "0      4\n",
            "1      4\n",
            "2      4\n",
            "3      5\n",
            "4      3\n"
          ]
        }
      ],
      "source": [
        "# Select only the Goal column\n",
        "goals = euro12[['Goals']]\n",
        "\n",
        "# Display the first few rows of the Goals DataFrame\n",
        "print(goals.head())"
      ]
    },
    {
      "cell_type": "markdown",
      "metadata": {
        "id": "qbu6CGUYo9qi"
      },
      "source": [
        "### Step 5. How many team participated in the Euro2012?"
      ]
    },
    {
      "cell_type": "code",
      "execution_count": 6,
      "metadata": {
        "colab": {
          "base_uri": "https://localhost:8080/"
        },
        "id": "ILiAOkQ1o9qi",
        "outputId": "64f4896b-2b4f-41a1-c840-bd404d7882fc"
      },
      "outputs": [
        {
          "output_type": "stream",
          "name": "stdout",
          "text": [
            "Number of teams that participated in Euro 2012: 16\n"
          ]
        }
      ],
      "source": [
        "\n",
        "#Count the number of unique teams that participated in Euro 2012\n",
        "number_of_teams = euro12['Team'].nunique()\n",
        "\n",
        "print(f'Number of teams that participated in Euro 2012: {number_of_teams}')"
      ]
    },
    {
      "cell_type": "markdown",
      "metadata": {
        "id": "XVH1gLIjo9qj"
      },
      "source": [
        "### Step 6. What is the number of columns in the dataset?"
      ]
    },
    {
      "cell_type": "code",
      "execution_count": 7,
      "metadata": {
        "colab": {
          "base_uri": "https://localhost:8080/"
        },
        "id": "9vSFN87So9qj",
        "outputId": "8d68e56e-0daa-4cc0-f568-9c4b1da0c5a5"
      },
      "outputs": [
        {
          "output_type": "stream",
          "name": "stdout",
          "text": [
            "The number of columns in the dataset: 35\n"
          ]
        }
      ],
      "source": [
        "#Get the number of columns in the dataset\n",
        "number_of_columns = euro12.shape[1]  # or use len(euro12.columns)\n",
        "\n",
        "print(f'The number of columns in the dataset: {number_of_columns}')"
      ]
    },
    {
      "cell_type": "markdown",
      "metadata": {
        "id": "ltWWe3kQo9qk"
      },
      "source": [
        "### Step 7. View only the columns Team, Yellow Cards and Red Cards and assign them to a dataframe called discipline"
      ]
    },
    {
      "cell_type": "code",
      "execution_count": 8,
      "metadata": {
        "colab": {
          "base_uri": "https://localhost:8080/"
        },
        "id": "-o9UlHVMo9qk",
        "outputId": "91200c5e-e728-403b-ac10-a64d98cb3205"
      },
      "outputs": [
        {
          "output_type": "stream",
          "name": "stdout",
          "text": [
            "             Team  Yellow Cards  Red Cards\n",
            "0         Croatia             9          0\n",
            "1  Czech Republic             7          0\n",
            "2         Denmark             4          0\n",
            "3         England             5          0\n",
            "4          France             6          0\n"
          ]
        }
      ],
      "source": [
        "#Select the relevant columns and assign to a new DataFrame called discipline\n",
        "discipline = euro12[['Team', 'Yellow Cards', 'Red Cards']]\n",
        "\n",
        "# Display the first few rows of the discipline DataFrame\n",
        "print(discipline.head())"
      ]
    },
    {
      "cell_type": "markdown",
      "metadata": {
        "id": "EU1bbOh6o9qk"
      },
      "source": [
        "### Step 8. Sort the teams by Red Cards, then to Yellow Cards"
      ]
    },
    {
      "cell_type": "code",
      "execution_count": 9,
      "metadata": {
        "scrolled": true,
        "colab": {
          "base_uri": "https://localhost:8080/"
        },
        "id": "ZppJzPppo9ql",
        "outputId": "8a08812f-ac95-4fd5-9648-fae138c9e395"
      },
      "outputs": [
        {
          "output_type": "stream",
          "name": "stdout",
          "text": [
            "                   Team  Yellow Cards  Red Cards\n",
            "2               Denmark             4          0\n",
            "5               Germany             4          0\n",
            "3               England             5          0\n",
            "8           Netherlands             5          0\n",
            "15              Ukraine             5          0\n",
            "4                France             6          0\n",
            "12               Russia             6          0\n",
            "1        Czech Republic             7          0\n",
            "14               Sweden             7          0\n",
            "0               Croatia             9          0\n",
            "13                Spain            11          0\n",
            "10             Portugal            12          0\n",
            "7                 Italy            16          0\n",
            "11  Republic of Ireland             6          1\n",
            "9                Poland             7          1\n",
            "6                Greece             9          1\n"
          ]
        }
      ],
      "source": [
        "#Select the relevant columns and assign to a new DataFrame called discipline\n",
        "discipline = euro12[['Team', 'Yellow Cards', 'Red Cards']]\n",
        "\n",
        "# Sort the teams by Red Cards, then by Yellow Cards\n",
        "sorted_discipline = discipline.sort_values(by=['Red Cards', 'Yellow Cards'], ascending=[True, True])\n",
        "\n",
        "# Display the sorted DataFrame\n",
        "print(sorted_discipline)"
      ]
    },
    {
      "cell_type": "markdown",
      "metadata": {
        "id": "ypTBFLeho9ql"
      },
      "source": [
        "### Step 9. Calculate the mean Yellow Cards given per Team"
      ]
    },
    {
      "cell_type": "code",
      "execution_count": 10,
      "metadata": {
        "colab": {
          "base_uri": "https://localhost:8080/"
        },
        "id": "l2rZkRNto9qm",
        "outputId": "b7231be0-dc13-4e96-c88e-f6b0d55b619a"
      },
      "outputs": [
        {
          "output_type": "stream",
          "name": "stdout",
          "text": [
            "                   Team  Mean Yellow Cards\n",
            "0               Croatia                9.0\n",
            "1        Czech Republic                7.0\n",
            "2               Denmark                4.0\n",
            "3               England                5.0\n",
            "4                France                6.0\n",
            "5               Germany                4.0\n",
            "6                Greece                9.0\n",
            "7                 Italy               16.0\n",
            "8           Netherlands                5.0\n",
            "9                Poland                7.0\n",
            "10             Portugal               12.0\n",
            "11  Republic of Ireland                6.0\n",
            "12               Russia                6.0\n",
            "13                Spain               11.0\n",
            "14               Sweden                7.0\n",
            "15              Ukraine                5.0\n"
          ]
        }
      ],
      "source": [
        "#Select the relevant columns and assign to a new DataFrame called discipline\n",
        "discipline = euro12[['Team', 'Yellow Cards', 'Red Cards']]\n",
        "\n",
        "#Calculate the mean Yellow Cards given per Team\n",
        "mean_yellow_cards = discipline.groupby('Team')['Yellow Cards'].mean().reset_index()\n",
        "\n",
        "# Rename the column for clarity\n",
        "mean_yellow_cards.columns = ['Team', 'Mean Yellow Cards']\n",
        "\n",
        "# Display the mean Yellow Cards per team\n",
        "print(mean_yellow_cards)"
      ]
    },
    {
      "cell_type": "markdown",
      "metadata": {
        "id": "0Ba0ap1mo9qm"
      },
      "source": [
        "### Step 10. Filter teams that scored more than 6 goals"
      ]
    },
    {
      "cell_type": "code",
      "execution_count": 11,
      "metadata": {
        "colab": {
          "base_uri": "https://localhost:8080/"
        },
        "id": "25jrWZXeo9qm",
        "outputId": "f1f99383-238e-4a11-fac2-e1ee7eee54c3"
      },
      "outputs": [
        {
          "output_type": "stream",
          "name": "stdout",
          "text": [
            "       Team  Goals\n",
            "5   Germany     10\n",
            "13    Spain     12\n"
          ]
        }
      ],
      "source": [
        "#Filter teams that scored more than 6 goals\n",
        "teams_scoring_more_than_6_goals = euro12[euro12['Goals'] > 6]\n",
        "\n",
        "# Display the filtered DataFrame\n",
        "print(teams_scoring_more_than_6_goals[['Team', 'Goals']])"
      ]
    },
    {
      "cell_type": "markdown",
      "metadata": {
        "id": "40xHVrqUo9qn"
      },
      "source": [
        "### Step 11. Select the teams that start with G"
      ]
    },
    {
      "cell_type": "code",
      "execution_count": 12,
      "metadata": {
        "colab": {
          "base_uri": "https://localhost:8080/"
        },
        "id": "cUn55m0ko9qn",
        "outputId": "60370556-fa99-4cfb-adb5-1518531a8847"
      },
      "outputs": [
        {
          "output_type": "stream",
          "name": "stdout",
          "text": [
            "      Team\n",
            "5  Germany\n",
            "6   Greece\n"
          ]
        }
      ],
      "source": [
        "#Select teams that start with the letter 'G'\n",
        "teams_starting_with_G = euro12[euro12['Team'].str.startswith('G')]\n",
        "\n",
        "# Display the filtered DataFrame\n",
        "print(teams_starting_with_G[['Team']])"
      ]
    },
    {
      "cell_type": "markdown",
      "metadata": {
        "id": "W5RzOUq2o9qn"
      },
      "source": [
        "### Step 12. Select the first 7 columns"
      ]
    },
    {
      "cell_type": "code",
      "execution_count": 13,
      "metadata": {
        "colab": {
          "base_uri": "https://localhost:8080/"
        },
        "id": "2hdtOiK9o9qo",
        "outputId": "b11983d5-98c2-4463-dcd8-d233f955d7a4"
      },
      "outputs": [
        {
          "output_type": "stream",
          "name": "stdout",
          "text": [
            "                   Team  Goals  Shots on target  Shots off target  \\\n",
            "0               Croatia      4               13                12   \n",
            "1        Czech Republic      4               13                18   \n",
            "2               Denmark      4               10                10   \n",
            "3               England      5               11                18   \n",
            "4                France      3               22                24   \n",
            "5               Germany     10               32                32   \n",
            "6                Greece      5                8                18   \n",
            "7                 Italy      6               34                45   \n",
            "8           Netherlands      2               12                36   \n",
            "9                Poland      2               15                23   \n",
            "10             Portugal      6               22                42   \n",
            "11  Republic of Ireland      1                7                12   \n",
            "12               Russia      5                9                31   \n",
            "13                Spain     12               42                33   \n",
            "14               Sweden      5               17                19   \n",
            "15              Ukraine      2                7                26   \n",
            "\n",
            "   Shooting Accuracy % Goals-to-shots  Total shots (inc. Blocked)  \n",
            "0              51.9%            16.0%                          32  \n",
            "1              41.9%            12.9%                          39  \n",
            "2              50.0%            20.0%                          27  \n",
            "3              50.0%            17.2%                          40  \n",
            "4              37.9%             6.5%                          65  \n",
            "5              47.8%            15.6%                          80  \n",
            "6              30.7%            19.2%                          32  \n",
            "7              43.0%             7.5%                         110  \n",
            "8              25.0%             4.1%                          60  \n",
            "9              39.4%             5.2%                          48  \n",
            "10             34.3%             9.3%                          82  \n",
            "11             36.8%             5.2%                          28  \n",
            "12             22.5%            12.5%                          59  \n",
            "13             55.9%            16.0%                         100  \n",
            "14             47.2%            13.8%                          39  \n",
            "15             21.2%             6.0%                          38  \n"
          ]
        }
      ],
      "source": [
        "#Select the first 7 columns using iloc\n",
        "first_7_columns = euro12.iloc[:, :7]\n",
        "\n",
        "# Display the resulting DataFrame\n",
        "print(first_7_columns)"
      ]
    },
    {
      "cell_type": "markdown",
      "metadata": {
        "id": "tr75zvwco9qo"
      },
      "source": [
        "### Step 13. Select all columns except the last 3."
      ]
    },
    {
      "cell_type": "code",
      "execution_count": 14,
      "metadata": {
        "colab": {
          "base_uri": "https://localhost:8080/"
        },
        "id": "XgpjIwAho9qo",
        "outputId": "51abc5b4-8571-40f4-8910-816313659237"
      },
      "outputs": [
        {
          "output_type": "stream",
          "name": "stdout",
          "text": [
            "                   Team  Goals  Shots on target  Shots off target  \\\n",
            "0               Croatia      4               13                12   \n",
            "1        Czech Republic      4               13                18   \n",
            "2               Denmark      4               10                10   \n",
            "3               England      5               11                18   \n",
            "4                France      3               22                24   \n",
            "5               Germany     10               32                32   \n",
            "6                Greece      5                8                18   \n",
            "7                 Italy      6               34                45   \n",
            "8           Netherlands      2               12                36   \n",
            "9                Poland      2               15                23   \n",
            "10             Portugal      6               22                42   \n",
            "11  Republic of Ireland      1                7                12   \n",
            "12               Russia      5                9                31   \n",
            "13                Spain     12               42                33   \n",
            "14               Sweden      5               17                19   \n",
            "15              Ukraine      2                7                26   \n",
            "\n",
            "   Shooting Accuracy % Goals-to-shots  Total shots (inc. Blocked)  \\\n",
            "0              51.9%            16.0%                          32   \n",
            "1              41.9%            12.9%                          39   \n",
            "2              50.0%            20.0%                          27   \n",
            "3              50.0%            17.2%                          40   \n",
            "4              37.9%             6.5%                          65   \n",
            "5              47.8%            15.6%                          80   \n",
            "6              30.7%            19.2%                          32   \n",
            "7              43.0%             7.5%                         110   \n",
            "8              25.0%             4.1%                          60   \n",
            "9              39.4%             5.2%                          48   \n",
            "10             34.3%             9.3%                          82   \n",
            "11             36.8%             5.2%                          28   \n",
            "12             22.5%            12.5%                          59   \n",
            "13             55.9%            16.0%                         100   \n",
            "14             47.2%            13.8%                          39   \n",
            "15             21.2%             6.0%                          38   \n",
            "\n",
            "    Hit Woodwork  Penalty goals  Penalties not scored  ...  Clean Sheets  \\\n",
            "0              0              0                     0  ...             0   \n",
            "1              0              0                     0  ...             1   \n",
            "2              1              0                     0  ...             1   \n",
            "3              0              0                     0  ...             2   \n",
            "4              1              0                     0  ...             1   \n",
            "5              2              1                     0  ...             1   \n",
            "6              1              1                     1  ...             1   \n",
            "7              2              0                     0  ...             2   \n",
            "8              2              0                     0  ...             0   \n",
            "9              0              0                     0  ...             0   \n",
            "10             6              0                     0  ...             2   \n",
            "11             0              0                     0  ...             0   \n",
            "12             2              0                     0  ...             0   \n",
            "13             0              1                     0  ...             5   \n",
            "14             3              0                     0  ...             1   \n",
            "15             0              0                     0  ...             0   \n",
            "\n",
            "    Blocks  Goals conceded Saves made  Saves-to-shots ratio  Fouls Won  \\\n",
            "0       10               3         13                 81.3%         41   \n",
            "1       10               6          9                 60.1%         53   \n",
            "2       10               5         10                 66.7%         25   \n",
            "3       29               3         22                 88.1%         43   \n",
            "4        7               5          6                 54.6%         36   \n",
            "5       11               6         10                 62.6%         63   \n",
            "6       23               7         13                 65.1%         67   \n",
            "7       18               7         20                 74.1%        101   \n",
            "8        9               5         12                 70.6%         35   \n",
            "9        8               3          6                 66.7%         48   \n",
            "10      11               4         10                 71.5%         73   \n",
            "11      23               9         17                 65.4%         43   \n",
            "12       8               3         10                 77.0%         34   \n",
            "13       8               1         15                 93.8%        102   \n",
            "14      12               5          8                 61.6%         35   \n",
            "15       4               4         13                 76.5%         48   \n",
            "\n",
            "    Fouls Conceded  Offsides  Yellow Cards  Red Cards  \n",
            "0               62         2             9          0  \n",
            "1               73         8             7          0  \n",
            "2               38         8             4          0  \n",
            "3               45         6             5          0  \n",
            "4               51         5             6          0  \n",
            "5               49        12             4          0  \n",
            "6               48        12             9          1  \n",
            "7               89        16            16          0  \n",
            "8               30         3             5          0  \n",
            "9               56         3             7          1  \n",
            "10              90        10            12          0  \n",
            "11              51        11             6          1  \n",
            "12              43         4             6          0  \n",
            "13              83        19            11          0  \n",
            "14              51         7             7          0  \n",
            "15              31         4             5          0  \n",
            "\n",
            "[16 rows x 32 columns]\n"
          ]
        }
      ],
      "source": [
        "#Select all columns except the last 3\n",
        "all_columns_except_last_3 = euro12.iloc[:, :-3]\n",
        "\n",
        "# Display the resulting DataFrame\n",
        "print(all_columns_except_last_3)"
      ]
    },
    {
      "cell_type": "markdown",
      "metadata": {
        "id": "QZITr56Ho9qo"
      },
      "source": [
        "### Step 14. Present only the Shooting Accuracy from England, Italy and Russia"
      ]
    },
    {
      "cell_type": "code",
      "execution_count": 15,
      "metadata": {
        "colab": {
          "base_uri": "https://localhost:8080/"
        },
        "id": "Ud5vLkdqo9qp",
        "outputId": "8df2a0dd-f6b7-49ba-eb5a-a4886c11a8f2"
      },
      "outputs": [
        {
          "output_type": "stream",
          "name": "stdout",
          "text": [
            "       Team Shooting Accuracy\n",
            "3   England             50.0%\n",
            "7     Italy             43.0%\n",
            "12   Russia             22.5%\n"
          ]
        }
      ],
      "source": [
        "#Select Shooting Accuracy for England, Italy, and Russia\n",
        "shooting_accuracy = euro12.loc[euro12['Team'].isin(['England', 'Italy', 'Russia']), ['Team', 'Shooting Accuracy']]\n",
        "\n",
        "# Display the resulting DataFrame\n",
        "print(shooting_accuracy)"
      ]
    },
    {
      "cell_type": "code",
      "source": [],
      "metadata": {
        "id": "gl0-be_Zqzlr"
      },
      "execution_count": null,
      "outputs": []
    }
  ],
  "metadata": {
    "anaconda-cloud": {},
    "kernelspec": {
      "display_name": "Python [default]",
      "language": "python",
      "name": "python2"
    },
    "language_info": {
      "codemirror_mode": {
        "name": "ipython",
        "version": 2
      },
      "file_extension": ".py",
      "mimetype": "text/x-python",
      "name": "python",
      "nbconvert_exporter": "python",
      "pygments_lexer": "ipython2",
      "version": "2.7.12"
    },
    "colab": {
      "provenance": [],
      "include_colab_link": true
    }
  },
  "nbformat": 4,
  "nbformat_minor": 0
}