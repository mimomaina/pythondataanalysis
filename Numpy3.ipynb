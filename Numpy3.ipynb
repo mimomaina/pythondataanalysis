{
  "cells": [
    {
      "cell_type": "markdown",
      "metadata": {
        "id": "view-in-github",
        "colab_type": "text"
      },
      "source": [
        "<a href=\"https://colab.research.google.com/github/mimomaina/pythondataanalysis/blob/main/Numpy3.ipynb\" target=\"_parent\"><img src=\"https://colab.research.google.com/assets/colab-badge.svg\" alt=\"Open In Colab\"/></a>"
      ]
    },
    {
      "cell_type": "markdown",
      "metadata": {
        "id": "Qj0I7X2DNHSW"
      },
      "source": [
        "# Numpy Exercise 3\n",
        "\n",
        "### All of the questions in this exercise are attributed to rougier/numpy-100"
      ]
    },
    {
      "cell_type": "code",
      "source": [
        "import numpy as np"
      ],
      "metadata": {
        "id": "RXveJc92Ne2C"
      },
      "execution_count": 1,
      "outputs": []
    },
    {
      "cell_type": "markdown",
      "metadata": {
        "id": "pfagbD_pNHSn"
      },
      "source": [
        "#### 31. How to ignore all numpy warnings (not recommended)? (★☆☆)"
      ]
    },
    {
      "cell_type": "code",
      "execution_count": 2,
      "metadata": {
        "colab": {
          "base_uri": "https://localhost:8080/"
        },
        "id": "wbOpj5dONHSp",
        "outputId": "a43bff8b-1543-4bf8-92ff-69bce4bd41fe"
      },
      "outputs": [
        {
          "output_type": "stream",
          "name": "stdout",
          "text": [
            "nan\n"
          ]
        }
      ],
      "source": [
        "import numpy as np\n",
        "import warnings\n",
        "warnings.filterwarnings('ignore')\n",
        "# Example\n",
        "np.seterr(all='ignore')\n",
        "print(np.sqrt(-1))\n"
      ]
    },
    {
      "cell_type": "markdown",
      "metadata": {
        "id": "K5awijT4NHSq"
      },
      "source": [
        "#### 32. Is the following expressions true? (★☆☆)\n",
        "```python\n",
        "np.sqrt(-1) == np.emath.sqrt(-1)\n",
        "```"
      ]
    },
    {
      "cell_type": "code",
      "execution_count": 3,
      "metadata": {
        "colab": {
          "base_uri": "https://localhost:8080/"
        },
        "id": "Oa6QH1B4NHSs",
        "outputId": "4bdcc51c-c276-479d-cefb-e8810f915069"
      },
      "outputs": [
        {
          "output_type": "stream",
          "name": "stdout",
          "text": [
            "False\n"
          ]
        }
      ],
      "source": [
        "print(np.sqrt(-1) == np.emath.sqrt(-1))  # False\n",
        "# `np.sqrt` returns NaN for negative numbers, while `np.emath.sqrt` handles complex numbers.\n"
      ]
    },
    {
      "cell_type": "markdown",
      "metadata": {
        "id": "m9sE0fbRNHSu"
      },
      "source": [
        "#### 33. How to get the dates of yesterday, today and tomorrow? (★☆☆)"
      ]
    },
    {
      "cell_type": "code",
      "execution_count": 4,
      "metadata": {
        "colab": {
          "base_uri": "https://localhost:8080/"
        },
        "id": "KJpd3eJJNHSw",
        "outputId": "19a7f291-58f8-408e-8bcf-2aa84f0be3ce"
      },
      "outputs": [
        {
          "output_type": "stream",
          "name": "stdout",
          "text": [
            "Yesterday: 2024-11-18, Today: 2024-11-19, Tomorrow: 2024-11-20\n"
          ]
        }
      ],
      "source": [
        "today = np.datetime64('today', 'D')\n",
        "yesterday = today - np.timedelta64(1, 'D')\n",
        "tomorrow = today + np.timedelta64(1, 'D')\n",
        "print(f\"Yesterday: {yesterday}, Today: {today}, Tomorrow: {tomorrow}\")\n"
      ]
    },
    {
      "cell_type": "markdown",
      "metadata": {
        "id": "h5uRIkTHNHSz"
      },
      "source": [
        "#### 34. How to get all the dates corresponding to the month of July 2016? (★★☆)"
      ]
    },
    {
      "cell_type": "code",
      "execution_count": 5,
      "metadata": {
        "colab": {
          "base_uri": "https://localhost:8080/"
        },
        "id": "dMF6B12uNHS1",
        "outputId": "c124da9e-d7c1-4dc7-fae2-f23c692b30c9"
      },
      "outputs": [
        {
          "output_type": "stream",
          "name": "stdout",
          "text": [
            "['2016-07-01' '2016-07-02' '2016-07-03' '2016-07-04' '2016-07-05'\n",
            " '2016-07-06' '2016-07-07' '2016-07-08' '2016-07-09' '2016-07-10'\n",
            " '2016-07-11' '2016-07-12' '2016-07-13' '2016-07-14' '2016-07-15'\n",
            " '2016-07-16' '2016-07-17' '2016-07-18' '2016-07-19' '2016-07-20'\n",
            " '2016-07-21' '2016-07-22' '2016-07-23' '2016-07-24' '2016-07-25'\n",
            " '2016-07-26' '2016-07-27' '2016-07-28' '2016-07-29' '2016-07-30'\n",
            " '2016-07-31']\n"
          ]
        }
      ],
      "source": [
        "july_2016 = np.arange('2016-07', '2016-08', dtype='datetime64[D]')\n",
        "print(july_2016)\n"
      ]
    },
    {
      "cell_type": "markdown",
      "metadata": {
        "id": "PLlERK0xNHS2"
      },
      "source": [
        "#### 35. How to compute ((A+B)*(-A/2)) in place (without copy)? (★★☆)"
      ]
    },
    {
      "cell_type": "code",
      "execution_count": 6,
      "metadata": {
        "colab": {
          "base_uri": "https://localhost:8080/"
        },
        "id": "eyNU9IjrNHS3",
        "outputId": "0faae980-3112-464e-d082-66b154b9a57b"
      },
      "outputs": [
        {
          "output_type": "stream",
          "name": "stdout",
          "text": [
            "[-1.5 -1.5 -1.5 -1.5 -1.5]\n"
          ]
        }
      ],
      "source": [
        "A = np.ones(5)\n",
        "B = np.ones(5) * 2\n",
        "np.add(A, B, out=A)        # A = A + B\n",
        "np.divide(A, -2, out=A)    # A = -A/2\n",
        "print(A)\n"
      ]
    },
    {
      "cell_type": "markdown",
      "metadata": {
        "id": "B3z2hWyFNHS3"
      },
      "source": [
        "#### 36. Extract the integer part of a random array of positive numbers using 4 different methods (★★☆)"
      ]
    },
    {
      "cell_type": "code",
      "execution_count": 7,
      "metadata": {
        "colab": {
          "base_uri": "https://localhost:8080/"
        },
        "id": "hdYOsKw7NHS4",
        "outputId": "01d6408f-a2aa-41ca-a21f-638e91f98542"
      },
      "outputs": [
        {
          "output_type": "stream",
          "name": "stdout",
          "text": [
            "[8 6 8 7 3 4 8 8 6 1]\n",
            "[8. 6. 8. 7. 3. 4. 8. 8. 6. 1.]\n",
            "[8. 6. 8. 7. 3. 4. 8. 8. 6. 1.]\n",
            "[8. 6. 8. 7. 3. 4. 8. 8. 6. 1.]\n"
          ]
        }
      ],
      "source": [
        "array = np.random.uniform(0, 10, 10)\n",
        "print(array.astype(int))          # Method 1\n",
        "print(np.floor(array))            # Method 2\n",
        "print(np.trunc(array))            # Method 3\n",
        "print(array // 1)                 # Method 4\n"
      ]
    },
    {
      "cell_type": "markdown",
      "metadata": {
        "id": "m3HA_tLNNHS5"
      },
      "source": [
        "#### 37. Create a 5x5 matrix with row values ranging from 0 to 4 (★★☆)"
      ]
    },
    {
      "cell_type": "code",
      "execution_count": 9,
      "metadata": {
        "colab": {
          "base_uri": "https://localhost:8080/"
        },
        "id": "giO3iiArNHS5",
        "outputId": "18698a08-bbd9-4bf1-ca6c-8fc00cd46239"
      },
      "outputs": [
        {
          "output_type": "stream",
          "name": "stdout",
          "text": [
            "[[0 1 2 3 4]\n",
            " [0 1 2 3 4]\n",
            " [0 1 2 3 4]\n",
            " [0 1 2 3 4]\n",
            " [0 1 2 3 4]]\n"
          ]
        }
      ],
      "source": [
        "matrix = np.tile(np.arange(5), (5, 1))\n",
        "print(matrix)\n"
      ]
    },
    {
      "cell_type": "markdown",
      "metadata": {
        "id": "6wgm2VJGNHS6"
      },
      "source": [
        "#### 38. Consider a generator function that generates 10 integers and use it to build an array (★☆☆)"
      ]
    },
    {
      "cell_type": "code",
      "execution_count": 10,
      "metadata": {
        "colab": {
          "base_uri": "https://localhost:8080/"
        },
        "id": "fNHiL4-ANHS6",
        "outputId": "dc0588b3-561a-466b-9b56-5cdaebf3632d"
      },
      "outputs": [
        {
          "output_type": "stream",
          "name": "stdout",
          "text": [
            "[0 1 2 3 4 5 6 7 8 9]\n"
          ]
        }
      ],
      "source": [
        "def generate():\n",
        "    for i in range(10):\n",
        "        yield i\n",
        "\n",
        "array = np.fromiter(generate(), dtype=int)\n",
        "print(array)\n"
      ]
    },
    {
      "cell_type": "markdown",
      "metadata": {
        "id": "aoyj_aFoNHS7"
      },
      "source": [
        "#### 39. Create a vector of size 10 with values ranging from 0 to 1, both excluded (★★☆)"
      ]
    },
    {
      "cell_type": "code",
      "execution_count": 11,
      "metadata": {
        "colab": {
          "base_uri": "https://localhost:8080/"
        },
        "id": "njITOF-GNHS8",
        "outputId": "68e05225-a9d4-4a01-b2c0-9fe50365957d"
      },
      "outputs": [
        {
          "output_type": "stream",
          "name": "stdout",
          "text": [
            "[0.09090909 0.18181818 0.27272727 0.36363636 0.45454545 0.54545455\n",
            " 0.63636364 0.72727273 0.81818182 0.90909091]\n"
          ]
        }
      ],
      "source": [
        "vector = np.linspace(0, 1, 12)[1:-1]\n",
        "print(vector)\n"
      ]
    },
    {
      "cell_type": "markdown",
      "metadata": {
        "id": "emjWBSpNNHS9"
      },
      "source": [
        "#### 40. Create a random vector of size 10 and sort it (★★☆)"
      ]
    },
    {
      "cell_type": "code",
      "execution_count": 12,
      "metadata": {
        "colab": {
          "base_uri": "https://localhost:8080/"
        },
        "id": "QL658yCrNHS9",
        "outputId": "e02584b1-22a9-4518-975e-2f066f49decb"
      },
      "outputs": [
        {
          "output_type": "stream",
          "name": "stdout",
          "text": [
            "[0.10813325 0.11464354 0.25597379 0.2568798  0.27207987 0.34694496\n",
            " 0.3471146  0.39557961 0.93305044 0.97803854]\n"
          ]
        }
      ],
      "source": [
        "vector = np.random.random(10)\n",
        "vector.sort()\n",
        "print(vector)\n"
      ]
    },
    {
      "cell_type": "markdown",
      "metadata": {
        "id": "FGmBK1DiNHS9"
      },
      "source": [
        "#### 41. How to sum a small array faster than np.sum? (★★☆)"
      ]
    },
    {
      "cell_type": "code",
      "execution_count": 13,
      "metadata": {
        "colab": {
          "base_uri": "https://localhost:8080/"
        },
        "id": "J7Dl_sUnNHS-",
        "outputId": "1bc3147a-155f-49a5-da6c-feb7f3ba9629"
      },
      "outputs": [
        {
          "output_type": "stream",
          "name": "stdout",
          "text": [
            "45\n"
          ]
        }
      ],
      "source": [
        "array = np.arange(10)\n",
        "result = np.add.reduce(array)\n",
        "print(result)\n"
      ]
    },
    {
      "cell_type": "markdown",
      "metadata": {
        "id": "0olHCZbLNHS-"
      },
      "source": [
        "#### 42. Consider two random array A and B, check if they are equal (★★☆)"
      ]
    },
    {
      "cell_type": "code",
      "execution_count": 14,
      "metadata": {
        "colab": {
          "base_uri": "https://localhost:8080/"
        },
        "id": "FRdIYLxdNHS-",
        "outputId": "ecdf37e0-b8e7-4bc5-bece-4ffeedf66b13"
      },
      "outputs": [
        {
          "output_type": "stream",
          "name": "stdout",
          "text": [
            "False\n"
          ]
        }
      ],
      "source": [
        "A = np.random.random(10)\n",
        "B = np.random.random(10)\n",
        "are_equal = np.array_equal(A, B)\n",
        "print(are_equal)\n"
      ]
    },
    {
      "cell_type": "markdown",
      "metadata": {
        "id": "kBu3FfwKNHS-"
      },
      "source": [
        "#### 43. Make an array immutable (read-only) (★★☆)"
      ]
    },
    {
      "cell_type": "code",
      "execution_count": 15,
      "metadata": {
        "colab": {
          "base_uri": "https://localhost:8080/"
        },
        "id": "rxaPQiDGNHS_",
        "outputId": "e21237d5-6720-4f80-dbe7-80d1e8dd1d0e"
      },
      "outputs": [
        {
          "output_type": "stream",
          "name": "stdout",
          "text": [
            "[1. 1. 1. 1. 1. 1. 1. 1. 1. 1.]\n"
          ]
        }
      ],
      "source": [
        "array = np.ones(10)\n",
        "array.flags.writeable = False\n",
        "print(array)\n"
      ]
    },
    {
      "cell_type": "markdown",
      "metadata": {
        "id": "9_-dP0XbNHS_"
      },
      "source": [
        "#### 44. Consider a random 10x2 matrix representing cartesian coordinates, convert them to polar coordinates (★★☆)"
      ]
    },
    {
      "cell_type": "code",
      "execution_count": 16,
      "metadata": {
        "colab": {
          "base_uri": "https://localhost:8080/"
        },
        "id": "75Ib_cSdNHS_",
        "outputId": "8e2e72fe-a738-42b6-c41c-b2d095085818"
      },
      "outputs": [
        {
          "output_type": "stream",
          "name": "stdout",
          "text": [
            "[[0.97164178 1.31511005]\n",
            " [0.94472588 1.10381858]\n",
            " [0.96797073 1.16437234]\n",
            " [0.54585808 1.33908673]\n",
            " [0.7910242  1.42126336]\n",
            " [0.37698604 0.5039771 ]\n",
            " [1.10300077 0.65082274]\n",
            " [1.01561706 0.35352878]\n",
            " [0.8819971  0.63630778]\n",
            " [0.4491202  1.45527035]]\n"
          ]
        }
      ],
      "source": [
        "cartesian = np.random.random((10, 2))\n",
        "x, y = cartesian[:, 0], cartesian[:, 1]\n",
        "r = np.sqrt(x**2 + y**2)\n",
        "theta = np.arctan2(y, x)\n",
        "polar = np.column_stack((r, theta))\n",
        "print(polar)\n"
      ]
    },
    {
      "cell_type": "markdown",
      "metadata": {
        "id": "ihYN7d9uNHTA"
      },
      "source": [
        "#### 45. Create random vector of size 10 and replace the maximum value by 0 (★★☆)"
      ]
    },
    {
      "cell_type": "code",
      "execution_count": 17,
      "metadata": {
        "colab": {
          "base_uri": "https://localhost:8080/"
        },
        "id": "8MG3k25xNHTA",
        "outputId": "1196e8e8-f0cf-4420-b03a-0d49a5d0e2ef"
      },
      "outputs": [
        {
          "output_type": "stream",
          "name": "stdout",
          "text": [
            "[0.63075621 0.1981903  0.66253167 0.42495535 0.46387229 0.80907935\n",
            " 0.49552979 0.64539193 0.         0.16762754]\n"
          ]
        }
      ],
      "source": [
        "vector = np.random.random(10)\n",
        "vector[vector.argmax()] = 0\n",
        "print(vector)\n"
      ]
    },
    {
      "cell_type": "code",
      "source": [],
      "metadata": {
        "id": "GRG-SobmPmmb"
      },
      "execution_count": null,
      "outputs": []
    }
  ],
  "metadata": {
    "kernelspec": {
      "display_name": "Python 3",
      "language": "python",
      "name": "python3"
    },
    "language_info": {
      "codemirror_mode": {
        "name": "ipython",
        "version": 3
      },
      "file_extension": ".py",
      "mimetype": "text/x-python",
      "name": "python",
      "nbconvert_exporter": "python",
      "pygments_lexer": "ipython3",
      "version": "3.7.4"
    },
    "colab": {
      "provenance": [],
      "include_colab_link": true
    }
  },
  "nbformat": 4,
  "nbformat_minor": 0
}