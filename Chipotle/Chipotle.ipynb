{
  "cells": [
    {
      "cell_type": "markdown",
      "metadata": {
        "id": "view-in-github",
        "colab_type": "text"
      },
      "source": [
        "<a href=\"https://colab.research.google.com/github/mimomaina/pythondataanalysis/blob/main/Chipotle.ipynb\" target=\"_parent\"><img src=\"https://colab.research.google.com/assets/colab-badge.svg\" alt=\"Open In Colab\"/></a>"
      ]
    },
    {
      "cell_type": "markdown",
      "metadata": {
        "id": "TcfiPAIbG9BJ"
      },
      "source": [
        "# Ex2 - Getting and Knowing your Data"
      ]
    },
    {
      "cell_type": "markdown",
      "metadata": {
        "id": "IJfRfO5mG9BN"
      },
      "source": [
        "This time we are going to pull data directly from the internet.\n",
        "Special thanks to: https://github.com/justmarkham for sharing the dataset and materials.\n",
        "\n",
        "### Step 1. Import the necessary libraries"
      ]
    },
    {
      "cell_type": "code",
      "execution_count": 2,
      "metadata": {
        "id": "oWEtHjMmG9BP"
      },
      "outputs": [],
      "source": [
        "import pandas as pd\n",
        "import numpy as np"
      ]
    },
    {
      "cell_type": "markdown",
      "metadata": {
        "id": "Un8vL1nEG9BR"
      },
      "source": [
        "### Step 2. Import the dataset from this [address](https://raw.githubusercontent.com/justmarkham/DAT8/master/data/chipotle.tsv)."
      ]
    },
    {
      "cell_type": "markdown",
      "metadata": {
        "id": "oP4ita83G9BR"
      },
      "source": [
        "### Step 3. Assign it to a variable called chipo."
      ]
    },
    {
      "cell_type": "code",
      "execution_count": 3,
      "metadata": {
        "id": "zZUIY-6CG9BS"
      },
      "outputs": [],
      "source": [
        "chipo = pd.read_csv('/content/chipotle.tsv.txt', sep='\\t')"
      ]
    },
    {
      "cell_type": "markdown",
      "metadata": {
        "id": "zMWwd_SYG9BS"
      },
      "source": [
        "### Step 4. See the first 10 entries"
      ]
    },
    {
      "cell_type": "code",
      "execution_count": 4,
      "metadata": {
        "scrolled": false,
        "colab": {
          "base_uri": "https://localhost:8080/"
        },
        "id": "Ggz3bAWwG9BS",
        "outputId": "4a0829b7-6f25-49d7-bb3a-db524a714afb"
      },
      "outputs": [
        {
          "output_type": "stream",
          "name": "stdout",
          "text": [
            "   order_id  quantity                              item_name  \\\n",
            "0         1         1           Chips and Fresh Tomato Salsa   \n",
            "1         1         1                                   Izze   \n",
            "2         1         1                       Nantucket Nectar   \n",
            "3         1         1  Chips and Tomatillo-Green Chili Salsa   \n",
            "4         2         2                           Chicken Bowl   \n",
            "5         3         1                           Chicken Bowl   \n",
            "6         3         1                          Side of Chips   \n",
            "7         4         1                          Steak Burrito   \n",
            "8         4         1                       Steak Soft Tacos   \n",
            "9         5         1                          Steak Burrito   \n",
            "\n",
            "                                  choice_description item_price  \n",
            "0                                                NaN     $2.39   \n",
            "1                                       [Clementine]     $3.39   \n",
            "2                                            [Apple]     $3.39   \n",
            "3                                                NaN     $2.39   \n",
            "4  [Tomatillo-Red Chili Salsa (Hot), [Black Beans...    $16.98   \n",
            "5  [Fresh Tomato Salsa (Mild), [Rice, Cheese, Sou...    $10.98   \n",
            "6                                                NaN     $1.69   \n",
            "7  [Tomatillo Red Chili Salsa, [Fajita Vegetables...    $11.75   \n",
            "8  [Tomatillo Green Chili Salsa, [Pinto Beans, Ch...     $9.25   \n",
            "9  [Fresh Tomato Salsa, [Rice, Black Beans, Pinto...     $9.25   \n"
          ]
        }
      ],
      "source": [
        "print(chipo.head(10))"
      ]
    },
    {
      "cell_type": "markdown",
      "metadata": {
        "id": "j05YEKc7G9BT"
      },
      "source": [
        "### Step 5. What is the number of observations in the dataset?"
      ]
    },
    {
      "cell_type": "code",
      "execution_count": 5,
      "metadata": {
        "colab": {
          "base_uri": "https://localhost:8080/"
        },
        "id": "It23X_vFG9BT",
        "outputId": "21a718b6-0784-452f-c4fe-6292d8d99c6d"
      },
      "outputs": [
        {
          "output_type": "stream",
          "name": "stdout",
          "text": [
            "Number of observations: 4622\n"
          ]
        }
      ],
      "source": [
        "# Solution 1: using shape\n",
        "print(f\"Number of observations: {chipo.shape[0]}\")\n"
      ]
    },
    {
      "cell_type": "code",
      "execution_count": 6,
      "metadata": {
        "colab": {
          "base_uri": "https://localhost:8080/"
        },
        "id": "3ONDf0v6G9BU",
        "outputId": "6605c38b-379a-4b69-96d7-63f960affc85"
      },
      "outputs": [
        {
          "output_type": "stream",
          "name": "stdout",
          "text": [
            "Number of observations: 4622\n"
          ]
        }
      ],
      "source": [
        "# Solution 2: Using len()\n",
        "print(f\"Number of observations: {len(chipo)}\")\n",
        "\n"
      ]
    },
    {
      "cell_type": "markdown",
      "metadata": {
        "id": "9oEBxfiyG9BU"
      },
      "source": [
        "### Step 6. What is the number of columns in the dataset?"
      ]
    },
    {
      "cell_type": "code",
      "execution_count": 7,
      "metadata": {
        "colab": {
          "base_uri": "https://localhost:8080/"
        },
        "id": "I5e9aemeG9BU",
        "outputId": "d59d19eb-ff87-4852-a5b3-59d01ae41ae9"
      },
      "outputs": [
        {
          "output_type": "stream",
          "name": "stdout",
          "text": [
            "Number of columns: 5\n"
          ]
        }
      ],
      "source": [
        "# Print the number of columns\n",
        "print(f\"Number of columns: {chipo.shape[1]}\")\n"
      ]
    },
    {
      "cell_type": "markdown",
      "metadata": {
        "id": "O49MWHjYG9BV"
      },
      "source": [
        "### Step 7. Print the name of all the columns."
      ]
    },
    {
      "cell_type": "code",
      "execution_count": 8,
      "metadata": {
        "colab": {
          "base_uri": "https://localhost:8080/"
        },
        "id": "gk4c39BHG9BV",
        "outputId": "7b6d0d5c-2472-4ab5-c57f-3aea174152a7"
      },
      "outputs": [
        {
          "output_type": "stream",
          "name": "stdout",
          "text": [
            "['order_id', 'quantity', 'item_name', 'choice_description', 'item_price']\n"
          ]
        }
      ],
      "source": [
        "print(chipo.columns.tolist())"
      ]
    },
    {
      "cell_type": "markdown",
      "metadata": {
        "id": "6Yfc_VelG9BV"
      },
      "source": [
        "### Step 8. How is the dataset indexed?"
      ]
    },
    {
      "cell_type": "code",
      "execution_count": 9,
      "metadata": {
        "colab": {
          "base_uri": "https://localhost:8080/"
        },
        "id": "IM_IFMD0G9BV",
        "outputId": "1d5a9b6a-0093-4d20-8bd4-32adadbb0637"
      },
      "outputs": [
        {
          "output_type": "stream",
          "name": "stdout",
          "text": [
            "RangeIndex(start=0, stop=4622, step=1)\n"
          ]
        }
      ],
      "source": [
        "print(chipo.index)"
      ]
    },
    {
      "cell_type": "markdown",
      "metadata": {
        "id": "j23_9QxNG9BW"
      },
      "source": [
        "### Step 9. Which was the most-ordered item?"
      ]
    },
    {
      "cell_type": "code",
      "execution_count": 10,
      "metadata": {
        "colab": {
          "base_uri": "https://localhost:8080/"
        },
        "id": "QytO1HlYG9BW",
        "outputId": "97b6c514-bd05-4318-d3c6-97942f4f93fb"
      },
      "outputs": [
        {
          "output_type": "stream",
          "name": "stdout",
          "text": [
            "Most-ordered item: Chicken Bowl\n"
          ]
        }
      ],
      "source": [
        "most_ordered_item = chipo.groupby('item_name')['quantity'].sum().idxmax()\n",
        "print(f\"Most-ordered item: {most_ordered_item}\")"
      ]
    },
    {
      "cell_type": "markdown",
      "metadata": {
        "id": "f66qTVmpG9BW"
      },
      "source": [
        "### Step 10. For the most-ordered item, how many items were ordered?"
      ]
    },
    {
      "cell_type": "code",
      "execution_count": 11,
      "metadata": {
        "colab": {
          "base_uri": "https://localhost:8080/"
        },
        "id": "38c7ZgXnG9BW",
        "outputId": "7c095028-2185-4ec2-e83f-6fcaa1403535"
      },
      "outputs": [
        {
          "output_type": "stream",
          "name": "stdout",
          "text": [
            "Quantity of the most-ordered item: 761\n"
          ]
        }
      ],
      "source": [
        "quantity_most_ordered = chipo.groupby('item_name')['quantity'].sum().max()\n",
        "print(f\"Quantity of the most-ordered item: {quantity_most_ordered}\")"
      ]
    },
    {
      "cell_type": "markdown",
      "metadata": {
        "id": "043Eshb6G9BX"
      },
      "source": [
        "### Step 11. What was the most ordered item in the choice_description column?"
      ]
    },
    {
      "cell_type": "code",
      "execution_count": 12,
      "metadata": {
        "colab": {
          "base_uri": "https://localhost:8080/"
        },
        "id": "zkhC2QgZG9BX",
        "outputId": "3f55769e-d47a-49d2-919c-d03d0d27571e"
      },
      "outputs": [
        {
          "output_type": "stream",
          "name": "stdout",
          "text": [
            "Most-ordered item in choice description: [Diet Coke]\n"
          ]
        }
      ],
      "source": [
        "most_ordered_choice = chipo['choice_description'].value_counts().idxmax()\n",
        "print(f\"Most-ordered item in choice description: {most_ordered_choice}\")"
      ]
    },
    {
      "cell_type": "markdown",
      "metadata": {
        "id": "syPrD2IqG9BX"
      },
      "source": [
        "### Step 12. How many items were orderd in total?"
      ]
    },
    {
      "cell_type": "code",
      "execution_count": 13,
      "metadata": {
        "colab": {
          "base_uri": "https://localhost:8080/"
        },
        "id": "7Ph0s8iFG9BX",
        "outputId": "f999b373-dfae-41cd-893d-ae042040a66d"
      },
      "outputs": [
        {
          "output_type": "stream",
          "name": "stdout",
          "text": [
            "Total items ordered: 4972\n"
          ]
        }
      ],
      "source": [
        "total_items_ordered = chipo['quantity'].sum()\n",
        "print(f\"Total items ordered: {total_items_ordered}\")"
      ]
    },
    {
      "cell_type": "markdown",
      "metadata": {
        "id": "9hBtm9KoG9BX"
      },
      "source": [
        "### Step 13. Turn the item price into a float"
      ]
    },
    {
      "cell_type": "markdown",
      "metadata": {
        "id": "CHjZb5TJG9BY"
      },
      "source": [
        "#### Step 13.a. Check the item price type"
      ]
    },
    {
      "cell_type": "code",
      "execution_count": 14,
      "metadata": {
        "colab": {
          "base_uri": "https://localhost:8080/"
        },
        "id": "PZ-ItOduG9BY",
        "outputId": "c2a2b230-67fb-44cc-9db8-3124daa3a67b"
      },
      "outputs": [
        {
          "output_type": "stream",
          "name": "stdout",
          "text": [
            "object\n"
          ]
        }
      ],
      "source": [
        "print(chipo['item_price'].dtype)"
      ]
    },
    {
      "cell_type": "markdown",
      "metadata": {
        "id": "5jgGtZnEG9BY"
      },
      "source": [
        "#### Step 13.b. Create a lambda function and change the type of item price"
      ]
    },
    {
      "cell_type": "code",
      "execution_count": 15,
      "metadata": {
        "collapsed": true,
        "colab": {
          "base_uri": "https://localhost:8080/"
        },
        "id": "ptL_V_PiG9BY",
        "outputId": "713d4828-789c-4523-9541-702cc92c6d92"
      },
      "outputs": [
        {
          "output_type": "stream",
          "name": "stdout",
          "text": [
            "object\n"
          ]
        }
      ],
      "source": [
        "print(chipo['item_price'].dtype)"
      ]
    },
    {
      "cell_type": "markdown",
      "metadata": {
        "id": "Jhg2L6gMG9BZ"
      },
      "source": [
        "#### Step 13.c. Check the item price type"
      ]
    },
    {
      "cell_type": "code",
      "execution_count": null,
      "metadata": {
        "id": "EM5ij_9YG9BZ"
      },
      "outputs": [],
      "source": []
    },
    {
      "cell_type": "markdown",
      "metadata": {
        "id": "TPqaagSmG9BZ"
      },
      "source": [
        "### Step 14. How much was the revenue for the period in the dataset?"
      ]
    },
    {
      "cell_type": "code",
      "execution_count": 24,
      "metadata": {
        "colab": {
          "base_uri": "https://localhost:8080/"
        },
        "id": "xYgN7mQtG9BZ",
        "outputId": "f6015a99-2cbc-4599-da6f-b046b467cc5e"
      },
      "outputs": [
        {
          "output_type": "stream",
          "name": "stdout",
          "text": [
            "float64\n"
          ]
        }
      ],
      "source": [
        "# Remove dollar sign and convert to float\n",
        "chipo['item_price'] = chipo['item_price'].apply(lambda x: float(x[1:]) if isinstance(x, str) else x)\n",
        "print(chipo['item_price'].dtype)\n",
        "\n"
      ]
    },
    {
      "cell_type": "code",
      "source": [
        "# Calculate revenue\n",
        "revenue = (chipo['quantity'] * chipo['item_price']).sum()\n",
        "print(f\"Total revenue: ${revenue:.2f}\")\n"
      ],
      "metadata": {
        "colab": {
          "base_uri": "https://localhost:8080/"
        },
        "id": "p4HH1rJgLhGl",
        "outputId": "f8c7ce67-67f4-4385-b023-e9ae7c872347"
      },
      "execution_count": 25,
      "outputs": [
        {
          "output_type": "stream",
          "name": "stdout",
          "text": [
            "Total revenue: $39237.02\n"
          ]
        }
      ]
    },
    {
      "cell_type": "markdown",
      "metadata": {
        "id": "ltckx67gG9Ba"
      },
      "source": [
        "### Step 15. How many orders were made in the period?"
      ]
    },
    {
      "cell_type": "code",
      "execution_count": 17,
      "metadata": {
        "colab": {
          "base_uri": "https://localhost:8080/"
        },
        "id": "tqBjSX-cG9Ba",
        "outputId": "54c1b07d-6a5a-473d-f373-cc18bc52d04c"
      },
      "outputs": [
        {
          "output_type": "stream",
          "name": "stdout",
          "text": [
            "Total orders: 1834\n"
          ]
        }
      ],
      "source": [
        "total_orders = chipo['order_id'].nunique()\n",
        "print(f\"Total orders: {total_orders}\")"
      ]
    },
    {
      "cell_type": "markdown",
      "metadata": {
        "id": "nFyBunmgG9Bb"
      },
      "source": [
        "### Step 16. What is the average revenue amount per order?"
      ]
    },
    {
      "cell_type": "code",
      "execution_count": 26,
      "metadata": {
        "colab": {
          "base_uri": "https://localhost:8080/"
        },
        "id": "mEtTCgmJG9Bc",
        "outputId": "7bea0d34-9369-4266-bc5d-5fabbd67d126"
      },
      "outputs": [
        {
          "output_type": "stream",
          "name": "stdout",
          "text": [
            "Average revenue per order: $21.39\n"
          ]
        }
      ],
      "source": [
        "# Solution 2\n",
        "# Total number of unique orders\n",
        "total_orders = chipo['order_id'].nunique()\n",
        "\n",
        "# Calculate average revenue per order\n",
        "average_revenue = revenue / total_orders\n",
        "print(f\"Average revenue per order: ${average_revenue:.2f}\")\n",
        "\n"
      ]
    },
    {
      "cell_type": "markdown",
      "metadata": {
        "id": "hPLGPLVKG9Bd"
      },
      "source": [
        "### Step 17. How many different items are sold?"
      ]
    },
    {
      "cell_type": "code",
      "execution_count": 20,
      "metadata": {
        "colab": {
          "base_uri": "https://localhost:8080/"
        },
        "id": "b3EYn7ZOG9Be",
        "outputId": "bb1072b3-b77e-4d5b-c325-6811d0289a2d"
      },
      "outputs": [
        {
          "output_type": "stream",
          "name": "stdout",
          "text": [
            "Different items sold: 50\n"
          ]
        }
      ],
      "source": [
        "different_items = chipo['item_name'].nunique()\n",
        "print(f\"Different items sold: {different_items}\")"
      ]
    },
    {
      "cell_type": "code",
      "source": [],
      "metadata": {
        "id": "ePW5jXcSKKDP"
      },
      "execution_count": null,
      "outputs": []
    }
  ],
  "metadata": {
    "anaconda-cloud": {},
    "kernelspec": {
      "display_name": "Python [default]",
      "language": "python",
      "name": "python2"
    },
    "language_info": {
      "codemirror_mode": {
        "name": "ipython",
        "version": 2
      },
      "file_extension": ".py",
      "mimetype": "text/x-python",
      "name": "python",
      "nbconvert_exporter": "python",
      "pygments_lexer": "ipython2",
      "version": "2.7.12"
    },
    "colab": {
      "provenance": [],
      "include_colab_link": true
    }
  },
  "nbformat": 4,
  "nbformat_minor": 0
}