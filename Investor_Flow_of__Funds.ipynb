{
  "cells": [
    {
      "cell_type": "markdown",
      "metadata": {
        "id": "view-in-github",
        "colab_type": "text"
      },
      "source": [
        "<a href=\"https://colab.research.google.com/github/mimomaina/pythondataanalysis/blob/main/Investor_Flow_of__Funds.ipynb\" target=\"_parent\"><img src=\"https://colab.research.google.com/assets/colab-badge.svg\" alt=\"Open In Colab\"/></a>"
      ]
    },
    {
      "cell_type": "markdown",
      "metadata": {
        "id": "9Yon5FxWgbfj"
      },
      "source": [
        "# Investor - Flow of Funds - US"
      ]
    },
    {
      "cell_type": "markdown",
      "metadata": {
        "id": "20bRA0HNgbfl"
      },
      "source": [
        "### Introduction:\n",
        "\n",
        "Special thanks to: https://github.com/rgrp for sharing the dataset.\n",
        "\n",
        "### Step 1. Import the necessary libraries"
      ]
    },
    {
      "cell_type": "code",
      "execution_count": 1,
      "metadata": {
        "id": "Gnv4dW7Jgbfm"
      },
      "outputs": [],
      "source": [
        "import pandas as pd"
      ]
    },
    {
      "cell_type": "markdown",
      "metadata": {
        "id": "chFlxQopgbfn"
      },
      "source": [
        "### Step 2. Import the dataset from this [address](https://raw.githubusercontent.com/datasets/investor-flow-of-funds-us/master/data/weekly.csv)."
      ]
    },
    {
      "cell_type": "markdown",
      "metadata": {
        "id": "Nq7VLapagbfn"
      },
      "source": [
        "### Step 3. Assign it to a variable called"
      ]
    },
    {
      "cell_type": "code",
      "execution_count": 2,
      "metadata": {
        "id": "-CJgpNZsgbfn"
      },
      "outputs": [],
      "source": [
        "called = pd.read_csv('/content/weekly.csv')\n"
      ]
    },
    {
      "cell_type": "markdown",
      "metadata": {
        "id": "GpKCIunUgbfo"
      },
      "source": [
        "### Step 4.  What is the frequency of the dataset?"
      ]
    },
    {
      "cell_type": "code",
      "execution_count": 3,
      "metadata": {
        "colab": {
          "base_uri": "https://localhost:8080/"
        },
        "id": "4hLDfekugbfo",
        "outputId": "bb1633a3-c42d-4d32-ff6e-3e2261dd1d3e"
      },
      "outputs": [
        {
          "output_type": "stream",
          "name": "stdout",
          "text": [
            "Date\n",
            "7 days      37\n",
            "21 days      2\n",
            "448 days     1\n",
            "56 days      1\n",
            "6 days       1\n",
            "43 days      1\n",
            "Name: count, dtype: int64\n"
          ]
        }
      ],
      "source": [
        "called['Date'] = pd.to_datetime(called['Date'])  # Ensure the Date column is in datetime format\n",
        "print(called['Date'].diff().value_counts())\n"
      ]
    },
    {
      "cell_type": "markdown",
      "metadata": {
        "id": "yNBErW6Ogbfo"
      },
      "source": [
        "### Step 5. Set the column Date as the index."
      ]
    },
    {
      "cell_type": "code",
      "execution_count": 4,
      "metadata": {
        "id": "fBa57ceCgbfo"
      },
      "outputs": [],
      "source": [
        "called.set_index('Date', inplace=True)\n"
      ]
    },
    {
      "cell_type": "markdown",
      "metadata": {
        "id": "Ay-4JYFDgbfp"
      },
      "source": [
        "### Step 6. What is the type of the index?"
      ]
    },
    {
      "cell_type": "code",
      "execution_count": 5,
      "metadata": {
        "colab": {
          "base_uri": "https://localhost:8080/"
        },
        "id": "y7uB2vAJgbfp",
        "outputId": "410fa26a-2b90-4a49-87c6-28386eeb1483"
      },
      "outputs": [
        {
          "output_type": "stream",
          "name": "stdout",
          "text": [
            "datetime64[ns]\n"
          ]
        }
      ],
      "source": [
        "print(called.index.dtype)\n"
      ]
    },
    {
      "cell_type": "markdown",
      "metadata": {
        "id": "HIvGFVfsgbfp"
      },
      "source": [
        "### Step 7. Set the index to a DatetimeIndex type"
      ]
    },
    {
      "cell_type": "code",
      "execution_count": 6,
      "metadata": {
        "id": "4mN8G90ngbfp"
      },
      "outputs": [],
      "source": [
        "called.index = pd.to_datetime(called.index)\n"
      ]
    },
    {
      "cell_type": "markdown",
      "metadata": {
        "id": "YdKHKU40gbfp"
      },
      "source": [
        "### Step 8.  Change the frequency to monthly, sum the values and assign it to monthly."
      ]
    },
    {
      "cell_type": "code",
      "execution_count": 7,
      "metadata": {
        "colab": {
          "base_uri": "https://localhost:8080/"
        },
        "id": "V9T7qut4gbfp",
        "outputId": "ecc80756-3212-40dc-9b6c-a5435b67afae"
      },
      "outputs": [
        {
          "output_type": "stream",
          "name": "stderr",
          "text": [
            "<ipython-input-7-f145ed6c83cd>:1: FutureWarning: 'M' is deprecated and will be removed in a future version, please use 'ME' instead.\n",
            "  monthly = called.resample('M').sum()\n"
          ]
        }
      ],
      "source": [
        "monthly = called.resample('M').sum()\n"
      ]
    },
    {
      "cell_type": "markdown",
      "metadata": {
        "id": "ice2zj7pgbfp"
      },
      "source": [
        "### Step 9. You will notice that it filled the dataFrame with months that don't have any data with NaN. Let's drop these rows."
      ]
    },
    {
      "cell_type": "code",
      "execution_count": 8,
      "metadata": {
        "id": "mkzZajdYgbfq"
      },
      "outputs": [],
      "source": [
        "monthly.dropna(inplace=True)\n"
      ]
    },
    {
      "cell_type": "markdown",
      "metadata": {
        "id": "d-qDwHMUgbfq"
      },
      "source": [
        "### Step 10. Good, now we have the monthly data. Now change the frequency to year."
      ]
    },
    {
      "cell_type": "code",
      "execution_count": 9,
      "metadata": {
        "colab": {
          "base_uri": "https://localhost:8080/"
        },
        "id": "X8dfHG2lgbfq",
        "outputId": "df0cdb12-d526-48f7-df9d-42e0774db85e"
      },
      "outputs": [
        {
          "output_type": "stream",
          "name": "stderr",
          "text": [
            "<ipython-input-9-5a5b118c31ab>:1: FutureWarning: 'Y' is deprecated and will be removed in a future version, please use 'YE' instead.\n",
            "  yearly = monthly.resample('Y').sum()\n"
          ]
        }
      ],
      "source": [
        "yearly = monthly.resample('Y').sum()\n"
      ]
    },
    {
      "cell_type": "markdown",
      "metadata": {
        "id": "J8dloBZ4gbfq"
      },
      "source": [
        "### BONUS: Create your own question and answer it."
      ]
    },
    {
      "cell_type": "markdown",
      "source": [
        "How many rows are in the final yearly data?"
      ],
      "metadata": {
        "id": "Onj6wO7wiMS-"
      }
    },
    {
      "cell_type": "code",
      "execution_count": 10,
      "metadata": {
        "collapsed": true,
        "colab": {
          "base_uri": "https://localhost:8080/"
        },
        "id": "RKwO5cr2gbfq",
        "outputId": "d49b97c2-8362-4ac5-a1d5-92a1e12730b0"
      },
      "outputs": [
        {
          "output_type": "stream",
          "name": "stdout",
          "text": [
            "Number of rows in the yearly data: 4\n"
          ]
        }
      ],
      "source": [
        "print(f\"Number of rows in the yearly data: {yearly.shape[0]}\")\n"
      ]
    },
    {
      "cell_type": "code",
      "source": [],
      "metadata": {
        "id": "oWprEHTyiKW1"
      },
      "execution_count": null,
      "outputs": []
    }
  ],
  "metadata": {
    "kernelspec": {
      "display_name": "Python 2",
      "language": "python",
      "name": "python2"
    },
    "language_info": {
      "codemirror_mode": {
        "name": "ipython",
        "version": 2
      },
      "file_extension": ".py",
      "mimetype": "text/x-python",
      "name": "python",
      "nbconvert_exporter": "python",
      "pygments_lexer": "ipython2",
      "version": "2.7.11"
    },
    "colab": {
      "provenance": [],
      "include_colab_link": true
    }
  },
  "nbformat": 4,
  "nbformat_minor": 0
}