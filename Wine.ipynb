{
  "cells": [
    {
      "cell_type": "markdown",
      "metadata": {
        "id": "view-in-github",
        "colab_type": "text"
      },
      "source": [
        "<a href=\"https://colab.research.google.com/github/mimomaina/pythondataanalysis/blob/main/Wine.ipynb\" target=\"_parent\"><img src=\"https://colab.research.google.com/assets/colab-badge.svg\" alt=\"Open In Colab\"/></a>"
      ]
    },
    {
      "cell_type": "markdown",
      "metadata": {
        "id": "8cRFVjq_lmTg"
      },
      "source": [
        "# Wine"
      ]
    },
    {
      "cell_type": "markdown",
      "metadata": {
        "id": "VsI0JUHWlmTk"
      },
      "source": [
        "### Introduction:\n",
        "\n",
        "This exercise is a adaptation from the UCI Wine dataset.\n",
        "The only pupose is to practice deleting data with pandas.\n",
        "\n",
        "### Step 1. Import the necessary libraries"
      ]
    },
    {
      "cell_type": "code",
      "execution_count": 1,
      "metadata": {
        "id": "bDX59p7hlmTl"
      },
      "outputs": [],
      "source": [
        "import pandas as pd\n",
        "import numpy as np"
      ]
    },
    {
      "cell_type": "markdown",
      "metadata": {
        "id": "sIXlLDHVlmTm"
      },
      "source": [
        "### Step 2. Import the dataset from this [address](https://archive.ics.uci.edu/ml/machine-learning-databases/wine/wine.data)."
      ]
    },
    {
      "cell_type": "markdown",
      "metadata": {
        "id": "AlLUnDjJlmTn"
      },
      "source": [
        "### Step 3. Assign it to a variable called wine"
      ]
    },
    {
      "cell_type": "code",
      "execution_count": 3,
      "metadata": {
        "id": "YLRnuR_MlmTn"
      },
      "outputs": [],
      "source": [
        "wine = pd.read_csv('/content/wine.data.txt',header=None)"
      ]
    },
    {
      "cell_type": "markdown",
      "metadata": {
        "id": "NxFC6TwOlmTo"
      },
      "source": [
        "### Step 4. Delete the first, fourth, seventh, nineth, eleventh, thirteenth and fourteenth columns"
      ]
    },
    {
      "cell_type": "code",
      "execution_count": 4,
      "metadata": {
        "id": "SUqjbV9ulmTo"
      },
      "outputs": [],
      "source": [
        "wine.drop([0, 3, 6, 8, 10, 12, 13], axis=1, inplace=True)\n"
      ]
    },
    {
      "cell_type": "markdown",
      "metadata": {
        "id": "20MCYybalmTo"
      },
      "source": [
        "### Step 5. Assign the columns as below:\n",
        "\n",
        "The attributes are (donated by Riccardo Leardi, riclea '@' anchem.unige.it):  \n",
        "1) alcohol  \n",
        "2) malic_acid  \n",
        "3) alcalinity_of_ash  \n",
        "4) magnesium  \n",
        "5) flavanoids  \n",
        "6) proanthocyanins  \n",
        "7) hue"
      ]
    },
    {
      "cell_type": "code",
      "execution_count": 5,
      "metadata": {
        "id": "oOMsq3T5lmTp"
      },
      "outputs": [],
      "source": [
        "wine.columns = ['alcohol', 'malic_acid', 'alcalinity_of_ash', 'magnesium', 'flavanoids', 'proanthocyanins', 'hue']\n"
      ]
    },
    {
      "cell_type": "markdown",
      "metadata": {
        "id": "OOtzVH-MlmTp"
      },
      "source": [
        "### Step 6. Set the values of the first 3 rows from alcohol as NaN"
      ]
    },
    {
      "cell_type": "code",
      "execution_count": 6,
      "metadata": {
        "id": "T5oK1jBHlmTq"
      },
      "outputs": [],
      "source": [
        "wine.loc[0:2, 'alcohol'] = None\n"
      ]
    },
    {
      "cell_type": "markdown",
      "metadata": {
        "id": "M3AQJ-LvlmTq"
      },
      "source": [
        "### Step 7. Now set the value of the rows 3 and 4 of magnesium as NaN"
      ]
    },
    {
      "cell_type": "code",
      "execution_count": 7,
      "metadata": {
        "id": "7AHrf2ljlmTq"
      },
      "outputs": [],
      "source": [
        "wine.loc[3:4, 'magnesium'] = None\n"
      ]
    },
    {
      "cell_type": "markdown",
      "metadata": {
        "id": "sH5PsrpzlmTq"
      },
      "source": [
        "### Step 8. Fill the value of NaN with the number 10 in alcohol and 100 in magnesium"
      ]
    },
    {
      "cell_type": "code",
      "execution_count": 8,
      "metadata": {
        "colab": {
          "base_uri": "https://localhost:8080/"
        },
        "id": "Z1Y0ay6rlmTr",
        "outputId": "8536dc65-6517-420b-f92f-7021a60ed45c"
      },
      "outputs": [
        {
          "output_type": "stream",
          "name": "stderr",
          "text": [
            "<ipython-input-8-35a0a02d7287>:1: FutureWarning: A value is trying to be set on a copy of a DataFrame or Series through chained assignment using an inplace method.\n",
            "The behavior will change in pandas 3.0. This inplace method will never work because the intermediate object on which we are setting values always behaves as a copy.\n",
            "\n",
            "For example, when doing 'df[col].method(value, inplace=True)', try using 'df.method({col: value}, inplace=True)' or df[col] = df[col].method(value) instead, to perform the operation inplace on the original object.\n",
            "\n",
            "\n",
            "  wine['alcohol'].fillna(10, inplace=True)\n",
            "<ipython-input-8-35a0a02d7287>:2: FutureWarning: A value is trying to be set on a copy of a DataFrame or Series through chained assignment using an inplace method.\n",
            "The behavior will change in pandas 3.0. This inplace method will never work because the intermediate object on which we are setting values always behaves as a copy.\n",
            "\n",
            "For example, when doing 'df[col].method(value, inplace=True)', try using 'df.method({col: value}, inplace=True)' or df[col] = df[col].method(value) instead, to perform the operation inplace on the original object.\n",
            "\n",
            "\n",
            "  wine['magnesium'].fillna(100, inplace=True)\n"
          ]
        }
      ],
      "source": [
        "wine['alcohol'].fillna(10, inplace=True)\n",
        "wine['magnesium'].fillna(100, inplace=True)\n"
      ]
    },
    {
      "cell_type": "markdown",
      "metadata": {
        "id": "QJEimvwylmTr"
      },
      "source": [
        "### Step 9. Count the number of missing values"
      ]
    },
    {
      "cell_type": "code",
      "execution_count": 9,
      "metadata": {
        "colab": {
          "base_uri": "https://localhost:8080/"
        },
        "id": "RxGEgqvHlmTr",
        "outputId": "51e4233d-9f5c-45b5-f9ff-ec0f0360699c"
      },
      "outputs": [
        {
          "output_type": "stream",
          "name": "stdout",
          "text": [
            "alcohol              0\n",
            "malic_acid           0\n",
            "alcalinity_of_ash    0\n",
            "magnesium            0\n",
            "flavanoids           0\n",
            "proanthocyanins      0\n",
            "hue                  0\n",
            "dtype: int64\n"
          ]
        }
      ],
      "source": [
        "print(wine.isnull().sum())\n"
      ]
    },
    {
      "cell_type": "markdown",
      "metadata": {
        "id": "wvKpPKuclmTr"
      },
      "source": [
        "### Step 10.  Create an array of 10 random numbers up until 10"
      ]
    },
    {
      "cell_type": "code",
      "execution_count": 10,
      "metadata": {
        "colab": {
          "base_uri": "https://localhost:8080/"
        },
        "id": "RAEOusOslmTs",
        "outputId": "34ce8e0b-4b7d-47fd-f3f4-7086469dcd30"
      },
      "outputs": [
        {
          "output_type": "stream",
          "name": "stdout",
          "text": [
            "[ 7  8 10  1  3  2  0  2  7  6]\n"
          ]
        }
      ],
      "source": [
        "random_numbers = np.random.randint(0, 11, 10)\n",
        "print(random_numbers)\n"
      ]
    },
    {
      "cell_type": "markdown",
      "metadata": {
        "id": "zDdGPYgklmTs"
      },
      "source": [
        "### Step 11.  Use random numbers you generated as an index and assign NaN value to each of cell."
      ]
    },
    {
      "cell_type": "code",
      "execution_count": 11,
      "metadata": {
        "id": "LNo_Z9eQlmTs"
      },
      "outputs": [],
      "source": [
        "wine.iloc[random_numbers] = None\n"
      ]
    },
    {
      "cell_type": "markdown",
      "metadata": {
        "id": "mS0_KtJHlmTs"
      },
      "source": [
        "### Step 12.  How many missing values do we have?"
      ]
    },
    {
      "cell_type": "code",
      "execution_count": 12,
      "metadata": {
        "colab": {
          "base_uri": "https://localhost:8080/"
        },
        "id": "pbXj-UlRlmTt",
        "outputId": "96c04e4c-3c2f-4917-e751-d9b39cae8a3d"
      },
      "outputs": [
        {
          "output_type": "stream",
          "name": "stdout",
          "text": [
            "56\n"
          ]
        }
      ],
      "source": [
        "print(wine.isnull().sum().sum())\n"
      ]
    },
    {
      "cell_type": "markdown",
      "metadata": {
        "id": "XDufqvyRlmTt"
      },
      "source": [
        "### Step 13. Delete the rows that contain missing values"
      ]
    },
    {
      "cell_type": "code",
      "execution_count": 13,
      "metadata": {
        "id": "eP6_U7GblmTt"
      },
      "outputs": [],
      "source": [
        "wine.dropna(inplace=True)\n"
      ]
    },
    {
      "cell_type": "markdown",
      "metadata": {
        "id": "TR2SR4falmTt"
      },
      "source": [
        "### Step 14. Print only the non-null values in alcohol"
      ]
    },
    {
      "cell_type": "code",
      "execution_count": 14,
      "metadata": {
        "colab": {
          "base_uri": "https://localhost:8080/"
        },
        "id": "NKDjeDEHlmTt",
        "outputId": "586bcf1c-7f34-43dc-e3b8-d2486f52f381"
      },
      "outputs": [
        {
          "output_type": "stream",
          "name": "stdout",
          "text": [
            "4      13.24\n",
            "5      14.20\n",
            "9      13.86\n",
            "11     14.12\n",
            "12     13.75\n",
            "       ...  \n",
            "173    13.71\n",
            "174    13.40\n",
            "175    13.27\n",
            "176    13.17\n",
            "177    14.13\n",
            "Name: alcohol, Length: 170, dtype: float64\n"
          ]
        }
      ],
      "source": [
        "print(wine['alcohol'].dropna())\n"
      ]
    },
    {
      "cell_type": "markdown",
      "metadata": {
        "id": "cttVwwV8lmTu"
      },
      "source": [
        "### Step 15.  Reset the index, so it starts with 0 again"
      ]
    },
    {
      "cell_type": "code",
      "execution_count": 15,
      "metadata": {
        "id": "YkeLifQrlmTu"
      },
      "outputs": [],
      "source": [
        "wine.reset_index(drop=True, inplace=True)\n"
      ]
    },
    {
      "cell_type": "markdown",
      "metadata": {
        "id": "t_0LSybPlmTu"
      },
      "source": [
        "### BONUS: Create your own question and answer it."
      ]
    },
    {
      "cell_type": "markdown",
      "source": [
        "What is the average value of flavanoids"
      ],
      "metadata": {
        "id": "7Nucb5TpnFNn"
      }
    },
    {
      "cell_type": "code",
      "execution_count": 16,
      "metadata": {
        "collapsed": true,
        "colab": {
          "base_uri": "https://localhost:8080/"
        },
        "id": "2dJnMfP4lmTv",
        "outputId": "91535874-00bc-46f7-c0c5-0b7f6d47db4c"
      },
      "outputs": [
        {
          "output_type": "stream",
          "name": "stdout",
          "text": [
            "The average flavanoids value is: 1.984294117647059\n"
          ]
        }
      ],
      "source": [
        "avg_flavanoids = wine['flavanoids'].mean()\n",
        "print(f\"The average flavanoids value is: {avg_flavanoids}\")\n"
      ]
    },
    {
      "cell_type": "code",
      "source": [],
      "metadata": {
        "id": "YL9AFAzvnESd"
      },
      "execution_count": null,
      "outputs": []
    }
  ],
  "metadata": {
    "kernelspec": {
      "display_name": "Python [default]",
      "language": "python",
      "name": "python2"
    },
    "language_info": {
      "codemirror_mode": {
        "name": "ipython",
        "version": 2
      },
      "file_extension": ".py",
      "mimetype": "text/x-python",
      "name": "python",
      "nbconvert_exporter": "python",
      "pygments_lexer": "ipython2",
      "version": "2.7.12"
    },
    "colab": {
      "provenance": [],
      "include_colab_link": true
    }
  },
  "nbformat": 4,
  "nbformat_minor": 0
}