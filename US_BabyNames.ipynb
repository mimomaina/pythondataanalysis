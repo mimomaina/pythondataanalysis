{
  "cells": [
    {
      "cell_type": "markdown",
      "metadata": {
        "id": "view-in-github",
        "colab_type": "text"
      },
      "source": [
        "<a href=\"https://colab.research.google.com/github/mimomaina/pythondataanalysis/blob/main/US_BabyNames.ipynb\" target=\"_parent\"><img src=\"https://colab.research.google.com/assets/colab-badge.svg\" alt=\"Open In Colab\"/></a>"
      ]
    },
    {
      "cell_type": "markdown",
      "metadata": {
        "id": "FsYQDIzc18Hp"
      },
      "source": [
        "# US - Baby Names"
      ]
    },
    {
      "cell_type": "markdown",
      "metadata": {
        "id": "I-mf0zEm18Hx"
      },
      "source": [
        "### Introduction:\n",
        "\n",
        "We are going to use a subset of [US Baby Names](https://www.kaggle.com/kaggle/us-baby-names) from Kaggle.  \n",
        "In the file it will be names from 2004 until 2014\n",
        "\n",
        "\n",
        "### Step 1. Import the necessary libraries"
      ]
    },
    {
      "cell_type": "code",
      "execution_count": 1,
      "metadata": {
        "id": "kDeHQcQC18H0"
      },
      "outputs": [],
      "source": [
        "import pandas as pd"
      ]
    },
    {
      "cell_type": "markdown",
      "metadata": {
        "id": "AmXjaT_j18H2"
      },
      "source": [
        "### Step 2. Import the dataset from this [address](https://raw.githubusercontent.com/guipsamora/pandas_exercises/master/06_Stats/US_Baby_Names/US_Baby_Names_right.csv)."
      ]
    },
    {
      "cell_type": "markdown",
      "metadata": {
        "id": "eLK_NyEL18H3"
      },
      "source": [
        "### Step 3. Assign it to a variable called baby_names."
      ]
    },
    {
      "cell_type": "code",
      "execution_count": 2,
      "metadata": {
        "id": "00_nmAUt18H4"
      },
      "outputs": [],
      "source": [
        "baby_names = pd.read_csv('/content/StateNames.csv')"
      ]
    },
    {
      "cell_type": "markdown",
      "metadata": {
        "id": "18CgWQy_18H5"
      },
      "source": [
        "### Step 4. See the first 10 entries"
      ]
    },
    {
      "cell_type": "code",
      "execution_count": 3,
      "metadata": {
        "colab": {
          "base_uri": "https://localhost:8080/"
        },
        "id": "CQyB6GPY18H5",
        "outputId": "051b0a00-fd39-4828-9545-52aa1487311a"
      },
      "outputs": [
        {
          "output_type": "stream",
          "name": "stdout",
          "text": [
            "   Id      Name  Year Gender State  Count\n",
            "0   1      Mary  1910      F    AK   14.0\n",
            "1   2     Annie  1910      F    AK   12.0\n",
            "2   3      Anna  1910      F    AK   10.0\n",
            "3   4  Margaret  1910      F    AK    8.0\n",
            "4   5     Helen  1910      F    AK    7.0\n",
            "5   6     Elsie  1910      F    AK    6.0\n",
            "6   7      Lucy  1910      F    AK    6.0\n",
            "7   8   Dorothy  1910      F    AK    5.0\n",
            "8   9      Mary  1911      F    AK   12.0\n",
            "9  10  Margaret  1911      F    AK    7.0\n"
          ]
        }
      ],
      "source": [
        "print(baby_names.head(10))\n"
      ]
    },
    {
      "cell_type": "markdown",
      "metadata": {
        "id": "jMviR8Qv18H6"
      },
      "source": [
        "### Step 5. Delete the column 'Unnamed: 0' and 'Id'"
      ]
    },
    {
      "cell_type": "code",
      "execution_count": 4,
      "metadata": {
        "id": "mI1bcPIc18H7"
      },
      "outputs": [],
      "source": [
        "baby_names = baby_names.drop(columns=['Unnamed: 0', 'Id'], errors='ignore')\n"
      ]
    },
    {
      "cell_type": "markdown",
      "metadata": {
        "id": "jE2-97Md18H8"
      },
      "source": [
        "### Step 6. Is there more male or female names in the dataset?"
      ]
    },
    {
      "cell_type": "code",
      "execution_count": 5,
      "metadata": {
        "colab": {
          "base_uri": "https://localhost:8080/"
        },
        "id": "gDSfrMNT18H8",
        "outputId": "cbf51e17-5b8f-4e2f-ab02-fddd1e2f6004"
      },
      "outputs": [
        {
          "output_type": "stream",
          "name": "stdout",
          "text": [
            "Male names: 1162622\n",
            "Female names: 1537490\n",
            "There are more female names in the dataset.\n"
          ]
        }
      ],
      "source": [
        "gender_count = baby_names['Gender'].value_counts()\n",
        "print(f\"Male names: {gender_count.get('M', 0)}\")\n",
        "print(f\"Female names: {gender_count.get('F', 0)}\")\n",
        "\n",
        "if gender_count.get('M', 0) > gender_count.get('F', 0):\n",
        "    print(\"There are more male names in the dataset.\")\n",
        "else:\n",
        "    print(\"There are more female names in the dataset.\")\n"
      ]
    },
    {
      "cell_type": "markdown",
      "metadata": {
        "id": "BbuNTd9E18H9"
      },
      "source": [
        "### Step 7. Group the dataset by name and assign to names"
      ]
    },
    {
      "cell_type": "code",
      "execution_count": 6,
      "metadata": {
        "colab": {
          "base_uri": "https://localhost:8080/"
        },
        "id": "JlSyNlkK18H9",
        "outputId": "4997a69f-95ae-4a80-b12b-390bfcbb557b"
      },
      "outputs": [
        {
          "output_type": "stream",
          "name": "stdout",
          "text": [
            "           Year   Count\n",
            "Name                   \n",
            "Aadan      6031    18.0\n",
            "Aadarsh    2009     5.0\n",
            "Aaden    186937  1743.0\n",
            "Aadhav     2014     6.0\n",
            "Aadhya    40254   217.0\n"
          ]
        }
      ],
      "source": [
        "names = baby_names.groupby('Name').sum(numeric_only=True)\n",
        "print(names.head())\n"
      ]
    },
    {
      "cell_type": "markdown",
      "metadata": {
        "id": "gQA3NL1F18H-"
      },
      "source": [
        "### Step 8. How many different names exist in the dataset?"
      ]
    },
    {
      "cell_type": "code",
      "execution_count": 7,
      "metadata": {
        "colab": {
          "base_uri": "https://localhost:8080/"
        },
        "id": "0LFqLJhD18H-",
        "outputId": "c5a1f932-8ffc-4720-f203-5d120ae16833"
      },
      "outputs": [
        {
          "output_type": "stream",
          "name": "stdout",
          "text": [
            "There are 24528 different names in the dataset.\n"
          ]
        }
      ],
      "source": [
        "unique_names_count = baby_names['Name'].nunique()\n",
        "print(f\"There are {unique_names_count} different names in the dataset.\")\n"
      ]
    },
    {
      "cell_type": "markdown",
      "metadata": {
        "id": "uLqqEXBB18H_"
      },
      "source": [
        "### Step 9. What is the name with most occurrences?"
      ]
    },
    {
      "cell_type": "code",
      "execution_count": 8,
      "metadata": {
        "colab": {
          "base_uri": "https://localhost:8080/"
        },
        "id": "u1AxnhDw18H_",
        "outputId": "477c515c-a4ce-4ff5-8860-f450ac68492e"
      },
      "outputs": [
        {
          "output_type": "stream",
          "name": "stdout",
          "text": [
            "The name with the most occurrences is 'James' with 2173368.0 occurrences.\n"
          ]
        }
      ],
      "source": [
        "most_common_name = names['Count'].idxmax()\n",
        "most_common_count = names['Count'].max()\n",
        "print(f\"The name with the most occurrences is '{most_common_name}' with {most_common_count} occurrences.\")\n"
      ]
    },
    {
      "cell_type": "markdown",
      "metadata": {
        "id": "O2uoa-WF18IA"
      },
      "source": [
        "### Step 10. How many different names have the least occurrences?"
      ]
    },
    {
      "cell_type": "code",
      "execution_count": 9,
      "metadata": {
        "colab": {
          "base_uri": "https://localhost:8080/"
        },
        "id": "sh6uskDw18IA",
        "outputId": "15f9d109-0932-4b00-b9e4-83bade255314"
      },
      "outputs": [
        {
          "output_type": "stream",
          "name": "stdout",
          "text": [
            "Number of names with the least occurrences (5.0): 3728\n"
          ]
        }
      ],
      "source": [
        "least_occurrence_count = names['Count'].min()\n",
        "least_common_names = names[names['Count'] == least_occurrence_count]\n",
        "print(f\"Number of names with the least occurrences ({least_occurrence_count}): {len(least_common_names)}\")\n"
      ]
    },
    {
      "cell_type": "markdown",
      "metadata": {
        "id": "Nlhw7DQ118IA"
      },
      "source": [
        "### Step 11. What is the median name occurrence?"
      ]
    },
    {
      "cell_type": "code",
      "execution_count": 10,
      "metadata": {
        "colab": {
          "base_uri": "https://localhost:8080/"
        },
        "id": "5Rl9782G18IB",
        "outputId": "e2855b41-4dce-4924-8210-aa70922c0c6c"
      },
      "outputs": [
        {
          "output_type": "stream",
          "name": "stdout",
          "text": [
            "The median name occurrence is: 48.0\n"
          ]
        }
      ],
      "source": [
        "median_occurrence = names['Count'].median()\n",
        "print(f\"The median name occurrence is: {median_occurrence}\")\n"
      ]
    },
    {
      "cell_type": "markdown",
      "metadata": {
        "id": "xqa_-_c618IB"
      },
      "source": [
        "### Step 12. What is the standard deviation of names?"
      ]
    },
    {
      "cell_type": "code",
      "execution_count": 11,
      "metadata": {
        "colab": {
          "base_uri": "https://localhost:8080/"
        },
        "id": "z4urlh9Y18IC",
        "outputId": "09320fee-d797-402f-9728-f30212ff2859"
      },
      "outputs": [
        {
          "output_type": "stream",
          "name": "stdout",
          "text": [
            "The standard deviation of name occurrences is: 47513.43031437322\n"
          ]
        }
      ],
      "source": [
        "std_deviation = names['Count'].std()\n",
        "print(f\"The standard deviation of name occurrences is: {std_deviation}\")\n"
      ]
    },
    {
      "cell_type": "markdown",
      "metadata": {
        "id": "B8luORmW18IC"
      },
      "source": [
        "### Step 13. Get a summary with the mean, min, max, std and quartiles."
      ]
    },
    {
      "cell_type": "code",
      "execution_count": 12,
      "metadata": {
        "colab": {
          "base_uri": "https://localhost:8080/"
        },
        "id": "_RdQLq_H18ID",
        "outputId": "a4f64fdd-6f80-4677-bd0d-8b7f3712e216"
      },
      "outputs": [
        {
          "output_type": "stream",
          "name": "stdout",
          "text": [
            "Summary statistics for name occurrences:\n",
            "count    2.452800e+04\n",
            "mean     5.704112e+03\n",
            "std      4.751343e+04\n",
            "min      5.000000e+00\n",
            "25%      1.000000e+01\n",
            "50%      4.800000e+01\n",
            "75%      3.720000e+02\n",
            "max      2.173368e+06\n",
            "Name: Count, dtype: float64\n"
          ]
        }
      ],
      "source": [
        "summary = names['Count'].describe()\n",
        "print(\"Summary statistics for name occurrences:\")\n",
        "print(summary)\n"
      ]
    },
    {
      "cell_type": "code",
      "source": [],
      "metadata": {
        "id": "xZk8gkeX5xpr"
      },
      "execution_count": null,
      "outputs": []
    }
  ],
  "metadata": {
    "anaconda-cloud": {},
    "kernelspec": {
      "display_name": "Python [default]",
      "language": "python",
      "name": "python2"
    },
    "language_info": {
      "codemirror_mode": {
        "name": "ipython",
        "version": 2
      },
      "file_extension": ".py",
      "mimetype": "text/x-python",
      "name": "python",
      "nbconvert_exporter": "python",
      "pygments_lexer": "ipython2",
      "version": "2.7.11"
    },
    "colab": {
      "provenance": [],
      "include_colab_link": true
    }
  },
  "nbformat": 4,
  "nbformat_minor": 0
}