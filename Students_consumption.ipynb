{
  "cells": [
    {
      "cell_type": "markdown",
      "metadata": {
        "id": "view-in-github",
        "colab_type": "text"
      },
      "source": [
        "<a href=\"https://colab.research.google.com/github/mimomaina/pythondataanalysis/blob/main/Students_consumption.ipynb\" target=\"_parent\"><img src=\"https://colab.research.google.com/assets/colab-badge.svg\" alt=\"Open In Colab\"/></a>"
      ]
    },
    {
      "cell_type": "markdown",
      "metadata": {
        "id": "oHu5gpg27Klg"
      },
      "source": [
        "# Student Alcohol Consumption"
      ]
    },
    {
      "cell_type": "markdown",
      "metadata": {
        "id": "ie2kkHWD7Klk"
      },
      "source": [
        "### Introduction:\n",
        "\n",
        "This time you will download a dataset from the UCI.\n",
        "\n",
        "### Step 1. Import the necessary libraries"
      ]
    },
    {
      "cell_type": "code",
      "execution_count": 1,
      "metadata": {
        "id": "WTwPNX3Q7Kll"
      },
      "outputs": [],
      "source": [
        "import pandas as pd\n",
        "import numpy as np"
      ]
    },
    {
      "cell_type": "markdown",
      "metadata": {
        "id": "ORYuzPuC7Kln"
      },
      "source": [
        "### Step 2. Import the dataset from this [address](https://raw.githubusercontent.com/guipsamora/pandas_exercises/master/04_Apply/Students_Alcohol_Consumption/student-mat.csv)."
      ]
    },
    {
      "cell_type": "markdown",
      "metadata": {
        "id": "07ompPwQ7Klo"
      },
      "source": [
        "### Step 3. Assign it to a variable called df."
      ]
    },
    {
      "cell_type": "code",
      "execution_count": 2,
      "metadata": {
        "id": "63noVj2V7Klo"
      },
      "outputs": [],
      "source": [
        "df = pd.read_csv('/content/student-mat.csv')"
      ]
    },
    {
      "cell_type": "markdown",
      "metadata": {
        "id": "hYnKdJLB7Klp"
      },
      "source": [
        "### Step 4. For the purpose of this exercise slice the dataframe from 'school' until the 'guardian' column"
      ]
    },
    {
      "cell_type": "code",
      "execution_count": 3,
      "metadata": {
        "colab": {
          "base_uri": "https://localhost:8080/"
        },
        "id": "WuVGDzsX7Klp",
        "outputId": "9bfb9e84-fc0a-4b6d-9750-e2ee3f05f0f6"
      },
      "outputs": [
        {
          "output_type": "stream",
          "name": "stdout",
          "text": [
            "    school sex  age address famsize Pstatus  Medu  Fedu      Mjob      Fjob  \\\n",
            "0       GP   F   18       U     GT3       A     4     4   at_home   teacher   \n",
            "1       GP   F   17       U     GT3       T     1     1   at_home     other   \n",
            "2       GP   F   15       U     LE3       T     1     1   at_home     other   \n",
            "3       GP   F   15       U     GT3       T     4     2    health  services   \n",
            "4       GP   F   16       U     GT3       T     3     3     other     other   \n",
            "..     ...  ..  ...     ...     ...     ...   ...   ...       ...       ...   \n",
            "390     MS   M   20       U     LE3       A     2     2  services  services   \n",
            "391     MS   M   17       U     LE3       T     3     1  services  services   \n",
            "392     MS   M   21       R     GT3       T     1     1     other     other   \n",
            "393     MS   M   18       R     LE3       T     3     2  services     other   \n",
            "394     MS   M   19       U     LE3       T     1     1     other   at_home   \n",
            "\n",
            "     reason guardian  \n",
            "0    course   mother  \n",
            "1    course   father  \n",
            "2     other   mother  \n",
            "3      home   mother  \n",
            "4      home   father  \n",
            "..      ...      ...  \n",
            "390  course    other  \n",
            "391  course   mother  \n",
            "392  course    other  \n",
            "393  course   mother  \n",
            "394  course   father  \n",
            "\n",
            "[395 rows x 12 columns]\n"
          ]
        }
      ],
      "source": [
        "# Slice the DataFrame to include columns from 'school' to 'guardian'\n",
        "sliced_df = df.loc[:, 'school':'guardian']\n",
        "\n",
        "# Display the sliced DataFrame\n",
        "print(sliced_df)\n"
      ]
    },
    {
      "cell_type": "markdown",
      "metadata": {
        "id": "3z4IqAeX7Klq"
      },
      "source": [
        "### Step 5. Create a lambda function that will capitalize strings."
      ]
    },
    {
      "cell_type": "code",
      "execution_count": 4,
      "metadata": {
        "colab": {
          "base_uri": "https://localhost:8080/"
        },
        "id": "g19vLuMT7Klq",
        "outputId": "9408c5ec-6e9c-4717-8797-66f4fbad85d9"
      },
      "outputs": [
        {
          "output_type": "stream",
          "name": "stdout",
          "text": [
            "Hello\n"
          ]
        }
      ],
      "source": [
        "# Create a lambda function to capitalize strings\n",
        "capitalize = lambda x: x.capitalize() if isinstance(x, str) else x\n",
        "\n",
        "# Test the lambda function on a string\n",
        "print(capitalize(\"hello\"))\n"
      ]
    },
    {
      "cell_type": "markdown",
      "metadata": {
        "id": "XH3M3JIr7Klr"
      },
      "source": [
        "### Step 6. Capitalize both Mjob and Fjob"
      ]
    },
    {
      "cell_type": "code",
      "execution_count": 5,
      "metadata": {
        "colab": {
          "base_uri": "https://localhost:8080/"
        },
        "id": "b2yF-yKG7Klr",
        "outputId": "967eb37d-623a-4792-962b-af2b69f92795"
      },
      "outputs": [
        {
          "output_type": "stream",
          "name": "stdout",
          "text": [
            "      Mjob      Fjob\n",
            "0  At_home   Teacher\n",
            "1  At_home     Other\n",
            "2  At_home     Other\n",
            "3   Health  Services\n",
            "4    Other     Other\n"
          ]
        }
      ],
      "source": [
        "# Apply the capitalize function to the 'Mjob' and 'Fjob' columns\n",
        "df['Mjob'] = df['Mjob'].apply(capitalize)\n",
        "df['Fjob'] = df['Fjob'].apply(capitalize)\n",
        "\n",
        "# Display the updated DataFrame\n",
        "print(df[['Mjob', 'Fjob']].head())\n"
      ]
    },
    {
      "cell_type": "markdown",
      "metadata": {
        "id": "8-8nSi077Kls"
      },
      "source": [
        "### Step 7. Print the last elements of the data set."
      ]
    },
    {
      "cell_type": "code",
      "execution_count": 7,
      "metadata": {
        "colab": {
          "base_uri": "https://localhost:8080/"
        },
        "id": "UYRHReZ77Kls",
        "outputId": "0079b6e5-e095-4cfb-836a-51e6ef1b7384"
      },
      "outputs": [
        {
          "output_type": "stream",
          "name": "stdout",
          "text": [
            "    school sex  age address famsize Pstatus  Medu  Fedu      Mjob      Fjob  \\\n",
            "390     MS   M   20       U     LE3       A     2     2  Services  Services   \n",
            "391     MS   M   17       U     LE3       T     3     1  Services  Services   \n",
            "392     MS   M   21       R     GT3       T     1     1     Other     Other   \n",
            "393     MS   M   18       R     LE3       T     3     2  Services     Other   \n",
            "394     MS   M   19       U     LE3       T     1     1     Other   At_home   \n",
            "\n",
            "     ... famrel freetime  goout  Dalc  Walc health absences  G1  G2  G3  \n",
            "390  ...      5        5      4     4     5      4       11   9   9   9  \n",
            "391  ...      2        4      5     3     4      2        3  14  16  16  \n",
            "392  ...      5        5      3     3     3      3        3  10   8   7  \n",
            "393  ...      4        4      1     3     4      5        0  11  12  10  \n",
            "394  ...      3        2      3     3     3      5        5   8   9   9  \n",
            "\n",
            "[5 rows x 33 columns]\n"
          ]
        }
      ],
      "source": [
        "# Print the last 5 rows of the DataFrame\n",
        "print(df.tail(5))\n"
      ]
    },
    {
      "cell_type": "markdown",
      "metadata": {
        "id": "73-YZ64b7Klt"
      },
      "source": [
        "### Step 8. Did you notice the original dataframe is still lowercase? Why is that? Fix it and capitalize Mjob and Fjob."
      ]
    },
    {
      "cell_type": "markdown",
      "source": [
        "The reason the original DataFrame remains unchanged is that the apply() function operates on a copy of the column, and without reassigning the result, the original DataFrame isn't updated"
      ],
      "metadata": {
        "id": "2gjZq9Ab8ppH"
      }
    },
    {
      "cell_type": "code",
      "execution_count": 8,
      "metadata": {
        "colab": {
          "base_uri": "https://localhost:8080/"
        },
        "id": "5pYorkMJ7Klt",
        "outputId": "0f7b50aa-d1ef-49b2-84cc-97f943784162"
      },
      "outputs": [
        {
          "output_type": "stream",
          "name": "stdout",
          "text": [
            "      Mjob      Fjob\n",
            "0  At_home   Teacher\n",
            "1  At_home     Other\n",
            "2  At_home     Other\n",
            "3   Health  Services\n",
            "4    Other     Other\n"
          ]
        }
      ],
      "source": [
        "# Reassign the capitalized values back to the columns\n",
        "df['Mjob'] = df['Mjob'].apply(capitalize)\n",
        "df['Fjob'] = df['Fjob'].apply(capitalize)\n",
        "\n",
        "print(df[['Mjob', 'Fjob']].head())\n"
      ]
    },
    {
      "cell_type": "markdown",
      "metadata": {
        "id": "3P5DaN9H7Klt"
      },
      "source": [
        "### Step 9. Create a function called majority that returns a boolean value to a new column called legal_drinker (Consider majority as older than 17 years old)"
      ]
    },
    {
      "cell_type": "code",
      "execution_count": 9,
      "metadata": {
        "colab": {
          "base_uri": "https://localhost:8080/"
        },
        "id": "1PvUghyv7Klu",
        "outputId": "c0549c04-8ecd-4681-cf26-e9d5aa36fe5a"
      },
      "outputs": [
        {
          "output_type": "stream",
          "name": "stdout",
          "text": [
            "   age  legal_drinker\n",
            "0   18           True\n",
            "1   17          False\n",
            "2   15          False\n",
            "3   15          False\n",
            "4   16          False\n"
          ]
        }
      ],
      "source": [
        "# Define the majority function\n",
        "def majority(age):\n",
        "    return age > 17\n",
        "\n",
        "# Apply the function to create a new column 'legal_drinker'\n",
        "df['legal_drinker'] = df['age'].apply(majority)\n",
        "\n",
        "# Display the new column\n",
        "print(df[['age', 'legal_drinker']].head())\n"
      ]
    },
    {
      "cell_type": "markdown",
      "metadata": {
        "id": "ZXiMH68L7Klu"
      },
      "source": [
        "### Step 10. Multiply every number of the dataset by 10.\n",
        "##### I know this makes no sense, don't forget it is just an exercise"
      ]
    },
    {
      "cell_type": "code",
      "execution_count": 10,
      "metadata": {
        "colab": {
          "base_uri": "https://localhost:8080/"
        },
        "id": "be69Fqee7Klv",
        "outputId": "c5c03029-59e3-4b9b-b2d0-93063953e771"
      },
      "outputs": [
        {
          "output_type": "stream",
          "name": "stdout",
          "text": [
            "  school sex  age address famsize Pstatus  Medu  Fedu     Mjob      Fjob  ...  \\\n",
            "0     GP   F  180       U     GT3       A    40    40  At_home   Teacher  ...   \n",
            "1     GP   F  170       U     GT3       T    10    10  At_home     Other  ...   \n",
            "2     GP   F  150       U     LE3       T    10    10  At_home     Other  ...   \n",
            "3     GP   F  150       U     GT3       T    40    20   Health  Services  ...   \n",
            "4     GP   F  160       U     GT3       T    30    30    Other     Other  ...   \n",
            "\n",
            "  freetime goout  Dalc  Walc  health absences   G1   G2   G3 legal_drinker  \n",
            "0       30    40    10    10      30       60   50   60   60          True  \n",
            "1       30    30    10    10      30       40   50   50   60         False  \n",
            "2       30    20    20    30      30      100   70   80  100         False  \n",
            "3       20    20    10    10      50       20  150  140  150         False  \n",
            "4       30    20    10    20      50       40   60  100  100         False  \n",
            "\n",
            "[5 rows x 34 columns]\n"
          ]
        }
      ],
      "source": [
        "# Multiply every numeric value in the DataFrame by 10\n",
        "df_numeric = df.select_dtypes(include='number') * 10\n",
        "\n",
        "# Replace the numeric columns in the original dataframe with the updated values\n",
        "df[df_numeric.columns] = df_numeric\n",
        "\n",
        "# Display the updated DataFrame\n",
        "print(df.head())\n"
      ]
    },
    {
      "cell_type": "code",
      "execution_count": null,
      "metadata": {
        "id": "dte5smLi7Klv"
      },
      "outputs": [],
      "source": []
    }
  ],
  "metadata": {
    "anaconda-cloud": {},
    "kernelspec": {
      "display_name": "Python [default]",
      "language": "python",
      "name": "python2"
    },
    "language_info": {
      "codemirror_mode": {
        "name": "ipython",
        "version": 2
      },
      "file_extension": ".py",
      "mimetype": "text/x-python",
      "name": "python",
      "nbconvert_exporter": "python",
      "pygments_lexer": "ipython2",
      "version": "2.7.12"
    },
    "colab": {
      "provenance": [],
      "include_colab_link": true
    }
  },
  "nbformat": 4,
  "nbformat_minor": 0
}