{
  "cells": [
    {
      "cell_type": "markdown",
      "metadata": {
        "id": "view-in-github",
        "colab_type": "text"
      },
      "source": [
        "<a href=\"https://colab.research.google.com/github/mimomaina/pythondataanalysis/blob/main/Pandasalcohol.ipynb\" target=\"_parent\"><img src=\"https://colab.research.google.com/assets/colab-badge.svg\" alt=\"Open In Colab\"/></a>"
      ]
    },
    {
      "cell_type": "markdown",
      "metadata": {
        "id": "S3kS1GFaxwDd"
      },
      "source": [
        "# Ex - GroupBy"
      ]
    },
    {
      "cell_type": "markdown",
      "metadata": {
        "id": "8mFKtv4cxwDj"
      },
      "source": [
        "### Introduction:\n",
        "\n",
        "GroupBy can be summarized as Split-Apply-Combine.\n",
        "\n",
        "Special thanks to: https://github.com/justmarkham for sharing the dataset and materials.\n",
        "\n",
        "Check out this [Diagram](http://i.imgur.com/yjNkiwL.png)  \n",
        "### Step 1. Import the necessary libraries"
      ]
    },
    {
      "cell_type": "code",
      "execution_count": 1,
      "metadata": {
        "id": "1LFf2Y7exwDl"
      },
      "outputs": [],
      "source": [
        "import pandas as pd\n",
        "import numpy as np"
      ]
    },
    {
      "cell_type": "markdown",
      "metadata": {
        "id": "VrN5fE4kxwDm"
      },
      "source": [
        "### Step 2. Import the dataset from this [address](https://raw.githubusercontent.com/justmarkham/DAT8/master/data/drinks.csv)."
      ]
    },
    {
      "cell_type": "markdown",
      "metadata": {
        "id": "IfsyTBmFxwDn"
      },
      "source": [
        "### Step 3. Assign it to a variable called drinks."
      ]
    },
    {
      "cell_type": "code",
      "execution_count": 2,
      "metadata": {
        "id": "vbjxuOCRxwDn"
      },
      "outputs": [],
      "source": [
        "drinks = pd.read_csv(\"/content/drinks.csv\")"
      ]
    },
    {
      "cell_type": "markdown",
      "metadata": {
        "id": "E6UAakCexwDn"
      },
      "source": [
        "### Step 4. Which continent drinks more beer on average?"
      ]
    },
    {
      "cell_type": "code",
      "execution_count": 3,
      "metadata": {
        "colab": {
          "base_uri": "https://localhost:8080/"
        },
        "id": "DJSM5jcgxwDn",
        "outputId": "57551cf5-9ed2-4754-83eb-d63f6afae4f6"
      },
      "outputs": [
        {
          "output_type": "stream",
          "name": "stdout",
          "text": [
            "The continent that drinks more beer on average is EU with an average of 193.77777777777777 servings.\n"
          ]
        }
      ],
      "source": [
        "#Calculate average beer consumption by continent\n",
        "average_beer_by_continent = drinks.groupby('continent')['beer_servings'].mean()\n",
        "\n",
        "# Identify the continent with the highest average beer consumption\n",
        "highest_beer_continent = average_beer_by_continent.idxmax()\n",
        "highest_average = average_beer_by_continent.max()\n",
        "\n",
        "# Display the result\n",
        "print(f\"The continent that drinks more beer on average is {highest_beer_continent} with an average of {highest_average} servings.\")"
      ]
    },
    {
      "cell_type": "markdown",
      "metadata": {
        "id": "GqlwRUezxwDo"
      },
      "source": [
        "### Step 5. For each continent print the statistics for wine consumption."
      ]
    },
    {
      "cell_type": "code",
      "execution_count": 4,
      "metadata": {
        "colab": {
          "base_uri": "https://localhost:8080/"
        },
        "id": "JlqyLMzgxwDo",
        "outputId": "1330224b-50bb-49cb-b110-46e30f1986ea"
      },
      "outputs": [
        {
          "output_type": "stream",
          "name": "stdout",
          "text": [
            "           count        mean        std  min   25%    50%     75%    max\n",
            "continent                                                               \n",
            "AF          53.0   16.264151  38.846419  0.0   1.0    2.0   13.00  233.0\n",
            "AS          44.0    9.068182  21.667034  0.0   0.0    1.0    8.00  123.0\n",
            "EU          45.0  142.222222  97.421738  0.0  59.0  128.0  195.00  370.0\n",
            "OC          16.0   35.625000  64.555790  0.0   1.0    8.5   23.25  212.0\n",
            "SA          12.0   62.416667  88.620189  1.0   3.0   12.0   98.50  221.0\n"
          ]
        }
      ],
      "source": [
        "#Print statistics for wine consumption by continent\n",
        "wine_statistics = drinks.groupby('continent')['wine_servings'].describe()\n",
        "\n",
        "# Display the statistics\n",
        "print(wine_statistics)"
      ]
    },
    {
      "cell_type": "markdown",
      "metadata": {
        "id": "e9IO9fUsxwDo"
      },
      "source": [
        "### Step 6. Print the mean alcohol consumption per continent for every column"
      ]
    },
    {
      "cell_type": "code",
      "source": [
        "drinks['continent'] = drinks['continent'].astype('object')\n",
        "\n",
        "#  Select only the numeric columns (beer_servings, spirit_servings, wine_servings, etc.)\n",
        "numeric_columns = ['beer_servings', 'spirit_servings', 'wine_servings', 'total_litres_of_pure_alcohol']\n",
        "\n",
        "# Calculate the mean for each numeric column, grouped by continent\n",
        "mean_consumption_per_continent = drinks.groupby('continent')[numeric_columns].mean()\n",
        "\n",
        "# Display the result\n",
        "print(mean_consumption_per_continent)\n"
      ],
      "metadata": {
        "colab": {
          "base_uri": "https://localhost:8080/"
        },
        "id": "c8FaAWnx1Ssj",
        "outputId": "0b4c4218-33ca-42cf-98ed-cfd929d84884"
      },
      "execution_count": 8,
      "outputs": [
        {
          "output_type": "stream",
          "name": "stdout",
          "text": [
            "           beer_servings  spirit_servings  wine_servings  \\\n",
            "continent                                                  \n",
            "AF             61.471698        16.339623      16.264151   \n",
            "AS             37.045455        60.840909       9.068182   \n",
            "EU            193.777778       132.555556     142.222222   \n",
            "OC             89.687500        58.437500      35.625000   \n",
            "SA            175.083333       114.750000      62.416667   \n",
            "\n",
            "           total_litres_of_pure_alcohol  \n",
            "continent                                \n",
            "AF                             3.007547  \n",
            "AS                             2.170455  \n",
            "EU                             8.617778  \n",
            "OC                             3.381250  \n",
            "SA                             6.308333  \n"
          ]
        }
      ]
    },
    {
      "cell_type": "markdown",
      "metadata": {
        "id": "DNQFjoQnxwDp"
      },
      "source": [
        "### Step 7. Print the median alcohol consumption per continent for every column"
      ]
    },
    {
      "cell_type": "code",
      "execution_count": 9,
      "metadata": {
        "colab": {
          "base_uri": "https://localhost:8080/"
        },
        "id": "AZkY7s71xwDp",
        "outputId": "7f97d686-d325-45d6-9ebc-871e5d613917"
      },
      "outputs": [
        {
          "output_type": "stream",
          "name": "stdout",
          "text": [
            "           beer_servings  spirit_servings  wine_servings  \\\n",
            "continent                                                  \n",
            "AF                  32.0              3.0            2.0   \n",
            "AS                  17.5             16.0            1.0   \n",
            "EU                 219.0            122.0          128.0   \n",
            "OC                  52.5             37.0            8.5   \n",
            "SA                 162.5            108.5           12.0   \n",
            "\n",
            "           total_litres_of_pure_alcohol  \n",
            "continent                                \n",
            "AF                                 2.30  \n",
            "AS                                 1.20  \n",
            "EU                                10.00  \n",
            "OC                                 1.75  \n",
            "SA                                 6.85  \n"
          ]
        }
      ],
      "source": [
        "# Calculate the median alcohol consumption per continent for every column\n",
        "median_consumption_per_continent = drinks.groupby('continent')[numeric_columns].median()\n",
        "\n",
        "# Display the result\n",
        "print(median_consumption_per_continent)\n"
      ]
    },
    {
      "cell_type": "markdown",
      "metadata": {
        "id": "628z1Kb9xwDp"
      },
      "source": [
        "### Step 8. Print the mean, min and max values for spirit consumption.\n",
        "#### This time output a DataFrame"
      ]
    },
    {
      "cell_type": "code",
      "execution_count": 10,
      "metadata": {
        "colab": {
          "base_uri": "https://localhost:8080/"
        },
        "id": "cXtG0ZdNxwDp",
        "outputId": "ea0e4f4f-a9db-4990-a4c9-d0c230a8fbf8"
      },
      "outputs": [
        {
          "output_type": "stream",
          "name": "stdout",
          "text": [
            "                 mean  min  max\n",
            "continent                      \n",
            "AF          16.339623    0  152\n",
            "AS          60.840909    0  326\n",
            "EU         132.555556    0  373\n",
            "OC          58.437500    0  254\n",
            "SA         114.750000   25  302\n"
          ]
        }
      ],
      "source": [
        "# Calculate the mean, min, and max for spirit consumption\n",
        "spirit_stats = drinks.groupby('continent')['spirit_servings'].agg(['mean', 'min', 'max'])\n",
        "\n",
        "# Display the result as a DataFrame\n",
        "print(spirit_stats)\n"
      ]
    }
  ],
  "metadata": {
    "kernelspec": {
      "display_name": "Python 2",
      "language": "python",
      "name": "python2"
    },
    "language_info": {
      "codemirror_mode": {
        "name": "ipython",
        "version": 2
      },
      "file_extension": ".py",
      "mimetype": "text/x-python",
      "name": "python",
      "nbconvert_exporter": "python",
      "pygments_lexer": "ipython2",
      "version": "2.7.16"
    },
    "colab": {
      "provenance": [],
      "include_colab_link": true
    }
  },
  "nbformat": 4,
  "nbformat_minor": 0
}