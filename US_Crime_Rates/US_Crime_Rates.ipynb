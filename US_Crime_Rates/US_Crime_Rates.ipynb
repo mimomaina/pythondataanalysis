{
  "cells": [
    {
      "cell_type": "markdown",
      "metadata": {
        "id": "view-in-github",
        "colab_type": "text"
      },
      "source": [
        "<a href=\"https://colab.research.google.com/github/mimomaina/pythondataanalysis/blob/main/US_Crime_Rates.ipynb\" target=\"_parent\"><img src=\"https://colab.research.google.com/assets/colab-badge.svg\" alt=\"Open In Colab\"/></a>"
      ]
    },
    {
      "cell_type": "markdown",
      "metadata": {
        "id": "wPj0yQzU9i3e"
      },
      "source": [
        "# United States - Crime Rates - 1960 - 2014"
      ]
    },
    {
      "cell_type": "markdown",
      "metadata": {
        "id": "_mqFMr709i3h"
      },
      "source": [
        "### Introduction:\n",
        "\n",
        "This time you will create a data\n",
        "\n",
        "Special thanks to: https://github.com/justmarkham for sharing the dataset and materials.\n",
        "\n",
        "### Step 1. Import the necessary libraries"
      ]
    },
    {
      "cell_type": "code",
      "execution_count": 2,
      "metadata": {
        "id": "aV5ZxH169i3i"
      },
      "outputs": [],
      "source": [
        "import pandas as pd"
      ]
    },
    {
      "cell_type": "markdown",
      "metadata": {
        "id": "As3LDPzu9i3j"
      },
      "source": [
        "### Step 2. Import the dataset from this [address](https://raw.githubusercontent.com/guipsamora/pandas_exercises/master/04_Apply/US_Crime_Rates/US_Crime_Rates_1960_2014.csv)."
      ]
    },
    {
      "cell_type": "markdown",
      "metadata": {
        "id": "USpSvLPD9i3j"
      },
      "source": [
        "### Step 3. Assign it to a variable called crime."
      ]
    },
    {
      "cell_type": "code",
      "execution_count": 3,
      "metadata": {
        "id": "3NrvMFOy9i3k"
      },
      "outputs": [],
      "source": [
        "crime = pd.read_csv('/content/US_Crime_Rates_1960_2014.csv')"
      ]
    },
    {
      "cell_type": "markdown",
      "metadata": {
        "id": "foZH2byK9i3k"
      },
      "source": [
        "### Step 4. What is the type of the columns?"
      ]
    },
    {
      "cell_type": "code",
      "execution_count": 4,
      "metadata": {
        "colab": {
          "base_uri": "https://localhost:8080/"
        },
        "id": "fYw1hw0H9i3k",
        "outputId": "0cc4c137-d85e-44c1-fa89-2355a613f500"
      },
      "outputs": [
        {
          "output_type": "stream",
          "name": "stdout",
          "text": [
            "Year                  int64\n",
            "Population            int64\n",
            "Total                 int64\n",
            "Violent               int64\n",
            "Property              int64\n",
            "Murder                int64\n",
            "Forcible_Rape         int64\n",
            "Robbery               int64\n",
            "Aggravated_assault    int64\n",
            "Burglary              int64\n",
            "Larceny_Theft         int64\n",
            "Vehicle_Theft         int64\n",
            "dtype: object\n"
          ]
        }
      ],
      "source": [
        "print(crime.dtypes)"
      ]
    },
    {
      "cell_type": "markdown",
      "metadata": {
        "id": "PbVC7Uao9i3k"
      },
      "source": [
        "##### Have you noticed that the type of Year is int64. But pandas has a different type to work with Time Series. Let's see it now.\n",
        "\n",
        "### Step 5. Convert the type of the column Year to datetime64"
      ]
    },
    {
      "cell_type": "code",
      "execution_count": 5,
      "metadata": {
        "colab": {
          "base_uri": "https://localhost:8080/"
        },
        "id": "AQOwOpJ09i3l",
        "outputId": "722dd30c-1946-45c7-935e-cc3a870ad00d"
      },
      "outputs": [
        {
          "output_type": "stream",
          "name": "stdout",
          "text": [
            "datetime64[ns]\n"
          ]
        }
      ],
      "source": [
        "crime['Year'] = pd.to_datetime(crime['Year'], format='%Y')\n",
        "\n",
        "print(crime['Year'].dtypes)"
      ]
    },
    {
      "cell_type": "markdown",
      "metadata": {
        "id": "whlEdpWa9i3l"
      },
      "source": [
        "### Step 6. Set the Year column as the index of the dataframe"
      ]
    },
    {
      "cell_type": "code",
      "execution_count": 6,
      "metadata": {
        "colab": {
          "base_uri": "https://localhost:8080/"
        },
        "id": "Buoh1O349i3m",
        "outputId": "ba286319-7893-4bb7-c280-0255d50b4679"
      },
      "outputs": [
        {
          "output_type": "stream",
          "name": "stdout",
          "text": [
            "            Population    Total  Violent  Property  Murder  Forcible_Rape  \\\n",
            "Year                                                                        \n",
            "1960-01-01   179323175  3384200   288460   3095700    9110          17190   \n",
            "1961-01-01   182992000  3488000   289390   3198600    8740          17220   \n",
            "1962-01-01   185771000  3752200   301510   3450700    8530          17550   \n",
            "1963-01-01   188483000  4109500   316970   3792500    8640          17650   \n",
            "1964-01-01   191141000  4564600   364220   4200400    9360          21420   \n",
            "\n",
            "            Robbery  Aggravated_assault  Burglary  Larceny_Theft  \\\n",
            "Year                                                               \n",
            "1960-01-01   107840              154320    912100        1855400   \n",
            "1961-01-01   106670              156760    949600        1913000   \n",
            "1962-01-01   110860              164570    994300        2089600   \n",
            "1963-01-01   116470              174210   1086400        2297800   \n",
            "1964-01-01   130390              203050   1213200        2514400   \n",
            "\n",
            "            Vehicle_Theft  \n",
            "Year                       \n",
            "1960-01-01         328200  \n",
            "1961-01-01         336000  \n",
            "1962-01-01         366800  \n",
            "1963-01-01         408300  \n",
            "1964-01-01         472800  \n"
          ]
        }
      ],
      "source": [
        "crime.set_index('Year', inplace=True)\n",
        "\n",
        "print(crime.head())"
      ]
    },
    {
      "cell_type": "markdown",
      "metadata": {
        "id": "XF6kGH169i3m"
      },
      "source": [
        "### Step 7. Delete the Total column"
      ]
    },
    {
      "cell_type": "code",
      "execution_count": 7,
      "metadata": {
        "colab": {
          "base_uri": "https://localhost:8080/"
        },
        "id": "bldo1t1H9i3m",
        "outputId": "13a155ca-5281-4775-c712-2c62b7974cd6"
      },
      "outputs": [
        {
          "output_type": "stream",
          "name": "stdout",
          "text": [
            "            Population  Violent  Property  Murder  Forcible_Rape  Robbery  \\\n",
            "Year                                                                        \n",
            "1960-01-01   179323175   288460   3095700    9110          17190   107840   \n",
            "1961-01-01   182992000   289390   3198600    8740          17220   106670   \n",
            "1962-01-01   185771000   301510   3450700    8530          17550   110860   \n",
            "1963-01-01   188483000   316970   3792500    8640          17650   116470   \n",
            "1964-01-01   191141000   364220   4200400    9360          21420   130390   \n",
            "\n",
            "            Aggravated_assault  Burglary  Larceny_Theft  Vehicle_Theft  \n",
            "Year                                                                    \n",
            "1960-01-01              154320    912100        1855400         328200  \n",
            "1961-01-01              156760    949600        1913000         336000  \n",
            "1962-01-01              164570    994300        2089600         366800  \n",
            "1963-01-01              174210   1086400        2297800         408300  \n",
            "1964-01-01              203050   1213200        2514400         472800  \n"
          ]
        }
      ],
      "source": [
        "crime.drop('Total', axis=1, inplace=True)\n",
        "\n",
        "print(crime.head())"
      ]
    },
    {
      "cell_type": "markdown",
      "metadata": {
        "id": "y6HCL9HP9i3n"
      },
      "source": [
        "### Step 8. Group the year by decades and sum the values\n",
        "\n",
        "#### Pay attention to the Population column number, summing this column is a mistake"
      ]
    },
    {
      "cell_type": "code",
      "execution_count": 8,
      "metadata": {
        "scrolled": true,
        "colab": {
          "base_uri": "https://localhost:8080/"
        },
        "id": "mjXamveb9i3n",
        "outputId": "0623af9e-166f-498b-f7a5-626faf6f6752"
      },
      "outputs": [
        {
          "output_type": "stream",
          "name": "stdout",
          "text": [
            "         Violent   Property  Murder  Forcible_Rape  Robbery  \\\n",
            "Decade                                                        \n",
            "1960     4134930   45160900  106180         236720  1633510   \n",
            "1970     9607930   91383800  192230         554570  4159020   \n",
            "1980    14074328  117048900  206439         865639  5383109   \n",
            "1990    17527048  119053499  211664         998827  5748930   \n",
            "2000    13968056  100944369  163068         922499  4230366   \n",
            "2010     6072017   44095950   72867         421059  1749809   \n",
            "\n",
            "        Aggravated_assault  Burglary  Larceny_Theft  Vehicle_Theft  \n",
            "Decade                                                              \n",
            "1960               2158520  13321100       26547700        5292100  \n",
            "1970               4702120  28486000       53157800        9739900  \n",
            "1980               7619130  33073494       72040253       11935411  \n",
            "1990              10568963  26750015       77679366       14624418  \n",
            "2000               8652124  21565176       67970291       11412834  \n",
            "2010               3764142  10125170       30401698        3569080  \n"
          ]
        }
      ],
      "source": [
        "crime['Decade'] = (crime.index.year // 10) * 10  # Create a new column for Decades\n",
        "crime_grouped = crime.drop(columns=['Population']).groupby('Decade').sum()\n",
        "\n",
        "print(crime_grouped)"
      ]
    },
    {
      "cell_type": "markdown",
      "metadata": {
        "id": "FXuGwp5d9i3o"
      },
      "source": [
        "### Step 9. What is the most dangerous decade to live in the US?"
      ]
    },
    {
      "cell_type": "code",
      "execution_count": 9,
      "metadata": {
        "colab": {
          "base_uri": "https://localhost:8080/"
        },
        "id": "Zhv-TuJb9i3o",
        "outputId": "d84061be-b884-4b2f-fcb5-c4943a935af7"
      },
      "outputs": [
        {
          "output_type": "stream",
          "name": "stdout",
          "text": [
            "The most dangerous decade to live in the US is the 1990s.\n"
          ]
        }
      ],
      "source": [
        "# Sum the crime statistics for each decade and find the most dangerous decade\n",
        "crime_grouped['Total_Crimes'] = crime_grouped.sum(axis=1)\n",
        "most_dangerous_decade = crime_grouped['Total_Crimes'].idxmax()\n",
        "\n",
        "# Display the most dangerous decade\n",
        "print(f\"The most dangerous decade to live in the US is the {most_dangerous_decade}s.\")"
      ]
    },
    {
      "cell_type": "code",
      "source": [],
      "metadata": {
        "id": "niSCijzf_tUW"
      },
      "execution_count": null,
      "outputs": []
    }
  ],
  "metadata": {
    "anaconda-cloud": {},
    "kernelspec": {
      "display_name": "Python [default]",
      "language": "python",
      "name": "python2"
    },
    "language_info": {
      "codemirror_mode": {
        "name": "ipython",
        "version": 2
      },
      "file_extension": ".py",
      "mimetype": "text/x-python",
      "name": "python",
      "nbconvert_exporter": "python",
      "pygments_lexer": "ipython2",
      "version": "2.7.12"
    },
    "colab": {
      "provenance": [],
      "include_colab_link": true
    }
  },
  "nbformat": 4,
  "nbformat_minor": 0
}