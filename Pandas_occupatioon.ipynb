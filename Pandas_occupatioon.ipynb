{
  "cells": [
    {
      "cell_type": "markdown",
      "metadata": {
        "id": "view-in-github",
        "colab_type": "text"
      },
      "source": [
        "<a href=\"https://colab.research.google.com/github/mimomaina/pythondataanalysis/blob/main/Pandas_occupatioon.ipynb\" target=\"_parent\"><img src=\"https://colab.research.google.com/assets/colab-badge.svg\" alt=\"Open In Colab\"/></a>"
      ]
    },
    {
      "cell_type": "markdown",
      "metadata": {
        "id": "KBy7GLTS2cSq"
      },
      "source": [
        "# Occupation"
      ]
    },
    {
      "cell_type": "markdown",
      "metadata": {
        "id": "MPe60LPo2cSx"
      },
      "source": [
        "### Introduction:\n",
        "\n",
        "Special thanks to: https://github.com/justmarkham for sharing the dataset and materials.\n",
        "\n",
        "### Step 1. Import the necessary libraries"
      ]
    },
    {
      "cell_type": "code",
      "execution_count": 1,
      "metadata": {
        "id": "Jtpf3Ige2cS0"
      },
      "outputs": [],
      "source": [
        "import pandas as pd\n"
      ]
    },
    {
      "cell_type": "markdown",
      "metadata": {
        "id": "_v1JX6Dz2cS1"
      },
      "source": [
        "### Step 2. Import the dataset from this [address](https://raw.githubusercontent.com/justmarkham/DAT8/master/data/u.user)."
      ]
    },
    {
      "cell_type": "markdown",
      "metadata": {
        "id": "BCiohaqH2cS2"
      },
      "source": [
        "### Step 3. Assign it to a variable called users."
      ]
    },
    {
      "cell_type": "code",
      "execution_count": 2,
      "metadata": {
        "id": "9l4J-nJi2cS2"
      },
      "outputs": [],
      "source": [
        "users = pd.read_csv (\"/content/occupation.user\",sep='|')"
      ]
    },
    {
      "cell_type": "markdown",
      "metadata": {
        "id": "TJW7jCn92cS2"
      },
      "source": [
        "### Step 4. Discover what is the mean age per occupation"
      ]
    },
    {
      "cell_type": "code",
      "execution_count": 3,
      "metadata": {
        "colab": {
          "base_uri": "https://localhost:8080/"
        },
        "id": "bZMy4Acq2cS3",
        "outputId": "b7686ef0-c01f-4c3b-a425-ab9ab516f839"
      },
      "outputs": [
        {
          "output_type": "stream",
          "name": "stdout",
          "text": [
            "Index(['user_id', 'age', 'gender', 'occupation', 'zip_code'], dtype='object')\n"
          ]
        }
      ],
      "source": [
        "print(users.columns)\n"
      ]
    },
    {
      "cell_type": "markdown",
      "metadata": {
        "id": "aGp7GPuS2cS3"
      },
      "source": [
        "### Step 5. Discover the Male ratio per occupation and sort it from the most to the least"
      ]
    },
    {
      "cell_type": "code",
      "source": [
        "# Group by 'occupation' and calculate the number of men (M) and total count in each occupation\n",
        "occupation_gender = users.groupby('occupation').agg(\n",
        "    male_count=('gender', lambda x: (x == 'M').sum()),\n",
        "    total_count=('gender', 'size')\n",
        ")\n",
        "\n",
        "# Calculate the male ratio for each occupation\n",
        "occupation_gender['male_ratio'] = occupation_gender['male_count'] / occupation_gender['total_count']\n",
        "\n",
        "# Sort by male ratio in descending order\n",
        "occupation_gender_sorted = occupation_gender.sort_values('male_ratio', ascending=False)\n",
        "\n",
        "# Display the sorted male ratio per occupation\n",
        "print(occupation_gender_sorted[['male_ratio']])\n"
      ],
      "metadata": {
        "colab": {
          "base_uri": "https://localhost:8080/"
        },
        "id": "2RIymRav4EAD",
        "outputId": "ccc66ba2-0091-4fa4-bedb-a702dd324bcd"
      },
      "execution_count": 10,
      "outputs": [
        {
          "output_type": "stream",
          "name": "stdout",
          "text": [
            "               male_ratio\n",
            "occupation               \n",
            "doctor           1.000000\n",
            "engineer         0.970149\n",
            "technician       0.962963\n",
            "retired          0.928571\n",
            "programmer       0.909091\n",
            "executive        0.906250\n",
            "scientist        0.903226\n",
            "entertainment    0.888889\n",
            "lawyer           0.833333\n",
            "salesman         0.750000\n",
            "educator         0.726316\n",
            "student          0.693878\n",
            "other            0.657143\n",
            "marketing        0.615385\n",
            "writer           0.577778\n",
            "none             0.555556\n",
            "administrator    0.544304\n",
            "artist           0.535714\n",
            "librarian        0.431373\n",
            "healthcare       0.312500\n",
            "homemaker        0.142857\n"
          ]
        }
      ]
    },
    {
      "cell_type": "markdown",
      "metadata": {
        "id": "_5hOD3Aq2cS4"
      },
      "source": [
        "### Step 6. For each occupation, calculate the minimum and maximum ages"
      ]
    },
    {
      "cell_type": "code",
      "source": [
        "# Group by 'occupation' and calculate the minimum and maximum age for each occupation\n",
        "age_stats = users.groupby('occupation').agg(\n",
        "    min_age=('age', 'min'),\n",
        "    max_age=('age', 'max')\n",
        ")\n",
        "\n",
        "# Display the results\n",
        "print(age_stats)\n"
      ],
      "metadata": {
        "colab": {
          "base_uri": "https://localhost:8080/"
        },
        "id": "4O2rtyi238FI",
        "outputId": "fa2b2f91-e061-4424-8948-7780f5b62770"
      },
      "execution_count": 9,
      "outputs": [
        {
          "output_type": "stream",
          "name": "stdout",
          "text": [
            "               min_age  max_age\n",
            "occupation                     \n",
            "administrator       21       70\n",
            "artist              19       48\n",
            "doctor              28       64\n",
            "educator            23       63\n",
            "engineer            22       70\n",
            "entertainment       15       50\n",
            "executive           22       69\n",
            "healthcare          22       62\n",
            "homemaker           20       50\n",
            "lawyer              21       53\n",
            "librarian           23       69\n",
            "marketing           24       55\n",
            "none                11       55\n",
            "other               13       64\n",
            "programmer          20       63\n",
            "retired             51       73\n",
            "salesman            18       66\n",
            "scientist           23       55\n",
            "student              7       42\n",
            "technician          21       55\n",
            "writer              18       60\n"
          ]
        }
      ]
    },
    {
      "cell_type": "markdown",
      "metadata": {
        "id": "I6WYfvFV2cS4"
      },
      "source": [
        "### Step 7. For each combination of occupation and gender, calculate the mean age"
      ]
    },
    {
      "cell_type": "code",
      "source": [
        "# Group by both 'occupation' and 'gender', then calculate the mean age for each group\n",
        "mean_age_by_occupation_gender = users.groupby(['occupation', 'gender'])['age'].mean()\n",
        "\n",
        "# Display the results\n",
        "print(mean_age_by_occupation_gender)\n"
      ],
      "metadata": {
        "colab": {
          "base_uri": "https://localhost:8080/"
        },
        "id": "wmj65HYv3yiH",
        "outputId": "49545c69-5f10-4cd3-b075-cd07596365ad"
      },
      "execution_count": 8,
      "outputs": [
        {
          "output_type": "stream",
          "name": "stdout",
          "text": [
            "occupation     gender\n",
            "administrator  F         40.638889\n",
            "               M         37.162791\n",
            "artist         F         30.307692\n",
            "               M         32.333333\n",
            "doctor         M         43.571429\n",
            "educator       F         39.115385\n",
            "               M         43.101449\n",
            "engineer       F         29.500000\n",
            "               M         36.600000\n",
            "entertainment  F         31.000000\n",
            "               M         29.000000\n",
            "executive      F         44.000000\n",
            "               M         38.172414\n",
            "healthcare     F         39.818182\n",
            "               M         45.400000\n",
            "homemaker      F         34.166667\n",
            "               M         23.000000\n",
            "lawyer         F         39.500000\n",
            "               M         36.200000\n",
            "librarian      F         40.000000\n",
            "               M         40.000000\n",
            "marketing      F         37.200000\n",
            "               M         37.875000\n",
            "none           F         36.500000\n",
            "               M         18.600000\n",
            "other          F         35.472222\n",
            "               M         34.028986\n",
            "programmer     F         32.166667\n",
            "               M         33.216667\n",
            "retired        F         70.000000\n",
            "               M         62.538462\n",
            "salesman       F         27.000000\n",
            "               M         38.555556\n",
            "scientist      F         28.333333\n",
            "               M         36.321429\n",
            "student        F         20.750000\n",
            "               M         22.669118\n",
            "technician     F         38.000000\n",
            "               M         32.961538\n",
            "writer         F         37.631579\n",
            "               M         35.346154\n",
            "Name: age, dtype: float64\n"
          ]
        }
      ]
    },
    {
      "cell_type": "markdown",
      "metadata": {
        "id": "AzInmxoU2cS4"
      },
      "source": [
        "### Step 8.  For each occupation present the percentage of women and men"
      ]
    },
    {
      "cell_type": "code",
      "execution_count": 7,
      "metadata": {
        "colab": {
          "base_uri": "https://localhost:8080/"
        },
        "id": "EDo0nYi12cS5",
        "outputId": "07f8b2e6-ffc7-4e1f-fb53-44141bf96136"
      },
      "outputs": [
        {
          "output_type": "stream",
          "name": "stdout",
          "text": [
            "gender         percentage_men  percentage_women\n",
            "occupation                                     \n",
            "administrator       54.430380         45.569620\n",
            "artist              53.571429         46.428571\n",
            "doctor             100.000000          0.000000\n",
            "educator            72.631579         27.368421\n",
            "engineer            97.014925          2.985075\n",
            "entertainment       88.888889         11.111111\n",
            "executive           90.625000          9.375000\n",
            "healthcare          31.250000         68.750000\n",
            "homemaker           14.285714         85.714286\n",
            "lawyer              83.333333         16.666667\n",
            "librarian           43.137255         56.862745\n",
            "marketing           61.538462         38.461538\n",
            "none                55.555556         44.444444\n",
            "other               65.714286         34.285714\n",
            "programmer          90.909091          9.090909\n",
            "retired             92.857143          7.142857\n",
            "salesman            75.000000         25.000000\n",
            "scientist           90.322581          9.677419\n",
            "student             69.387755         30.612245\n",
            "technician          96.296296          3.703704\n",
            "writer              57.777778         42.222222\n"
          ]
        }
      ],
      "source": [
        "# Group by 'occupation' and 'gender' and count the number of men (M) and women (F) in each occupation\n",
        "gender_count = users.groupby(['occupation', 'gender']).size().unstack(fill_value=0)\n",
        "\n",
        "# Calculate the total number of people in each occupation\n",
        "gender_count['total'] = gender_count.sum(axis=1)\n",
        "\n",
        "# Calculate the percentage of men (M) and women (F) in each occupation\n",
        "gender_count['percentage_men'] = (gender_count['M'] / gender_count['total']) * 100\n",
        "gender_count['percentage_women'] = (gender_count['F'] / gender_count['total']) * 100\n",
        "\n",
        "# Display the results\n",
        "print(gender_count[['percentage_men', 'percentage_women']])\n"
      ]
    },
    {
      "cell_type": "code",
      "source": [],
      "metadata": {
        "id": "4DgYKDPx3qca"
      },
      "execution_count": null,
      "outputs": []
    }
  ],
  "metadata": {
    "kernelspec": {
      "display_name": "Python 2",
      "language": "python",
      "name": "python2"
    },
    "language_info": {
      "codemirror_mode": {
        "name": "ipython",
        "version": 2
      },
      "file_extension": ".py",
      "mimetype": "text/x-python",
      "name": "python",
      "nbconvert_exporter": "python",
      "pygments_lexer": "ipython2",
      "version": "2.7.11"
    },
    "colab": {
      "provenance": [],
      "include_colab_link": true
    }
  },
  "nbformat": 4,
  "nbformat_minor": 0
}